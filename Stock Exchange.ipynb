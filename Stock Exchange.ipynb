{
  "nbformat": 4,
  "nbformat_minor": 0,
  "metadata": {
    "kernelspec": {
      "display_name": "Python 3",
      "language": "python",
      "name": "python3"
    },
    "language_info": {
      "codemirror_mode": {
        "name": "ipython",
        "version": 3
      },
      "file_extension": ".py",
      "mimetype": "text/x-python",
      "name": "python",
      "nbconvert_exporter": "python",
      "pygments_lexer": "ipython3",
      "version": "3.7.3"
    },
    "colab": {
      "name": "Main Implementation.ipynb",
      "provenance": [],
      "collapsed_sections": []
    }
  },
  "cells": [
    {
      "cell_type": "markdown",
      "metadata": {
        "id": "m67y2iGBxrum"
      },
      "source": [
        "# **Research paper implementation**"
      ]
    },
    {
      "cell_type": "markdown",
      "metadata": {
        "id": "MO6iYxIE7ZRg"
      },
      "source": [
        "**Done By:**\n",
        "\n",
        "*   Tushar Jindal 18csu218\n",
        "*   Saurabh Chauhan 18csu201\n",
        "*   Vaibhav Saini 18csu225\n",
        "\n"
      ]
    },
    {
      "cell_type": "markdown",
      "metadata": {
        "id": "1d66X31P6uhn"
      },
      "source": [
        "**Importing all the required libraries**"
      ]
    },
    {
      "cell_type": "code",
      "metadata": {
        "id": "5np7nXQwxru0"
      },
      "source": [
        "import pandas as pd\n",
        "import matplotlib.pyplot as plt\n",
        "import seaborn as sns\n",
        "import numpy as np\n",
        "plt.style.use('fivethirtyeight')\n",
        "from sklearn.preprocessing import MinMaxScaler\n",
        "from keras.models import Sequential\n",
        "from keras.layers import Dense, LSTM, Dropout, GRU, Bidirectional\n",
        "from keras.optimizers import SGD\n",
        "import math\n",
        "from sklearn.metrics import mean_squared_error,accuracy_score\n",
        "import tensorflow as tf\n",
        "import keras\n",
        "from keras.callbacks import ModelCheckpoint\n",
        "from keras.callbacks import EarlyStopping\n",
        "from keras.layers.core import Dense, Activation, Flatten, Dropout\n",
        "from keras.optimizers import Adam\n",
        "from keras.layers import Conv1D, Conv2D, MaxPooling2D\n",
        "from sklearn import metrics\n",
        "from sklearn.model_selection import train_test_split\n",
        "from sklearn.metrics import mean_squared_error\n",
        "import csv\n",
        "import collections\n",
        "from datetime import datetime\n"
      ],
      "execution_count": null,
      "outputs": []
    },
    {
      "cell_type": "markdown",
      "metadata": {
        "id": "UE53M8g66Omk"
      },
      "source": [
        "Mounting to google drive to fetch our Dataset"
      ]
    },
    {
      "cell_type": "code",
      "metadata": {
        "colab": {
          "base_uri": "https://localhost:8080/"
        },
        "id": "8s4ZOSGiy0oI",
        "outputId": "f1c7008d-4836-4ba9-f485-28e05cfd00cb"
      },
      "source": [
        "from google.colab import drive\n",
        "drive.mount('/content/drive')"
      ],
      "execution_count": null,
      "outputs": [
        {
          "output_type": "stream",
          "text": [
            "Drive already mounted at /content/drive; to attempt to forcibly remount, call drive.mount(\"/content/drive\", force_remount=True).\n"
          ],
          "name": "stdout"
        }
      ]
    },
    {
      "cell_type": "markdown",
      "metadata": {
        "id": "utQqcAv76csi"
      },
      "source": [
        "**Importing Data**"
      ]
    },
    {
      "cell_type": "code",
      "metadata": {
        "id": "bRZONLmExru1"
      },
      "source": [
        "df=pd.read_csv('/content/drive/MyDrive/RELIANCE.csv')"
      ],
      "execution_count": null,
      "outputs": []
    },
    {
      "cell_type": "code",
      "metadata": {
        "colab": {
          "base_uri": "https://localhost:8080/",
          "height": 402
        },
        "id": "8N9yqnYixru2",
        "outputId": "00c9f8d4-5830-4139-b31f-cf2c904ad685"
      },
      "source": [
        "df"
      ],
      "execution_count": null,
      "outputs": [
        {
          "output_type": "execute_result",
          "data": {
            "text/html": [
              "<div>\n",
              "<style scoped>\n",
              "    .dataframe tbody tr th:only-of-type {\n",
              "        vertical-align: middle;\n",
              "    }\n",
              "\n",
              "    .dataframe tbody tr th {\n",
              "        vertical-align: top;\n",
              "    }\n",
              "\n",
              "    .dataframe thead th {\n",
              "        text-align: right;\n",
              "    }\n",
              "</style>\n",
              "<table border=\"1\" class=\"dataframe\">\n",
              "  <thead>\n",
              "    <tr style=\"text-align: right;\">\n",
              "      <th></th>\n",
              "      <th>Date</th>\n",
              "      <th>Open</th>\n",
              "      <th>Close</th>\n",
              "      <th>Low</th>\n",
              "      <th>High</th>\n",
              "      <th>Volume</th>\n",
              "      <th>Name</th>\n",
              "    </tr>\n",
              "  </thead>\n",
              "  <tbody>\n",
              "    <tr>\n",
              "      <th>0</th>\n",
              "      <td>03-01-2000</td>\n",
              "      <td>237.50</td>\n",
              "      <td>251.70</td>\n",
              "      <td>237.50</td>\n",
              "      <td>251.70</td>\n",
              "      <td>4456424</td>\n",
              "      <td>RELIANCE</td>\n",
              "    </tr>\n",
              "    <tr>\n",
              "      <th>1</th>\n",
              "      <td>04-01-2000</td>\n",
              "      <td>258.40</td>\n",
              "      <td>271.85</td>\n",
              "      <td>251.30</td>\n",
              "      <td>271.85</td>\n",
              "      <td>9487878</td>\n",
              "      <td>RELIANCE</td>\n",
              "    </tr>\n",
              "    <tr>\n",
              "      <th>2</th>\n",
              "      <td>05-01-2000</td>\n",
              "      <td>256.65</td>\n",
              "      <td>282.50</td>\n",
              "      <td>256.65</td>\n",
              "      <td>287.90</td>\n",
              "      <td>26833684</td>\n",
              "      <td>RELIANCE</td>\n",
              "    </tr>\n",
              "    <tr>\n",
              "      <th>3</th>\n",
              "      <td>06-01-2000</td>\n",
              "      <td>289.00</td>\n",
              "      <td>294.35</td>\n",
              "      <td>289.00</td>\n",
              "      <td>300.70</td>\n",
              "      <td>15682286</td>\n",
              "      <td>RELIANCE</td>\n",
              "    </tr>\n",
              "    <tr>\n",
              "      <th>4</th>\n",
              "      <td>07-01-2000</td>\n",
              "      <td>295.00</td>\n",
              "      <td>314.55</td>\n",
              "      <td>293.00</td>\n",
              "      <td>317.90</td>\n",
              "      <td>19870977</td>\n",
              "      <td>RELIANCE</td>\n",
              "    </tr>\n",
              "    <tr>\n",
              "      <th>...</th>\n",
              "      <td>...</td>\n",
              "      <td>...</td>\n",
              "      <td>...</td>\n",
              "      <td>...</td>\n",
              "      <td>...</td>\n",
              "      <td>...</td>\n",
              "      <td>...</td>\n",
              "    </tr>\n",
              "    <tr>\n",
              "      <th>5199</th>\n",
              "      <td>23-11-2020</td>\n",
              "      <td>1951.00</td>\n",
              "      <td>1950.70</td>\n",
              "      <td>1926.25</td>\n",
              "      <td>1970.00</td>\n",
              "      <td>20918665</td>\n",
              "      <td>RELIANCE</td>\n",
              "    </tr>\n",
              "    <tr>\n",
              "      <th>5200</th>\n",
              "      <td>24-11-2020</td>\n",
              "      <td>1964.00</td>\n",
              "      <td>1964.05</td>\n",
              "      <td>1932.00</td>\n",
              "      <td>1974.00</td>\n",
              "      <td>14277083</td>\n",
              "      <td>RELIANCE</td>\n",
              "    </tr>\n",
              "    <tr>\n",
              "      <th>5201</th>\n",
              "      <td>25-11-2020</td>\n",
              "      <td>1980.00</td>\n",
              "      <td>1947.80</td>\n",
              "      <td>1942.20</td>\n",
              "      <td>1992.95</td>\n",
              "      <td>15062376</td>\n",
              "      <td>RELIANCE</td>\n",
              "    </tr>\n",
              "    <tr>\n",
              "      <th>5202</th>\n",
              "      <td>26-11-2020</td>\n",
              "      <td>1953.05</td>\n",
              "      <td>1952.60</td>\n",
              "      <td>1930.05</td>\n",
              "      <td>1965.00</td>\n",
              "      <td>11924527</td>\n",
              "      <td>RELIANCE</td>\n",
              "    </tr>\n",
              "    <tr>\n",
              "      <th>5203</th>\n",
              "      <td>27-11-2020</td>\n",
              "      <td>1940.50</td>\n",
              "      <td>1929.80</td>\n",
              "      <td>1921.40</td>\n",
              "      <td>1956.10</td>\n",
              "      <td>21845931</td>\n",
              "      <td>RELIANCE</td>\n",
              "    </tr>\n",
              "  </tbody>\n",
              "</table>\n",
              "<p>5204 rows × 7 columns</p>\n",
              "</div>"
            ],
            "text/plain": [
              "            Date     Open    Close      Low     High    Volume      Name\n",
              "0     03-01-2000   237.50   251.70   237.50   251.70   4456424  RELIANCE\n",
              "1     04-01-2000   258.40   271.85   251.30   271.85   9487878  RELIANCE\n",
              "2     05-01-2000   256.65   282.50   256.65   287.90  26833684  RELIANCE\n",
              "3     06-01-2000   289.00   294.35   289.00   300.70  15682286  RELIANCE\n",
              "4     07-01-2000   295.00   314.55   293.00   317.90  19870977  RELIANCE\n",
              "...          ...      ...      ...      ...      ...       ...       ...\n",
              "5199  23-11-2020  1951.00  1950.70  1926.25  1970.00  20918665  RELIANCE\n",
              "5200  24-11-2020  1964.00  1964.05  1932.00  1974.00  14277083  RELIANCE\n",
              "5201  25-11-2020  1980.00  1947.80  1942.20  1992.95  15062376  RELIANCE\n",
              "5202  26-11-2020  1953.05  1952.60  1930.05  1965.00  11924527  RELIANCE\n",
              "5203  27-11-2020  1940.50  1929.80  1921.40  1956.10  21845931  RELIANCE\n",
              "\n",
              "[5204 rows x 7 columns]"
            ]
          },
          "metadata": {
            "tags": []
          },
          "execution_count": 7
        }
      ]
    },
    {
      "cell_type": "markdown",
      "metadata": {
        "id": "CTAard7Sxru3"
      },
      "source": [
        "# Data Preprocessing"
      ]
    },
    {
      "cell_type": "code",
      "metadata": {
        "id": "-nHpsH1fxru3"
      },
      "source": [
        "X = df.drop(['Close','Date','Name'],axis=1)\n",
        "y = df['Close']"
      ],
      "execution_count": null,
      "outputs": []
    },
    {
      "cell_type": "code",
      "metadata": {
        "id": "TXv5Ko6Hxru3"
      },
      "source": [
        "from sklearn.model_selection import train_test_split"
      ],
      "execution_count": null,
      "outputs": []
    },
    {
      "cell_type": "code",
      "metadata": {
        "id": "aGvMbq8Qxru4"
      },
      "source": [
        "X_train, X_test, y_train, y_test = train_test_split(X,y,test_size=0.3,random_state=101)"
      ],
      "execution_count": null,
      "outputs": []
    },
    {
      "cell_type": "markdown",
      "metadata": {
        "id": "IzdWypQHxru4"
      },
      "source": [
        "**Scaling**"
      ]
    },
    {
      "cell_type": "code",
      "metadata": {
        "id": "jttTz9JJxru4"
      },
      "source": [
        "from sklearn.preprocessing import MinMaxScaler"
      ],
      "execution_count": null,
      "outputs": []
    },
    {
      "cell_type": "code",
      "metadata": {
        "id": "4BQAFbLpxru4"
      },
      "source": [
        "scaler = MinMaxScaler()"
      ],
      "execution_count": null,
      "outputs": []
    },
    {
      "cell_type": "code",
      "metadata": {
        "id": "XiG7rLfwxru5"
      },
      "source": [
        "X_train= scaler.fit_transform(X_train)"
      ],
      "execution_count": null,
      "outputs": []
    },
    {
      "cell_type": "code",
      "metadata": {
        "id": "J42CjZcKxru5"
      },
      "source": [
        "X_test = scaler.transform(X_test)"
      ],
      "execution_count": null,
      "outputs": []
    },
    {
      "cell_type": "code",
      "metadata": {
        "colab": {
          "base_uri": "https://localhost:8080/"
        },
        "id": "gzwtw3XRxru5",
        "outputId": "09e21809-47be-4974-9a3d-58756feddb0f"
      },
      "source": [
        "X_train.shape"
      ],
      "execution_count": null,
      "outputs": [
        {
          "output_type": "execute_result",
          "data": {
            "text/plain": [
              "(3642, 4)"
            ]
          },
          "metadata": {
            "tags": []
          },
          "execution_count": 15
        }
      ]
    },
    {
      "cell_type": "code",
      "metadata": {
        "colab": {
          "base_uri": "https://localhost:8080/"
        },
        "id": "4QpT5lFRxru5",
        "outputId": "bd7558e5-6fa8-4ea2-cc60-18673f31aa8f"
      },
      "source": [
        "X_test.shape"
      ],
      "execution_count": null,
      "outputs": [
        {
          "output_type": "execute_result",
          "data": {
            "text/plain": [
              "(1562, 4)"
            ]
          },
          "metadata": {
            "tags": []
          },
          "execution_count": 16
        }
      ]
    },
    {
      "cell_type": "code",
      "metadata": {
        "colab": {
          "base_uri": "https://localhost:8080/"
        },
        "id": "EYwKE9QNxru6",
        "outputId": "dd6916e7-f432-42a5-a0fe-ab4f278258d4"
      },
      "source": [
        "y_train.shape"
      ],
      "execution_count": null,
      "outputs": [
        {
          "output_type": "execute_result",
          "data": {
            "text/plain": [
              "(3642,)"
            ]
          },
          "metadata": {
            "tags": []
          },
          "execution_count": 17
        }
      ]
    },
    {
      "cell_type": "code",
      "metadata": {
        "colab": {
          "base_uri": "https://localhost:8080/"
        },
        "id": "ov7SU1qoZ2pV",
        "outputId": "1e2ae620-fbf5-47a8-9974-339ecddcb5de"
      },
      "source": [
        "y_test.shape"
      ],
      "execution_count": null,
      "outputs": [
        {
          "output_type": "execute_result",
          "data": {
            "text/plain": [
              "(1562,)"
            ]
          },
          "metadata": {
            "tags": []
          },
          "execution_count": 18
        }
      ]
    },
    {
      "cell_type": "markdown",
      "metadata": {
        "id": "KdRISub1xru6"
      },
      "source": [
        "# Linear model: multiple linear regression"
      ]
    },
    {
      "cell_type": "code",
      "metadata": {
        "colab": {
          "base_uri": "https://localhost:8080/"
        },
        "id": "G8i0FUsHxru6",
        "outputId": "4bef6fce-459a-4845-ba69-4a81fec034df"
      },
      "source": [
        "from sklearn.linear_model import LinearRegression\n",
        "regressor = LinearRegression()\n",
        "regressor.fit(X_train, y_train)"
      ],
      "execution_count": null,
      "outputs": [
        {
          "output_type": "execute_result",
          "data": {
            "text/plain": [
              "LinearRegression(copy_X=True, fit_intercept=True, n_jobs=None, normalize=False)"
            ]
          },
          "metadata": {
            "tags": []
          },
          "execution_count": 16
        }
      ]
    },
    {
      "cell_type": "code",
      "metadata": {
        "id": "egb1PS8Uxru7"
      },
      "source": [
        "y_pred = regressor.predict(X_test)"
      ],
      "execution_count": null,
      "outputs": []
    },
    {
      "cell_type": "code",
      "metadata": {
        "colab": {
          "base_uri": "https://localhost:8080/"
        },
        "id": "mkHIiz0pxru7",
        "outputId": "33687af2-5b15-4c1d-b20d-27524cfd9285"
      },
      "source": [
        "y_pred"
      ],
      "execution_count": null,
      "outputs": [
        {
          "output_type": "execute_result",
          "data": {
            "text/plain": [
              "array([ 354.38902592, 1103.13800094, 1492.01674752, ...,  731.45406176,\n",
              "       1277.64544072,  477.96545294])"
            ]
          },
          "metadata": {
            "tags": []
          },
          "execution_count": 18
        }
      ]
    },
    {
      "cell_type": "code",
      "metadata": {
        "colab": {
          "base_uri": "https://localhost:8080/"
        },
        "id": "ofEj7Eqbxru7",
        "outputId": "59a8eada-d444-419a-8a54-94e86778f207"
      },
      "source": [
        "from sklearn.metrics import mean_squared_error\n",
        "mean_squared_error(y_test, y_pred)"
      ],
      "execution_count": null,
      "outputs": [
        {
          "output_type": "execute_result",
          "data": {
            "text/plain": [
              "149.4331935033215"
            ]
          },
          "metadata": {
            "tags": []
          },
          "execution_count": 19
        }
      ]
    },
    {
      "cell_type": "code",
      "metadata": {
        "colab": {
          "base_uri": "https://localhost:8080/"
        },
        "id": "siRL7HKIxru7",
        "outputId": "b31d7d63-8059-4e1e-f4ef-80959181caad"
      },
      "source": [
        "np.sqrt(mean_squared_error(y_test, y_pred))"
      ],
      "execution_count": null,
      "outputs": [
        {
          "output_type": "execute_result",
          "data": {
            "text/plain": [
              "12.2242870345604"
            ]
          },
          "metadata": {
            "tags": []
          },
          "execution_count": 20
        }
      ]
    },
    {
      "cell_type": "code",
      "metadata": {
        "colab": {
          "base_uri": "https://localhost:8080/"
        },
        "id": "yzGKf39N4R7f",
        "outputId": "e4cf9375-b599-48e3-a6da-50394fc5f1bd"
      },
      "source": [
        "y_pred.shape"
      ],
      "execution_count": null,
      "outputs": [
        {
          "output_type": "execute_result",
          "data": {
            "text/plain": [
              "(1562,)"
            ]
          },
          "metadata": {
            "tags": []
          },
          "execution_count": 21
        }
      ]
    },
    {
      "cell_type": "markdown",
      "metadata": {
        "id": "HG36mVeBmANE"
      },
      "source": [
        "## Non Linear Model: CNN Sliding Window Model"
      ]
    },
    {
      "cell_type": "code",
      "metadata": {
        "id": "DP2d85m9mANF"
      },
      "source": [
        "df = pd.read_csv('drive/MyDrive/RELIANCE.csv')"
      ],
      "execution_count": null,
      "outputs": []
    },
    {
      "cell_type": "code",
      "metadata": {
        "colab": {
          "base_uri": "https://localhost:8080/",
          "height": 194
        },
        "id": "-KJOZb4RmANG",
        "outputId": "7f138d6c-854b-4a88-cae0-3eebe37c761c"
      },
      "source": [
        "df.head(5)"
      ],
      "execution_count": null,
      "outputs": [
        {
          "output_type": "execute_result",
          "data": {
            "text/html": [
              "<div>\n",
              "<style scoped>\n",
              "    .dataframe tbody tr th:only-of-type {\n",
              "        vertical-align: middle;\n",
              "    }\n",
              "\n",
              "    .dataframe tbody tr th {\n",
              "        vertical-align: top;\n",
              "    }\n",
              "\n",
              "    .dataframe thead th {\n",
              "        text-align: right;\n",
              "    }\n",
              "</style>\n",
              "<table border=\"1\" class=\"dataframe\">\n",
              "  <thead>\n",
              "    <tr style=\"text-align: right;\">\n",
              "      <th></th>\n",
              "      <th>Date</th>\n",
              "      <th>Open</th>\n",
              "      <th>High</th>\n",
              "      <th>Low</th>\n",
              "      <th>Close</th>\n",
              "      <th>Volume</th>\n",
              "      <th>Name</th>\n",
              "    </tr>\n",
              "  </thead>\n",
              "  <tbody>\n",
              "    <tr>\n",
              "      <th>0</th>\n",
              "      <td>2000-01-03</td>\n",
              "      <td>237.50</td>\n",
              "      <td>251.70</td>\n",
              "      <td>237.50</td>\n",
              "      <td>251.70</td>\n",
              "      <td>4456424</td>\n",
              "      <td>RELIANCE</td>\n",
              "    </tr>\n",
              "    <tr>\n",
              "      <th>1</th>\n",
              "      <td>2000-01-04</td>\n",
              "      <td>258.40</td>\n",
              "      <td>271.85</td>\n",
              "      <td>251.30</td>\n",
              "      <td>271.85</td>\n",
              "      <td>9487878</td>\n",
              "      <td>RELIANCE</td>\n",
              "    </tr>\n",
              "    <tr>\n",
              "      <th>2</th>\n",
              "      <td>2000-01-05</td>\n",
              "      <td>256.65</td>\n",
              "      <td>287.90</td>\n",
              "      <td>256.65</td>\n",
              "      <td>282.50</td>\n",
              "      <td>26833684</td>\n",
              "      <td>RELIANCE</td>\n",
              "    </tr>\n",
              "    <tr>\n",
              "      <th>3</th>\n",
              "      <td>2000-01-06</td>\n",
              "      <td>289.00</td>\n",
              "      <td>300.70</td>\n",
              "      <td>289.00</td>\n",
              "      <td>294.35</td>\n",
              "      <td>15682286</td>\n",
              "      <td>RELIANCE</td>\n",
              "    </tr>\n",
              "    <tr>\n",
              "      <th>4</th>\n",
              "      <td>2000-01-07</td>\n",
              "      <td>295.00</td>\n",
              "      <td>317.90</td>\n",
              "      <td>293.00</td>\n",
              "      <td>314.55</td>\n",
              "      <td>19870977</td>\n",
              "      <td>RELIANCE</td>\n",
              "    </tr>\n",
              "  </tbody>\n",
              "</table>\n",
              "</div>"
            ],
            "text/plain": [
              "         Date    Open    High     Low   Close    Volume      Name\n",
              "0  2000-01-03  237.50  251.70  237.50  251.70   4456424  RELIANCE\n",
              "1  2000-01-04  258.40  271.85  251.30  271.85   9487878  RELIANCE\n",
              "2  2000-01-05  256.65  287.90  256.65  282.50  26833684  RELIANCE\n",
              "3  2000-01-06  289.00  300.70  289.00  294.35  15682286  RELIANCE\n",
              "4  2000-01-07  295.00  317.90  293.00  314.55  19870977  RELIANCE"
            ]
          },
          "metadata": {
            "tags": []
          },
          "execution_count": 24
        }
      ]
    },
    {
      "cell_type": "code",
      "metadata": {
        "id": "OCDKvASzmANG"
      },
      "source": [
        "df = df.drop(columns=['Date','Name'])"
      ],
      "execution_count": null,
      "outputs": []
    },
    {
      "cell_type": "code",
      "metadata": {
        "colab": {
          "base_uri": "https://localhost:8080/",
          "height": 194
        },
        "id": "sxqspd1MmANH",
        "outputId": "a635f76f-74fd-477e-b0a2-579a701336c6"
      },
      "source": [
        "df.head()"
      ],
      "execution_count": null,
      "outputs": [
        {
          "output_type": "execute_result",
          "data": {
            "text/html": [
              "<div>\n",
              "<style scoped>\n",
              "    .dataframe tbody tr th:only-of-type {\n",
              "        vertical-align: middle;\n",
              "    }\n",
              "\n",
              "    .dataframe tbody tr th {\n",
              "        vertical-align: top;\n",
              "    }\n",
              "\n",
              "    .dataframe thead th {\n",
              "        text-align: right;\n",
              "    }\n",
              "</style>\n",
              "<table border=\"1\" class=\"dataframe\">\n",
              "  <thead>\n",
              "    <tr style=\"text-align: right;\">\n",
              "      <th></th>\n",
              "      <th>Open</th>\n",
              "      <th>High</th>\n",
              "      <th>Low</th>\n",
              "      <th>Close</th>\n",
              "      <th>Volume</th>\n",
              "    </tr>\n",
              "  </thead>\n",
              "  <tbody>\n",
              "    <tr>\n",
              "      <th>0</th>\n",
              "      <td>237.50</td>\n",
              "      <td>251.70</td>\n",
              "      <td>237.50</td>\n",
              "      <td>251.70</td>\n",
              "      <td>4456424</td>\n",
              "    </tr>\n",
              "    <tr>\n",
              "      <th>1</th>\n",
              "      <td>258.40</td>\n",
              "      <td>271.85</td>\n",
              "      <td>251.30</td>\n",
              "      <td>271.85</td>\n",
              "      <td>9487878</td>\n",
              "    </tr>\n",
              "    <tr>\n",
              "      <th>2</th>\n",
              "      <td>256.65</td>\n",
              "      <td>287.90</td>\n",
              "      <td>256.65</td>\n",
              "      <td>282.50</td>\n",
              "      <td>26833684</td>\n",
              "    </tr>\n",
              "    <tr>\n",
              "      <th>3</th>\n",
              "      <td>289.00</td>\n",
              "      <td>300.70</td>\n",
              "      <td>289.00</td>\n",
              "      <td>294.35</td>\n",
              "      <td>15682286</td>\n",
              "    </tr>\n",
              "    <tr>\n",
              "      <th>4</th>\n",
              "      <td>295.00</td>\n",
              "      <td>317.90</td>\n",
              "      <td>293.00</td>\n",
              "      <td>314.55</td>\n",
              "      <td>19870977</td>\n",
              "    </tr>\n",
              "  </tbody>\n",
              "</table>\n",
              "</div>"
            ],
            "text/plain": [
              "     Open    High     Low   Close    Volume\n",
              "0  237.50  251.70  237.50  251.70   4456424\n",
              "1  258.40  271.85  251.30  271.85   9487878\n",
              "2  256.65  287.90  256.65  282.50  26833684\n",
              "3  289.00  300.70  289.00  294.35  15682286\n",
              "4  295.00  317.90  293.00  314.55  19870977"
            ]
          },
          "metadata": {
            "tags": []
          },
          "execution_count": 26
        }
      ]
    },
    {
      "cell_type": "code",
      "metadata": {
        "colab": {
          "base_uri": "https://localhost:8080/",
          "height": 623
        },
        "id": "96y8J4RxmANH",
        "outputId": "d3645e6d-3093-4dc0-a358-e704c948e2d2"
      },
      "source": [
        "plt.figure(figsize=(10,10))\n",
        "plt.plot(df['Close'])\n",
        "plt.title(\"Reliance Closing Price\")"
      ],
      "execution_count": null,
      "outputs": [
        {
          "output_type": "execute_result",
          "data": {
            "text/plain": [
              "Text(0.5, 1.0, 'Reliance Closing Price')"
            ]
          },
          "metadata": {
            "tags": []
          },
          "execution_count": 27
        },
        {
          "output_type": "display_data",
          "data": {
            "image/png": "[encoded data removed]",
            "text/plain": [
              "<Figure size 720x720 with 1 Axes>"
            ]
          },
          "metadata": {
            "tags": [],
            "needs_background": "light"
          }
        }
      ]
    },
    {
      "cell_type": "code",
      "metadata": {
        "id": "JfVCMIS1mANH"
      },
      "source": [
        "scaler = MinMaxScaler(feature_range=(0,1))\n",
        "df = scaler.fit_transform(df)   \n",
        "\n",
        "y_close = df[:,1]"
      ],
      "execution_count": null,
      "outputs": []
    },
    {
      "cell_type": "code",
      "metadata": {
        "colab": {
          "base_uri": "https://localhost:8080/",
          "height": 605
        },
        "id": "cfgDD4jGmANI",
        "outputId": "826b2ddc-ef8c-487c-b01b-4e42a8ecbb96"
      },
      "source": [
        "plt.figure(figsize=(10,10))\n",
        "plt.plot(y_close)\n",
        "plt.title(\"Normalized Reliance Closing Price\")\n",
        "plt.show()"
      ],
      "execution_count": null,
      "outputs": [
        {
          "output_type": "display_data",
          "data": {
            "image/png": "[encoded data removed]",
            "text/plain": [
              "<Figure size 720x720 with 1 Axes>"
            ]
          },
          "metadata": {
            "tags": [],
            "needs_background": "light"
          }
        }
      ]
    },
    {
      "cell_type": "code",
      "metadata": {
        "id": "1yuchUzEmANI"
      },
      "source": [
        "ntrain = int(len(y_close)*0.8) \n",
        "\n",
        "train = df[0:ntrain]\n",
        "test  = df[ntrain:len(df)]\n",
        "\n",
        "y_close_train = y_close[0:ntrain]\n",
        "y_close_test  = y_close[ntrain:len(y_close)]"
      ],
      "execution_count": null,
      "outputs": []
    },
    {
      "cell_type": "code",
      "metadata": {
        "colab": {
          "base_uri": "https://localhost:8080/"
        },
        "id": "hSVXp9jamANI",
        "outputId": "dbf7af09-b3bb-4577-a8eb-e5cefb464c70"
      },
      "source": [
        "y_close_test.shape"
      ],
      "execution_count": null,
      "outputs": [
        {
          "output_type": "execute_result",
          "data": {
            "text/plain": [
              "(1041,)"
            ]
          },
          "metadata": {
            "tags": []
          },
          "execution_count": 31
        }
      ]
    },
    {
      "cell_type": "code",
      "metadata": {
        "colab": {
          "base_uri": "https://localhost:8080/"
        },
        "id": "ajNjIbu1mANI",
        "outputId": "639a775f-ce0a-4c41-e04b-0d6f119db3e3"
      },
      "source": [
        "import numpy as np\n",
        "\n",
        "def to_sequences(seq_size, data,close):\n",
        "    x = []\n",
        "    y = []\n",
        "\n",
        "    for i in range(len(data)-seq_size-1):\n",
        "        window = data[i:(i+seq_size)]\n",
        "        after_window = close[i+seq_size]\n",
        "        window = [[x] for x in window]\n",
        "        x.append(window)\n",
        "        y.append(after_window)\n",
        "        \n",
        "    return np.array(x),np.array(y)\n",
        "\n",
        "\n",
        "timesteps = 10\n",
        "\n",
        "x_train, y_train = to_sequences(timesteps, train, y_close_train)\n",
        "x_test, y_test   = to_sequences(timesteps, test, y_close_test)\n",
        "\n",
        "print(\"Shape of x_train: {}\".format(x_train.shape))\n",
        "print(\"Shape of x_test: {}\".format(x_test.shape))\n",
        "print(\"Shape of y_train: {}\".format(y_train.shape))\n",
        "print(\"Shape of y_test: {}\".format(y_test.shape))\n"
      ],
      "execution_count": null,
      "outputs": [
        {
          "output_type": "stream",
          "text": [
            "Shape of x_train: (4152, 10, 1, 5)\n",
            "Shape of x_test: (1030, 10, 1, 5)\n",
            "Shape of y_train: (4152,)\n",
            "Shape of y_test: (1030,)\n"
          ],
          "name": "stdout"
        }
      ]
    },
    {
      "cell_type": "code",
      "metadata": {
        "colab": {
          "base_uri": "https://localhost:8080/"
        },
        "id": "IyAbjxQYmANJ",
        "outputId": "c2332ad4-2347-4b05-d003-fec88f688bf4"
      },
      "source": [
        "x_train[0]"
      ],
      "execution_count": null,
      "outputs": [
        {
          "output_type": "execute_result",
          "data": {
            "text/plain": [
              "array([[[0.01034762, 0.01045964, 0.01370514, 0.01607211, 0.06756266]],\n",
              "\n",
              "       [[0.0171059 , 0.01700503, 0.01839241, 0.02274949, 0.14475816]],\n",
              "\n",
              "       [[0.01654002, 0.02221861, 0.02020957, 0.02627873, 0.41088762]],\n",
              "\n",
              "       [[0.02700081, 0.02637648, 0.03119746, 0.03020562, 0.23979638]],\n",
              "\n",
              "       [[0.02894099, 0.03196362, 0.03255609, 0.03689957, 0.30406172]],\n",
              "\n",
              "       [[0.03618432, 0.03222349, 0.03673386, 0.0348947 , 0.20504191]],\n",
              "\n",
              "       [[0.03312854, 0.02970603, 0.02944823, 0.02826703, 0.1916519 ]],\n",
              "\n",
              "       [[0.02700081, 0.02777327, 0.02887081, 0.03264129, 0.18498072]],\n",
              "\n",
              "       [[0.03249798, 0.03147637, 0.03632627, 0.03600484, 0.26118019]],\n",
              "\n",
              "       [[0.03362975, 0.03318174, 0.03816042, 0.0374795 , 0.20570985]]])"
            ]
          },
          "metadata": {
            "tags": []
          },
          "execution_count": 33
        }
      ]
    },
    {
      "cell_type": "code",
      "metadata": {
        "id": "DOg7LORcmANJ"
      },
      "source": [
        "x_train = np.reshape(x_train,(x_train.shape[0], x_train.shape[2], x_train.shape[1],x_train.shape[3]))\n",
        "x_test = np.reshape(x_test,(x_test.shape[0],x_test.shape[2],x_test.shape[1],x_test.shape[3]))"
      ],
      "execution_count": null,
      "outputs": []
    },
    {
      "cell_type": "code",
      "metadata": {
        "colab": {
          "base_uri": "https://localhost:8080/"
        },
        "id": "llMAhjAFmANJ",
        "outputId": "4005bde1-a434-4e5d-f2a0-4f71a90b761a"
      },
      "source": [
        "print(x_train.shape)"
      ],
      "execution_count": null,
      "outputs": [
        {
          "output_type": "stream",
          "text": [
            "(4152, 1, 10, 5)\n"
          ],
          "name": "stdout"
        }
      ]
    },
    {
      "cell_type": "code",
      "metadata": {
        "colab": {
          "base_uri": "https://localhost:8080/"
        },
        "id": "lljjj0PUmANJ",
        "outputId": "b1e9d1ac-6f9a-43a2-fe6f-8b5309349b15"
      },
      "source": [
        "x_train[0][0].shape"
      ],
      "execution_count": null,
      "outputs": [
        {
          "output_type": "execute_result",
          "data": {
            "text/plain": [
              "(10, 5)"
            ]
          },
          "metadata": {
            "tags": []
          },
          "execution_count": 36
        }
      ]
    },
    {
      "cell_type": "code",
      "metadata": {
        "colab": {
          "base_uri": "https://localhost:8080/"
        },
        "id": "1szDAlrTmANK",
        "outputId": "989f9cf3-2849-4805-9cd1-9539ff0ee316"
      },
      "source": [
        "cnn = Sequential()\n",
        "cnn.add(Conv2D(8, kernel_size = (1, 2), strides = (1, 1),  padding = 'valid', \n",
        "               activation = 'relu', input_shape = (1,10,5)))\n",
        "cnn.add(MaxPooling2D(pool_size = (1,2)))\n",
        "\n",
        "cnn.add(Flatten())\n",
        "cnn.add(Dense(64, activation=\"relu\"))\n",
        "cnn.add(Dropout(0.5))\n",
        "cnn.add(Dense(1, activation=\"relu\"))\n",
        "cnn.summary()   "
      ],
      "execution_count": null,
      "outputs": [
        {
          "output_type": "stream",
          "text": [
            "Model: \"sequential\"\n",
            "_________________________________________________________________\n",
            "Layer (type)                 Output Shape              Param #   \n",
            "=================================================================\n",
            "conv2d (Conv2D)              (None, 1, 9, 8)           88        \n",
            "_________________________________________________________________\n",
            "max_pooling2d (MaxPooling2D) (None, 1, 4, 8)           0         \n",
            "_________________________________________________________________\n",
            "flatten (Flatten)            (None, 32)                0         \n",
            "_________________________________________________________________\n",
            "dense (Dense)                (None, 64)                2112      \n",
            "_________________________________________________________________\n",
            "dropout (Dropout)            (None, 64)                0         \n",
            "_________________________________________________________________\n",
            "dense_1 (Dense)              (None, 1)                 65        \n",
            "=================================================================\n",
            "Total params: 2,265\n",
            "Trainable params: 2,265\n",
            "Non-trainable params: 0\n",
            "_________________________________________________________________\n"
          ],
          "name": "stdout"
        }
      ]
    },
    {
      "cell_type": "code",
      "metadata": {
        "id": "CeM9DhIQmANK"
      },
      "source": [
        "cnn.compile(loss='mean_squared_error', optimizer='adam')\n",
        "\n",
        "monitor = EarlyStopping(monitor='val_loss', min_delta=1, patience=2, verbose=2, mode='auto') \n",
        "checkpointer = ModelCheckpoint(filepath=\"CNN_Parameters.hdf5\", verbose=0, save_best_only=True) # save best model"
      ],
      "execution_count": null,
      "outputs": []
    },
    {
      "cell_type": "code",
      "metadata": {
        "colab": {
          "base_uri": "https://localhost:8080/"
        },
        "id": "nDhH9_nkmANL",
        "outputId": "ed66c88f-0abb-426e-902e-efb79551ab6c"
      },
      "source": [
        "history = cnn.fit(x_train,y_train,validation_split=0.2,batch_size = 128, callbacks=[checkpointer],verbose=1,epochs = 100)"
      ],
      "execution_count": null,
      "outputs": [
        {
          "output_type": "stream",
          "text": [
            "Epoch 1/100\n",
            "26/26 [==============================] - 1s 22ms/step - loss: 0.0454 - val_loss: 1.1252e-04\n",
            "Epoch 2/100\n",
            "26/26 [==============================] - 0s 4ms/step - loss: 0.0097 - val_loss: 2.0664e-04\n",
            "Epoch 3/100\n",
            "26/26 [==============================] - 0s 4ms/step - loss: 0.0068 - val_loss: 9.6451e-05\n",
            "Epoch 4/100\n",
            "26/26 [==============================] - 0s 4ms/step - loss: 0.0063 - val_loss: 2.6339e-04\n",
            "Epoch 5/100\n",
            "26/26 [==============================] - 0s 4ms/step - loss: 0.0048 - val_loss: 9.3016e-05\n",
            "Epoch 6/100\n",
            "26/26 [==============================] - 0s 4ms/step - loss: 0.0048 - val_loss: 1.7220e-04\n",
            "Epoch 7/100\n",
            "26/26 [==============================] - 0s 4ms/step - loss: 0.0049 - val_loss: 8.6093e-05\n",
            "Epoch 8/100\n",
            "26/26 [==============================] - 0s 4ms/step - loss: 0.0039 - val_loss: 9.1526e-05\n",
            "Epoch 9/100\n",
            "26/26 [==============================] - 0s 4ms/step - loss: 0.0041 - val_loss: 1.2709e-04\n",
            "Epoch 10/100\n",
            "26/26 [==============================] - 0s 4ms/step - loss: 0.0044 - val_loss: 1.2339e-04\n",
            "Epoch 11/100\n",
            "26/26 [==============================] - 0s 4ms/step - loss: 0.0038 - val_loss: 2.1003e-04\n",
            "Epoch 12/100\n",
            "26/26 [==============================] - 0s 4ms/step - loss: 0.0034 - val_loss: 8.5418e-05\n",
            "Epoch 13/100\n",
            "26/26 [==============================] - 0s 4ms/step - loss: 0.0037 - val_loss: 1.0738e-04\n",
            "Epoch 14/100\n",
            "26/26 [==============================] - 0s 4ms/step - loss: 0.0038 - val_loss: 8.0295e-05\n",
            "Epoch 15/100\n",
            "26/26 [==============================] - 0s 4ms/step - loss: 0.0035 - val_loss: 2.6537e-04\n",
            "Epoch 16/100\n",
            "26/26 [==============================] - 0s 4ms/step - loss: 0.0039 - val_loss: 8.1185e-05\n",
            "Epoch 17/100\n",
            "26/26 [==============================] - 0s 4ms/step - loss: 0.0033 - val_loss: 8.0344e-05\n",
            "Epoch 18/100\n",
            "26/26 [==============================] - 0s 4ms/step - loss: 0.0034 - val_loss: 8.8071e-05\n",
            "Epoch 19/100\n",
            "26/26 [==============================] - 0s 4ms/step - loss: 0.0034 - val_loss: 8.5281e-05\n",
            "Epoch 20/100\n",
            "26/26 [==============================] - 0s 4ms/step - loss: 0.0031 - val_loss: 7.4626e-05\n",
            "Epoch 21/100\n",
            "26/26 [==============================] - 0s 4ms/step - loss: 0.0033 - val_loss: 7.3606e-05\n",
            "Epoch 22/100\n",
            "26/26 [==============================] - 0s 4ms/step - loss: 0.0029 - val_loss: 1.8256e-04\n",
            "Epoch 23/100\n",
            "26/26 [==============================] - 0s 4ms/step - loss: 0.0025 - val_loss: 6.8029e-05\n",
            "Epoch 24/100\n",
            "26/26 [==============================] - 0s 4ms/step - loss: 0.0029 - val_loss: 6.9820e-05\n",
            "Epoch 25/100\n",
            "26/26 [==============================] - 0s 4ms/step - loss: 0.0029 - val_loss: 7.6321e-05\n",
            "Epoch 26/100\n",
            "26/26 [==============================] - 0s 4ms/step - loss: 0.0026 - val_loss: 1.4453e-04\n",
            "Epoch 27/100\n",
            "26/26 [==============================] - 0s 4ms/step - loss: 0.0028 - val_loss: 2.0615e-04\n",
            "Epoch 28/100\n",
            "26/26 [==============================] - 0s 4ms/step - loss: 0.0028 - val_loss: 6.7345e-05\n",
            "Epoch 29/100\n",
            "26/26 [==============================] - 0s 4ms/step - loss: 0.0026 - val_loss: 7.4998e-05\n",
            "Epoch 30/100\n",
            "26/26 [==============================] - 0s 4ms/step - loss: 0.0023 - val_loss: 1.1104e-04\n",
            "Epoch 31/100\n",
            "26/26 [==============================] - 0s 4ms/step - loss: 0.0025 - val_loss: 6.5114e-05\n",
            "Epoch 32/100\n",
            "26/26 [==============================] - 0s 4ms/step - loss: 0.0024 - val_loss: 1.9467e-04\n",
            "Epoch 33/100\n",
            "26/26 [==============================] - 0s 4ms/step - loss: 0.0027 - val_loss: 6.2793e-05\n",
            "Epoch 34/100\n",
            "26/26 [==============================] - 0s 4ms/step - loss: 0.0032 - val_loss: 6.0963e-05\n",
            "Epoch 35/100\n",
            "26/26 [==============================] - 0s 5ms/step - loss: 0.0029 - val_loss: 7.0325e-05\n",
            "Epoch 36/100\n",
            "26/26 [==============================] - 0s 4ms/step - loss: 0.0026 - val_loss: 8.0869e-05\n",
            "Epoch 37/100\n",
            "26/26 [==============================] - 0s 4ms/step - loss: 0.0022 - val_loss: 7.2933e-05\n",
            "Epoch 38/100\n",
            "26/26 [==============================] - 0s 4ms/step - loss: 0.0022 - val_loss: 2.3310e-04\n",
            "Epoch 39/100\n",
            "26/26 [==============================] - 0s 4ms/step - loss: 0.0024 - val_loss: 7.0186e-05\n",
            "Epoch 40/100\n",
            "26/26 [==============================] - 0s 4ms/step - loss: 0.0025 - val_loss: 1.8280e-04\n",
            "Epoch 41/100\n",
            "26/26 [==============================] - 0s 4ms/step - loss: 0.0023 - val_loss: 1.3345e-04\n",
            "Epoch 42/100\n",
            "26/26 [==============================] - 0s 5ms/step - loss: 0.0023 - val_loss: 8.5488e-05\n",
            "Epoch 43/100\n",
            "26/26 [==============================] - 0s 4ms/step - loss: 0.0026 - val_loss: 6.6643e-05\n",
            "Epoch 44/100\n",
            "26/26 [==============================] - 0s 4ms/step - loss: 0.0026 - val_loss: 7.1986e-05\n",
            "Epoch 45/100\n",
            "26/26 [==============================] - 0s 4ms/step - loss: 0.0024 - val_loss: 1.0611e-04\n",
            "Epoch 46/100\n",
            "26/26 [==============================] - 0s 4ms/step - loss: 0.0023 - val_loss: 7.0763e-05\n",
            "Epoch 47/100\n",
            "26/26 [==============================] - 0s 4ms/step - loss: 0.0024 - val_loss: 7.8034e-05\n",
            "Epoch 48/100\n",
            "26/26 [==============================] - 0s 5ms/step - loss: 0.0025 - val_loss: 1.1926e-04\n",
            "Epoch 49/100\n",
            "26/26 [==============================] - 0s 4ms/step - loss: 0.0025 - val_loss: 9.8386e-05\n",
            "Epoch 50/100\n",
            "26/26 [==============================] - 0s 4ms/step - loss: 0.0023 - val_loss: 6.9844e-05\n",
            "Epoch 51/100\n",
            "26/26 [==============================] - 0s 4ms/step - loss: 0.0022 - val_loss: 8.0861e-05\n",
            "Epoch 52/100\n",
            "26/26 [==============================] - 0s 4ms/step - loss: 0.0021 - val_loss: 1.1185e-04\n",
            "Epoch 53/100\n",
            "26/26 [==============================] - 0s 5ms/step - loss: 0.0026 - val_loss: 1.9496e-04\n",
            "Epoch 54/100\n",
            "26/26 [==============================] - 0s 4ms/step - loss: 0.0022 - val_loss: 1.4569e-04\n",
            "Epoch 55/100\n",
            "26/26 [==============================] - 0s 5ms/step - loss: 0.0021 - val_loss: 1.5561e-04\n",
            "Epoch 56/100\n",
            "26/26 [==============================] - 0s 4ms/step - loss: 0.0021 - val_loss: 1.2585e-04\n",
            "Epoch 57/100\n",
            "26/26 [==============================] - 0s 4ms/step - loss: 0.0023 - val_loss: 7.2149e-05\n",
            "Epoch 58/100\n",
            "26/26 [==============================] - 0s 4ms/step - loss: 0.0020 - val_loss: 1.2478e-04\n",
            "Epoch 59/100\n",
            "26/26 [==============================] - 0s 4ms/step - loss: 0.0021 - val_loss: 7.8206e-05\n",
            "Epoch 60/100\n",
            "26/26 [==============================] - 0s 4ms/step - loss: 0.0019 - val_loss: 7.8508e-05\n",
            "Epoch 61/100\n",
            "26/26 [==============================] - 0s 4ms/step - loss: 0.0020 - val_loss: 1.0242e-04\n",
            "Epoch 62/100\n",
            "26/26 [==============================] - 0s 4ms/step - loss: 0.0022 - val_loss: 8.4484e-05\n",
            "Epoch 63/100\n",
            "26/26 [==============================] - 0s 4ms/step - loss: 0.0021 - val_loss: 8.3795e-05\n",
            "Epoch 64/100\n",
            "26/26 [==============================] - 0s 4ms/step - loss: 0.0027 - val_loss: 2.4839e-04\n",
            "Epoch 65/100\n",
            "26/26 [==============================] - 0s 4ms/step - loss: 0.0023 - val_loss: 8.0230e-05\n",
            "Epoch 66/100\n",
            "26/26 [==============================] - 0s 4ms/step - loss: 0.0018 - val_loss: 1.5896e-04\n",
            "Epoch 67/100\n",
            "26/26 [==============================] - 0s 4ms/step - loss: 0.0025 - val_loss: 1.0464e-04\n",
            "Epoch 68/100\n",
            "26/26 [==============================] - 0s 4ms/step - loss: 0.0023 - val_loss: 6.8574e-05\n",
            "Epoch 69/100\n",
            "26/26 [==============================] - 0s 4ms/step - loss: 0.0020 - val_loss: 1.0818e-04\n",
            "Epoch 70/100\n",
            "26/26 [==============================] - 0s 4ms/step - loss: 0.0022 - val_loss: 7.1993e-05\n",
            "Epoch 71/100\n",
            "26/26 [==============================] - 0s 5ms/step - loss: 0.0023 - val_loss: 7.0604e-05\n",
            "Epoch 72/100\n",
            "26/26 [==============================] - 0s 4ms/step - loss: 0.0021 - val_loss: 6.8475e-05\n",
            "Epoch 73/100\n",
            "26/26 [==============================] - 0s 4ms/step - loss: 0.0021 - val_loss: 8.8901e-05\n",
            "Epoch 74/100\n",
            "26/26 [==============================] - 0s 4ms/step - loss: 0.0023 - val_loss: 1.3156e-04\n",
            "Epoch 75/100\n",
            "26/26 [==============================] - 0s 4ms/step - loss: 0.0021 - val_loss: 1.5035e-04\n",
            "Epoch 76/100\n",
            "26/26 [==============================] - 0s 4ms/step - loss: 0.0021 - val_loss: 8.1340e-05\n",
            "Epoch 77/100\n",
            "26/26 [==============================] - 0s 4ms/step - loss: 0.0021 - val_loss: 7.4236e-05\n",
            "Epoch 78/100\n",
            "26/26 [==============================] - 0s 4ms/step - loss: 0.0021 - val_loss: 7.8671e-05\n",
            "Epoch 79/100\n",
            "26/26 [==============================] - 0s 4ms/step - loss: 0.0021 - val_loss: 1.1000e-04\n",
            "Epoch 80/100\n",
            "26/26 [==============================] - 0s 4ms/step - loss: 0.0021 - val_loss: 1.1051e-04\n",
            "Epoch 81/100\n",
            "26/26 [==============================] - 0s 5ms/step - loss: 0.0018 - val_loss: 1.2686e-04\n",
            "Epoch 82/100\n",
            "26/26 [==============================] - 0s 4ms/step - loss: 0.0020 - val_loss: 1.2640e-04\n",
            "Epoch 83/100\n",
            "26/26 [==============================] - 0s 4ms/step - loss: 0.0025 - val_loss: 2.1427e-04\n",
            "Epoch 84/100\n",
            "26/26 [==============================] - 0s 4ms/step - loss: 0.0022 - val_loss: 5.6969e-05\n",
            "Epoch 85/100\n",
            "26/26 [==============================] - 0s 4ms/step - loss: 0.0021 - val_loss: 5.9676e-05\n",
            "Epoch 86/100\n",
            "26/26 [==============================] - 0s 4ms/step - loss: 0.0021 - val_loss: 1.1449e-04\n",
            "Epoch 87/100\n",
            "26/26 [==============================] - 0s 4ms/step - loss: 0.0020 - val_loss: 2.1900e-04\n",
            "Epoch 88/100\n",
            "26/26 [==============================] - 0s 4ms/step - loss: 0.0019 - val_loss: 6.3009e-05\n",
            "Epoch 89/100\n",
            "26/26 [==============================] - 0s 4ms/step - loss: 0.0020 - val_loss: 1.9250e-04\n",
            "Epoch 90/100\n",
            "26/26 [==============================] - 0s 5ms/step - loss: 0.0020 - val_loss: 9.7349e-05\n",
            "Epoch 91/100\n",
            "26/26 [==============================] - 0s 4ms/step - loss: 0.0021 - val_loss: 7.8376e-05\n",
            "Epoch 92/100\n",
            "26/26 [==============================] - 0s 4ms/step - loss: 0.0022 - val_loss: 9.4243e-05\n",
            "Epoch 93/100\n",
            "26/26 [==============================] - 0s 4ms/step - loss: 0.0021 - val_loss: 8.3453e-05\n",
            "Epoch 94/100\n",
            "26/26 [==============================] - 0s 4ms/step - loss: 0.0019 - val_loss: 5.7613e-05\n",
            "Epoch 95/100\n",
            "26/26 [==============================] - 0s 4ms/step - loss: 0.0022 - val_loss: 1.0731e-04\n",
            "Epoch 96/100\n",
            "26/26 [==============================] - 0s 4ms/step - loss: 0.0020 - val_loss: 5.7424e-05\n",
            "Epoch 97/100\n",
            "26/26 [==============================] - 0s 4ms/step - loss: 0.0020 - val_loss: 5.8783e-05\n",
            "Epoch 98/100\n",
            "26/26 [==============================] - 0s 4ms/step - loss: 0.0020 - val_loss: 7.0556e-05\n",
            "Epoch 99/100\n",
            "26/26 [==============================] - 0s 4ms/step - loss: 0.0023 - val_loss: 5.4837e-05\n",
            "Epoch 100/100\n",
            "26/26 [==============================] - 0s 5ms/step - loss: 0.0021 - val_loss: 1.3603e-04\n"
          ],
          "name": "stdout"
        }
      ]
    },
    {
      "cell_type": "code",
      "metadata": {
        "colab": {
          "base_uri": "https://localhost:8080/",
          "height": 280
        },
        "id": "X9iWSucymANL",
        "outputId": "9c36d28b-f369-43c5-e642-04a39126f1b3"
      },
      "source": [
        "plt.plot(history.history['loss'], label = 'loss')\n",
        "plt.plot(history.history['val_loss'], label = 'val loss')\n",
        "plt.legend()"
      ],
      "execution_count": null,
      "outputs": [
        {
          "output_type": "execute_result",
          "data": {
            "text/plain": [
              "<matplotlib.legend.Legend at 0x7fea4b3a4c10>"
            ]
          },
          "metadata": {
            "tags": []
          },
          "execution_count": 41
        },
        {
          "output_type": "display_data",
          "data": {
            "image/png": "[encoded data removed]",
            "text/plain": [
              "<Figure size 432x288 with 1 Axes>"
            ]
          },
          "metadata": {
            "tags": [],
            "needs_background": "light"
          }
        }
      ]
    },
    {
      "cell_type": "code",
      "metadata": {
        "colab": {
          "base_uri": "https://localhost:8080/"
        },
        "id": "zdIGUfTamANL",
        "outputId": "888cfb42-efd2-4eaf-d5fc-0b03ebb65ad0"
      },
      "source": [
        "cnn.load_weights('CNN_Parameters.hdf5')\n",
        "\n",
        "pred = cnn.predict(x_test)\n",
        "print(pred.shape)"
      ],
      "execution_count": null,
      "outputs": [
        {
          "output_type": "stream",
          "text": [
            "(1030, 1)\n"
          ],
          "name": "stdout"
        }
      ]
    },
    {
      "cell_type": "code",
      "metadata": {
        "colab": {
          "base_uri": "https://localhost:8080/"
        },
        "id": "GGGxFwKDmANL",
        "outputId": "e3f83687-a277-4d26-bc36-a59443448d45"
      },
      "source": [
        "score = np.sqrt(metrics.mean_squared_error(y_test, pred))\n",
        "print(\"RMSE Score: {}\".format(score))"
      ],
      "execution_count": null,
      "outputs": [
        {
          "output_type": "stream",
          "text": [
            "RMSE Score: 0.020540780226015055\n"
          ],
          "name": "stdout"
        }
      ]
    },
    {
      "cell_type": "code",
      "metadata": {
        "colab": {
          "base_uri": "https://localhost:8080/"
        },
        "id": "liGANJqamANM",
        "outputId": "66afbf06-7531-451b-eb57-45db6cb05a8a"
      },
      "source": [
        "y_test"
      ],
      "execution_count": null,
      "outputs": [
        {
          "output_type": "execute_result",
          "data": {
            "text/plain": [
              "array([0.28859834, 0.28871204, 0.28812733, ..., 0.56992042, 0.57607601,\n",
              "       0.56699691])"
            ]
          },
          "metadata": {
            "tags": []
          },
          "execution_count": 44
        }
      ]
    },
    {
      "cell_type": "code",
      "metadata": {
        "colab": {
          "base_uri": "https://localhost:8080/",
          "height": 605
        },
        "id": "voIBOIuQmANM",
        "outputId": "ba50f146-726e-4427-d707-59c3fc4340d2"
      },
      "source": [
        "plt.figure(figsize=(10,10))\n",
        "\n",
        "plt.plot(y_test, label = 'Actual Closing Price')\n",
        "plt.plot(pred,   label = 'Predicted Closing Price')\n",
        "plt.title(\"Reliance\")\n",
        "plt.legend()\n",
        "plt.show()"
      ],
      "execution_count": null,
      "outputs": [
        {
          "output_type": "display_data",
          "data": {
            "image/png": "[encoded data removed]",
            "text/plain": [
              "<Figure size 720x720 with 1 Axes>"
            ]
          },
          "metadata": {
            "tags": [],
            "needs_background": "light"
          }
        }
      ]
    },
    {
      "cell_type": "markdown",
      "metadata": {
        "id": "0Z1C0oKLmvtm"
      },
      "source": [
        "<b>Since Our non linear model is performing better than our linear model therefore we will use non linear model for our further analysis and trainings</b>"
      ]
    },
    {
      "cell_type": "markdown",
      "metadata": {
        "id": "VxzQP0lmm2-K"
      },
      "source": [
        "We will further Test some other Non linear models to see which models gives the best performance "
      ]
    },
    {
      "cell_type": "markdown",
      "metadata": {
        "id": "BFKUbEEXxru8"
      },
      "source": [
        "## ANN"
      ]
    },
    {
      "cell_type": "code",
      "metadata": {
        "id": "fec5c4jHosrR"
      },
      "source": [
        "df=pd.read_csv('/content/drive/MyDrive/RELIANCE.csv')"
      ],
      "execution_count": null,
      "outputs": []
    },
    {
      "cell_type": "code",
      "metadata": {
        "colab": {
          "base_uri": "https://localhost:8080/",
          "height": 399
        },
        "id": "B49MeDVPosrS",
        "outputId": "63a326f5-6cc9-4ea9-a595-bb96f4a5ade9"
      },
      "source": [
        "df"
      ],
      "execution_count": null,
      "outputs": [
        {
          "output_type": "execute_result",
          "data": {
            "text/html": [
              "<div>\n",
              "<style scoped>\n",
              "    .dataframe tbody tr th:only-of-type {\n",
              "        vertical-align: middle;\n",
              "    }\n",
              "\n",
              "    .dataframe tbody tr th {\n",
              "        vertical-align: top;\n",
              "    }\n",
              "\n",
              "    .dataframe thead th {\n",
              "        text-align: right;\n",
              "    }\n",
              "</style>\n",
              "<table border=\"1\" class=\"dataframe\">\n",
              "  <thead>\n",
              "    <tr style=\"text-align: right;\">\n",
              "      <th></th>\n",
              "      <th>Date</th>\n",
              "      <th>Open</th>\n",
              "      <th>High</th>\n",
              "      <th>Low</th>\n",
              "      <th>Close</th>\n",
              "      <th>Volume</th>\n",
              "      <th>Name</th>\n",
              "    </tr>\n",
              "  </thead>\n",
              "  <tbody>\n",
              "    <tr>\n",
              "      <th>0</th>\n",
              "      <td>2000-01-03</td>\n",
              "      <td>237.50</td>\n",
              "      <td>251.70</td>\n",
              "      <td>237.50</td>\n",
              "      <td>251.70</td>\n",
              "      <td>4456424</td>\n",
              "      <td>RELIANCE</td>\n",
              "    </tr>\n",
              "    <tr>\n",
              "      <th>1</th>\n",
              "      <td>2000-01-04</td>\n",
              "      <td>258.40</td>\n",
              "      <td>271.85</td>\n",
              "      <td>251.30</td>\n",
              "      <td>271.85</td>\n",
              "      <td>9487878</td>\n",
              "      <td>RELIANCE</td>\n",
              "    </tr>\n",
              "    <tr>\n",
              "      <th>2</th>\n",
              "      <td>2000-01-05</td>\n",
              "      <td>256.65</td>\n",
              "      <td>287.90</td>\n",
              "      <td>256.65</td>\n",
              "      <td>282.50</td>\n",
              "      <td>26833684</td>\n",
              "      <td>RELIANCE</td>\n",
              "    </tr>\n",
              "    <tr>\n",
              "      <th>3</th>\n",
              "      <td>2000-01-06</td>\n",
              "      <td>289.00</td>\n",
              "      <td>300.70</td>\n",
              "      <td>289.00</td>\n",
              "      <td>294.35</td>\n",
              "      <td>15682286</td>\n",
              "      <td>RELIANCE</td>\n",
              "    </tr>\n",
              "    <tr>\n",
              "      <th>4</th>\n",
              "      <td>2000-01-07</td>\n",
              "      <td>295.00</td>\n",
              "      <td>317.90</td>\n",
              "      <td>293.00</td>\n",
              "      <td>314.55</td>\n",
              "      <td>19870977</td>\n",
              "      <td>RELIANCE</td>\n",
              "    </tr>\n",
              "    <tr>\n",
              "      <th>...</th>\n",
              "      <td>...</td>\n",
              "      <td>...</td>\n",
              "      <td>...</td>\n",
              "      <td>...</td>\n",
              "      <td>...</td>\n",
              "      <td>...</td>\n",
              "      <td>...</td>\n",
              "    </tr>\n",
              "    <tr>\n",
              "      <th>5199</th>\n",
              "      <td>2020-11-23</td>\n",
              "      <td>1951.00</td>\n",
              "      <td>1970.00</td>\n",
              "      <td>1926.25</td>\n",
              "      <td>1950.70</td>\n",
              "      <td>20918665</td>\n",
              "      <td>RELIANCE</td>\n",
              "    </tr>\n",
              "    <tr>\n",
              "      <th>5200</th>\n",
              "      <td>2020-11-24</td>\n",
              "      <td>1964.00</td>\n",
              "      <td>1974.00</td>\n",
              "      <td>1932.00</td>\n",
              "      <td>1964.05</td>\n",
              "      <td>14277083</td>\n",
              "      <td>RELIANCE</td>\n",
              "    </tr>\n",
              "    <tr>\n",
              "      <th>5201</th>\n",
              "      <td>2020-11-25</td>\n",
              "      <td>1980.00</td>\n",
              "      <td>1992.95</td>\n",
              "      <td>1942.20</td>\n",
              "      <td>1947.80</td>\n",
              "      <td>15062376</td>\n",
              "      <td>RELIANCE</td>\n",
              "    </tr>\n",
              "    <tr>\n",
              "      <th>5202</th>\n",
              "      <td>2020-11-26</td>\n",
              "      <td>1953.05</td>\n",
              "      <td>1965.00</td>\n",
              "      <td>1930.05</td>\n",
              "      <td>1952.60</td>\n",
              "      <td>11924527</td>\n",
              "      <td>RELIANCE</td>\n",
              "    </tr>\n",
              "    <tr>\n",
              "      <th>5203</th>\n",
              "      <td>2020-11-27</td>\n",
              "      <td>1940.50</td>\n",
              "      <td>1956.10</td>\n",
              "      <td>1921.40</td>\n",
              "      <td>1929.80</td>\n",
              "      <td>21845931</td>\n",
              "      <td>RELIANCE</td>\n",
              "    </tr>\n",
              "  </tbody>\n",
              "</table>\n",
              "<p>5204 rows × 7 columns</p>\n",
              "</div>"
            ],
            "text/plain": [
              "            Date     Open     High      Low    Close    Volume      Name\n",
              "0     2000-01-03   237.50   251.70   237.50   251.70   4456424  RELIANCE\n",
              "1     2000-01-04   258.40   271.85   251.30   271.85   9487878  RELIANCE\n",
              "2     2000-01-05   256.65   287.90   256.65   282.50  26833684  RELIANCE\n",
              "3     2000-01-06   289.00   300.70   289.00   294.35  15682286  RELIANCE\n",
              "4     2000-01-07   295.00   317.90   293.00   314.55  19870977  RELIANCE\n",
              "...          ...      ...      ...      ...      ...       ...       ...\n",
              "5199  2020-11-23  1951.00  1970.00  1926.25  1950.70  20918665  RELIANCE\n",
              "5200  2020-11-24  1964.00  1974.00  1932.00  1964.05  14277083  RELIANCE\n",
              "5201  2020-11-25  1980.00  1992.95  1942.20  1947.80  15062376  RELIANCE\n",
              "5202  2020-11-26  1953.05  1965.00  1930.05  1952.60  11924527  RELIANCE\n",
              "5203  2020-11-27  1940.50  1956.10  1921.40  1929.80  21845931  RELIANCE\n",
              "\n",
              "[5204 rows x 7 columns]"
            ]
          },
          "metadata": {
            "tags": []
          },
          "execution_count": 48
        }
      ]
    },
    {
      "cell_type": "code",
      "metadata": {
        "id": "QM4aYirnosrT"
      },
      "source": [
        "X = df.drop(['Close','Date','Name'],axis=1)\n",
        "y = df['Close']"
      ],
      "execution_count": null,
      "outputs": []
    },
    {
      "cell_type": "code",
      "metadata": {
        "id": "2rixHI_tosrU"
      },
      "source": [
        "from sklearn.model_selection import train_test_split"
      ],
      "execution_count": null,
      "outputs": []
    },
    {
      "cell_type": "code",
      "metadata": {
        "id": "gch4euPnosrU"
      },
      "source": [
        "X_train, X_test, y_train, y_test = train_test_split(X,y,test_size=0.3,random_state=101)"
      ],
      "execution_count": null,
      "outputs": []
    },
    {
      "cell_type": "code",
      "metadata": {
        "id": "EtWTzE5iosrU"
      },
      "source": [
        "from sklearn.preprocessing import MinMaxScaler"
      ],
      "execution_count": null,
      "outputs": []
    },
    {
      "cell_type": "code",
      "metadata": {
        "id": "soq47oqyosrV"
      },
      "source": [
        "scaler = MinMaxScaler()"
      ],
      "execution_count": null,
      "outputs": []
    },
    {
      "cell_type": "code",
      "metadata": {
        "id": "aYdOrTKXosrV"
      },
      "source": [
        "X_train= scaler.fit_transform(X_train)"
      ],
      "execution_count": null,
      "outputs": []
    },
    {
      "cell_type": "code",
      "metadata": {
        "id": "LDsmZc2gosrV"
      },
      "source": [
        "X_test = scaler.transform(X_test)"
      ],
      "execution_count": null,
      "outputs": []
    },
    {
      "cell_type": "code",
      "metadata": {
        "colab": {
          "base_uri": "https://localhost:8080/"
        },
        "id": "JOUwhW-fosrW",
        "outputId": "989fa228-968a-4824-f583-9df46573768a"
      },
      "source": [
        "X_train.shape"
      ],
      "execution_count": null,
      "outputs": [
        {
          "output_type": "execute_result",
          "data": {
            "text/plain": [
              "(3642, 4)"
            ]
          },
          "metadata": {
            "tags": []
          },
          "execution_count": 56
        }
      ]
    },
    {
      "cell_type": "code",
      "metadata": {
        "colab": {
          "base_uri": "https://localhost:8080/"
        },
        "id": "LMYpyTOVosrW",
        "outputId": "473f058f-6c07-4435-86d0-2fc1e7aea007"
      },
      "source": [
        "X_test.shape"
      ],
      "execution_count": null,
      "outputs": [
        {
          "output_type": "execute_result",
          "data": {
            "text/plain": [
              "(1562, 4)"
            ]
          },
          "metadata": {
            "tags": []
          },
          "execution_count": 57
        }
      ]
    },
    {
      "cell_type": "code",
      "metadata": {
        "colab": {
          "base_uri": "https://localhost:8080/"
        },
        "id": "2sY87QtjosrW",
        "outputId": "b76605f8-954b-4be2-84e1-ac535bc3bf23"
      },
      "source": [
        "y_train.shape"
      ],
      "execution_count": null,
      "outputs": [
        {
          "output_type": "execute_result",
          "data": {
            "text/plain": [
              "(3642,)"
            ]
          },
          "metadata": {
            "tags": []
          },
          "execution_count": 58
        }
      ]
    },
    {
      "cell_type": "markdown",
      "metadata": {
        "id": "Wmi0rYELxru8"
      },
      "source": [
        "# Creating the Model"
      ]
    },
    {
      "cell_type": "code",
      "metadata": {
        "id": "_ZkHPP2Sxru8"
      },
      "source": [
        "model1 = Sequential()\n",
        "\n",
        "model1.add(Dense(4,activation='relu'))\n",
        "model1.add(Dense(60,activation='relu'))\n",
        "model1.add(Dense(60,activation='relu'))\n",
        "model1.add(Dense(60,activation='tanh'))\n",
        "model1.add(Dense(60,activation='relu'))\n",
        "model1.add(Dense(60,activation='relu'))\n",
        "model1.add(Dense(60,activation='relu'))\n",
        "\n",
        "model1.add(Dense(1))\n",
        "\n",
        "model1.compile(optimizer='adam',loss='mse')"
      ],
      "execution_count": null,
      "outputs": []
    },
    {
      "cell_type": "markdown",
      "metadata": {
        "id": "Rj4RLsC5xru9"
      },
      "source": [
        "# Training the Model"
      ]
    },
    {
      "cell_type": "code",
      "metadata": {
        "scrolled": true,
        "colab": {
          "base_uri": "https://localhost:8080/"
        },
        "id": "r1HJIs73xru9",
        "outputId": "c463772a-1f3c-4cce-9e7a-81e5bced7cec"
      },
      "source": [
        "%%time\n",
        "model1.fit(x=X_train,y=y_train.values,\n",
        "          validation_data=(X_test,y_test.values),\n",
        "          batch_size=128,epochs=400)"
      ],
      "execution_count": null,
      "outputs": [
        {
          "output_type": "stream",
          "text": [
            "Epoch 1/400\n",
            "29/29 [==============================] - 1s 12ms/step - loss: 1301039.3875 - val_loss: 1287234.5000\n",
            "Epoch 2/400\n",
            "29/29 [==============================] - 0s 5ms/step - loss: 1283465.7125 - val_loss: 1097811.6250\n",
            "Epoch 3/400\n",
            "29/29 [==============================] - 0s 5ms/step - loss: 969841.4833 - val_loss: 460028.2812\n",
            "Epoch 4/400\n",
            "29/29 [==============================] - 0s 6ms/step - loss: 401328.8792 - val_loss: 310712.6875\n",
            "Epoch 5/400\n",
            "29/29 [==============================] - 0s 6ms/step - loss: 294636.1411 - val_loss: 265210.0000\n",
            "Epoch 6/400\n",
            "29/29 [==============================] - 0s 5ms/step - loss: 226142.3464 - val_loss: 78812.5938\n",
            "Epoch 7/400\n",
            "29/29 [==============================] - 0s 6ms/step - loss: 53783.1393 - val_loss: 16728.8457\n",
            "Epoch 8/400\n",
            "29/29 [==============================] - 0s 6ms/step - loss: 12415.3830 - val_loss: 7106.6777\n",
            "Epoch 9/400\n",
            "29/29 [==============================] - 0s 6ms/step - loss: 5205.4570 - val_loss: 4581.1714\n",
            "Epoch 10/400\n",
            "29/29 [==============================] - 0s 6ms/step - loss: 3765.2257 - val_loss: 3499.8296\n",
            "Epoch 11/400\n",
            "29/29 [==============================] - 0s 6ms/step - loss: 2878.6445 - val_loss: 2933.8098\n",
            "Epoch 12/400\n",
            "29/29 [==============================] - 0s 6ms/step - loss: 2297.0358 - val_loss: 2311.6909\n",
            "Epoch 13/400\n",
            "29/29 [==============================] - 0s 5ms/step - loss: 1980.1797 - val_loss: 2021.9058\n",
            "Epoch 14/400\n",
            "29/29 [==============================] - 0s 6ms/step - loss: 1827.1598 - val_loss: 1848.4562\n",
            "Epoch 15/400\n",
            "29/29 [==============================] - 0s 6ms/step - loss: 1634.2262 - val_loss: 1625.8450\n",
            "Epoch 16/400\n",
            "29/29 [==============================] - 0s 6ms/step - loss: 1298.3865 - val_loss: 1447.5793\n",
            "Epoch 17/400\n",
            "29/29 [==============================] - 0s 6ms/step - loss: 1403.5162 - val_loss: 1334.4023\n",
            "Epoch 18/400\n",
            "29/29 [==============================] - 0s 6ms/step - loss: 1294.0603 - val_loss: 1258.9121\n",
            "Epoch 19/400\n",
            "29/29 [==============================] - 0s 6ms/step - loss: 1065.1048 - val_loss: 1191.2860\n",
            "Epoch 20/400\n",
            "29/29 [==============================] - 0s 5ms/step - loss: 1334.6563 - val_loss: 1206.0608\n",
            "Epoch 21/400\n",
            "29/29 [==============================] - 0s 6ms/step - loss: 1092.2131 - val_loss: 1100.4595\n",
            "Epoch 22/400\n",
            "29/29 [==============================] - 0s 5ms/step - loss: 1019.4486 - val_loss: 1047.2139\n",
            "Epoch 23/400\n",
            "29/29 [==============================] - 0s 6ms/step - loss: 1053.5124 - val_loss: 1028.7953\n",
            "Epoch 24/400\n",
            "29/29 [==============================] - 0s 5ms/step - loss: 851.8094 - val_loss: 994.4146\n",
            "Epoch 25/400\n",
            "29/29 [==============================] - 0s 6ms/step - loss: 940.6940 - val_loss: 1012.3687\n",
            "Epoch 26/400\n",
            "29/29 [==============================] - 0s 6ms/step - loss: 909.1487 - val_loss: 1043.2318\n",
            "Epoch 27/400\n",
            "29/29 [==============================] - 0s 5ms/step - loss: 951.9608 - val_loss: 934.3087\n",
            "Epoch 28/400\n",
            "29/29 [==============================] - 0s 5ms/step - loss: 947.3664 - val_loss: 983.6899\n",
            "Epoch 29/400\n",
            "29/29 [==============================] - 0s 5ms/step - loss: 853.4516 - val_loss: 904.0178\n",
            "Epoch 30/400\n",
            "29/29 [==============================] - 0s 6ms/step - loss: 790.7880 - val_loss: 863.9949\n",
            "Epoch 31/400\n",
            "29/29 [==============================] - 0s 6ms/step - loss: 926.2736 - val_loss: 859.2977\n",
            "Epoch 32/400\n",
            "29/29 [==============================] - 0s 6ms/step - loss: 784.1771 - val_loss: 890.9008\n",
            "Epoch 33/400\n",
            "29/29 [==============================] - 0s 5ms/step - loss: 755.3348 - val_loss: 922.2870\n",
            "Epoch 34/400\n",
            "29/29 [==============================] - 0s 5ms/step - loss: 787.7237 - val_loss: 901.2297\n",
            "Epoch 35/400\n",
            "29/29 [==============================] - 0s 6ms/step - loss: 769.0299 - val_loss: 847.9704\n",
            "Epoch 36/400\n",
            "29/29 [==============================] - 0s 6ms/step - loss: 769.7683 - val_loss: 846.3671\n",
            "Epoch 37/400\n",
            "29/29 [==============================] - 0s 6ms/step - loss: 724.7619 - val_loss: 857.0169\n",
            "Epoch 38/400\n",
            "29/29 [==============================] - 0s 5ms/step - loss: 804.3977 - val_loss: 960.3588\n",
            "Epoch 39/400\n",
            "29/29 [==============================] - 0s 5ms/step - loss: 798.2005 - val_loss: 815.5103\n",
            "Epoch 40/400\n",
            "29/29 [==============================] - 0s 6ms/step - loss: 681.3137 - val_loss: 794.9871\n",
            "Epoch 41/400\n",
            "29/29 [==============================] - 0s 5ms/step - loss: 650.2408 - val_loss: 890.5898\n",
            "Epoch 42/400\n",
            "29/29 [==============================] - 0s 6ms/step - loss: 784.2082 - val_loss: 897.7791\n",
            "Epoch 43/400\n",
            "29/29 [==============================] - 0s 6ms/step - loss: 702.8571 - val_loss: 811.9902\n",
            "Epoch 44/400\n",
            "29/29 [==============================] - 0s 6ms/step - loss: 735.1538 - val_loss: 776.1791\n",
            "Epoch 45/400\n",
            "29/29 [==============================] - 0s 5ms/step - loss: 706.9334 - val_loss: 861.1397\n",
            "Epoch 46/400\n",
            "29/29 [==============================] - 0s 6ms/step - loss: 608.3459 - val_loss: 789.9549\n",
            "Epoch 47/400\n",
            "29/29 [==============================] - 0s 5ms/step - loss: 677.7308 - val_loss: 774.5786\n",
            "Epoch 48/400\n",
            "29/29 [==============================] - 0s 5ms/step - loss: 680.7967 - val_loss: 760.9473\n",
            "Epoch 49/400\n",
            "29/29 [==============================] - 0s 6ms/step - loss: 592.9622 - val_loss: 769.2962\n",
            "Epoch 50/400\n",
            "29/29 [==============================] - 0s 6ms/step - loss: 648.0226 - val_loss: 777.2498\n",
            "Epoch 51/400\n",
            "29/29 [==============================] - 0s 6ms/step - loss: 668.0095 - val_loss: 802.5499\n",
            "Epoch 52/400\n",
            "29/29 [==============================] - 0s 6ms/step - loss: 731.8182 - val_loss: 784.3622\n",
            "Epoch 53/400\n",
            "29/29 [==============================] - 0s 6ms/step - loss: 657.7830 - val_loss: 766.0979\n",
            "Epoch 54/400\n",
            "29/29 [==============================] - 0s 6ms/step - loss: 630.3467 - val_loss: 761.6420\n",
            "Epoch 55/400\n",
            "29/29 [==============================] - 0s 6ms/step - loss: 610.2311 - val_loss: 902.0553\n",
            "Epoch 56/400\n",
            "29/29 [==============================] - 0s 5ms/step - loss: 701.3149 - val_loss: 735.4694\n",
            "Epoch 57/400\n",
            "29/29 [==============================] - 0s 6ms/step - loss: 676.2593 - val_loss: 713.0515\n",
            "Epoch 58/400\n",
            "29/29 [==============================] - 0s 5ms/step - loss: 610.1051 - val_loss: 767.6867\n",
            "Epoch 59/400\n",
            "29/29 [==============================] - 0s 6ms/step - loss: 598.1549 - val_loss: 737.8835\n",
            "Epoch 60/400\n",
            "29/29 [==============================] - 0s 5ms/step - loss: 580.4990 - val_loss: 773.1661\n",
            "Epoch 61/400\n",
            "29/29 [==============================] - 0s 6ms/step - loss: 559.5668 - val_loss: 736.4091\n",
            "Epoch 62/400\n",
            "29/29 [==============================] - 0s 5ms/step - loss: 565.8650 - val_loss: 716.9980\n",
            "Epoch 63/400\n",
            "29/29 [==============================] - 0s 5ms/step - loss: 667.6981 - val_loss: 724.3818\n",
            "Epoch 64/400\n",
            "29/29 [==============================] - 0s 6ms/step - loss: 663.4371 - val_loss: 720.3583\n",
            "Epoch 65/400\n",
            "29/29 [==============================] - 0s 6ms/step - loss: 691.2198 - val_loss: 799.9688\n",
            "Epoch 66/400\n",
            "29/29 [==============================] - 0s 5ms/step - loss: 624.4944 - val_loss: 681.8755\n",
            "Epoch 67/400\n",
            "29/29 [==============================] - 0s 6ms/step - loss: 711.2900 - val_loss: 702.6050\n",
            "Epoch 68/400\n",
            "29/29 [==============================] - 0s 6ms/step - loss: 575.3618 - val_loss: 787.3990\n",
            "Epoch 69/400\n",
            "29/29 [==============================] - 0s 6ms/step - loss: 596.0255 - val_loss: 724.2722\n",
            "Epoch 70/400\n",
            "29/29 [==============================] - 0s 5ms/step - loss: 608.3520 - val_loss: 744.9651\n",
            "Epoch 71/400\n",
            "29/29 [==============================] - 0s 5ms/step - loss: 557.1845 - val_loss: 688.9269\n",
            "Epoch 72/400\n",
            "29/29 [==============================] - 0s 6ms/step - loss: 626.7503 - val_loss: 1022.8683\n",
            "Epoch 73/400\n",
            "29/29 [==============================] - 0s 6ms/step - loss: 625.9833 - val_loss: 658.6872\n",
            "Epoch 74/400\n",
            "29/29 [==============================] - 0s 5ms/step - loss: 580.7999 - val_loss: 664.5217\n",
            "Epoch 75/400\n",
            "29/29 [==============================] - 0s 5ms/step - loss: 550.5042 - val_loss: 678.4252\n",
            "Epoch 76/400\n",
            "29/29 [==============================] - 0s 6ms/step - loss: 523.4185 - val_loss: 679.4243\n",
            "Epoch 77/400\n",
            "29/29 [==============================] - 0s 6ms/step - loss: 625.5436 - val_loss: 664.0468\n",
            "Epoch 78/400\n",
            "29/29 [==============================] - 0s 6ms/step - loss: 543.0212 - val_loss: 671.3873\n",
            "Epoch 79/400\n",
            "29/29 [==============================] - 0s 6ms/step - loss: 545.8351 - val_loss: 675.0031\n",
            "Epoch 80/400\n",
            "29/29 [==============================] - 0s 6ms/step - loss: 561.8770 - val_loss: 698.1096\n",
            "Epoch 81/400\n",
            "29/29 [==============================] - 0s 5ms/step - loss: 616.0800 - val_loss: 635.3621\n",
            "Epoch 82/400\n",
            "29/29 [==============================] - 0s 5ms/step - loss: 588.4235 - val_loss: 736.0197\n",
            "Epoch 83/400\n",
            "29/29 [==============================] - 0s 6ms/step - loss: 546.1136 - val_loss: 619.0605\n",
            "Epoch 84/400\n",
            "29/29 [==============================] - 0s 5ms/step - loss: 524.0357 - val_loss: 746.0133\n",
            "Epoch 85/400\n",
            "29/29 [==============================] - 0s 6ms/step - loss: 538.8502 - val_loss: 754.8196\n",
            "Epoch 86/400\n",
            "29/29 [==============================] - 0s 6ms/step - loss: 591.0694 - val_loss: 634.4921\n",
            "Epoch 87/400\n",
            "29/29 [==============================] - 0s 6ms/step - loss: 527.2544 - val_loss: 633.8725\n",
            "Epoch 88/400\n",
            "29/29 [==============================] - 0s 5ms/step - loss: 500.0145 - val_loss: 605.8328\n",
            "Epoch 89/400\n",
            "29/29 [==============================] - 0s 6ms/step - loss: 592.4196 - val_loss: 616.6854\n",
            "Epoch 90/400\n",
            "29/29 [==============================] - 0s 6ms/step - loss: 601.4283 - val_loss: 598.8858\n",
            "Epoch 91/400\n",
            "29/29 [==============================] - 0s 6ms/step - loss: 517.7274 - val_loss: 675.2282\n",
            "Epoch 92/400\n",
            "29/29 [==============================] - 0s 6ms/step - loss: 537.0379 - val_loss: 620.2022\n",
            "Epoch 93/400\n",
            "29/29 [==============================] - 0s 6ms/step - loss: 506.4110 - val_loss: 628.2751\n",
            "Epoch 94/400\n",
            "29/29 [==============================] - 0s 6ms/step - loss: 542.3677 - val_loss: 630.1423\n",
            "Epoch 95/400\n",
            "29/29 [==============================] - 0s 5ms/step - loss: 580.8502 - val_loss: 586.4879\n",
            "Epoch 96/400\n",
            "29/29 [==============================] - 0s 6ms/step - loss: 541.3265 - val_loss: 759.5797\n",
            "Epoch 97/400\n",
            "29/29 [==============================] - 0s 6ms/step - loss: 570.7986 - val_loss: 618.3338\n",
            "Epoch 98/400\n",
            "29/29 [==============================] - 0s 6ms/step - loss: 459.9625 - val_loss: 615.7313\n",
            "Epoch 99/400\n",
            "29/29 [==============================] - 0s 6ms/step - loss: 530.3204 - val_loss: 577.5745\n",
            "Epoch 100/400\n",
            "29/29 [==============================] - 0s 6ms/step - loss: 492.7235 - val_loss: 586.4508\n",
            "Epoch 101/400\n",
            "29/29 [==============================] - 0s 5ms/step - loss: 453.1044 - val_loss: 563.4275\n",
            "Epoch 102/400\n",
            "29/29 [==============================] - 0s 6ms/step - loss: 498.1263 - val_loss: 568.2977\n",
            "Epoch 103/400\n",
            "29/29 [==============================] - 0s 6ms/step - loss: 508.5987 - val_loss: 817.8323\n",
            "Epoch 104/400\n",
            "29/29 [==============================] - 0s 6ms/step - loss: 524.1591 - val_loss: 564.6798\n",
            "Epoch 105/400\n",
            "29/29 [==============================] - 0s 6ms/step - loss: 487.5183 - val_loss: 559.8768\n",
            "Epoch 106/400\n",
            "29/29 [==============================] - 0s 6ms/step - loss: 578.0313 - val_loss: 577.0605\n",
            "Epoch 107/400\n",
            "29/29 [==============================] - 0s 6ms/step - loss: 524.4782 - val_loss: 580.8391\n",
            "Epoch 108/400\n",
            "29/29 [==============================] - 0s 5ms/step - loss: 475.4506 - val_loss: 544.7604\n",
            "Epoch 109/400\n",
            "29/29 [==============================] - 0s 6ms/step - loss: 419.0794 - val_loss: 577.2151\n",
            "Epoch 110/400\n",
            "29/29 [==============================] - 0s 5ms/step - loss: 504.8664 - val_loss: 558.2437\n",
            "Epoch 111/400\n",
            "29/29 [==============================] - 0s 5ms/step - loss: 481.6259 - val_loss: 540.3590\n",
            "Epoch 112/400\n",
            "29/29 [==============================] - 0s 6ms/step - loss: 546.4257 - val_loss: 597.4997\n",
            "Epoch 113/400\n",
            "29/29 [==============================] - 0s 6ms/step - loss: 462.7345 - val_loss: 684.5620\n",
            "Epoch 114/400\n",
            "29/29 [==============================] - 0s 5ms/step - loss: 501.4222 - val_loss: 560.8526\n",
            "Epoch 115/400\n",
            "29/29 [==============================] - 0s 6ms/step - loss: 467.2776 - val_loss: 725.2742\n",
            "Epoch 116/400\n",
            "29/29 [==============================] - 0s 5ms/step - loss: 537.2504 - val_loss: 545.3447\n",
            "Epoch 117/400\n",
            "29/29 [==============================] - 0s 5ms/step - loss: 394.6794 - val_loss: 526.2114\n",
            "Epoch 118/400\n",
            "29/29 [==============================] - 0s 5ms/step - loss: 418.7164 - val_loss: 518.5048\n",
            "Epoch 119/400\n",
            "29/29 [==============================] - 0s 6ms/step - loss: 457.7404 - val_loss: 511.2155\n",
            "Epoch 120/400\n",
            "29/29 [==============================] - 0s 6ms/step - loss: 406.3118 - val_loss: 571.3436\n",
            "Epoch 121/400\n",
            "29/29 [==============================] - 0s 6ms/step - loss: 455.0722 - val_loss: 579.7811\n",
            "Epoch 122/400\n",
            "29/29 [==============================] - 0s 5ms/step - loss: 429.0740 - val_loss: 527.4602\n",
            "Epoch 123/400\n",
            "29/29 [==============================] - 0s 5ms/step - loss: 465.3522 - val_loss: 511.3477\n",
            "Epoch 124/400\n",
            "29/29 [==============================] - 0s 6ms/step - loss: 457.2564 - val_loss: 676.5470\n",
            "Epoch 125/400\n",
            "29/29 [==============================] - 0s 6ms/step - loss: 469.2250 - val_loss: 532.0591\n",
            "Epoch 126/400\n",
            "29/29 [==============================] - 0s 5ms/step - loss: 410.4727 - val_loss: 663.3804\n",
            "Epoch 127/400\n",
            "29/29 [==============================] - 0s 5ms/step - loss: 528.2638 - val_loss: 619.3522\n",
            "Epoch 128/400\n",
            "29/29 [==============================] - 0s 6ms/step - loss: 453.0593 - val_loss: 494.3298\n",
            "Epoch 129/400\n",
            "29/29 [==============================] - 0s 6ms/step - loss: 384.2777 - val_loss: 487.1052\n",
            "Epoch 130/400\n",
            "29/29 [==============================] - 0s 7ms/step - loss: 461.6807 - val_loss: 484.8369\n",
            "Epoch 131/400\n",
            "29/29 [==============================] - 0s 5ms/step - loss: 467.4464 - val_loss: 515.8608\n",
            "Epoch 132/400\n",
            "29/29 [==============================] - 0s 6ms/step - loss: 407.6720 - val_loss: 488.7083\n",
            "Epoch 133/400\n",
            "29/29 [==============================] - 0s 6ms/step - loss: 505.3598 - val_loss: 469.3318\n",
            "Epoch 134/400\n",
            "29/29 [==============================] - 0s 6ms/step - loss: 376.4925 - val_loss: 473.7574\n",
            "Epoch 135/400\n",
            "29/29 [==============================] - 0s 5ms/step - loss: 397.4970 - val_loss: 529.0074\n",
            "Epoch 136/400\n",
            "29/29 [==============================] - 0s 5ms/step - loss: 404.7075 - val_loss: 710.4839\n",
            "Epoch 137/400\n",
            "29/29 [==============================] - 0s 6ms/step - loss: 457.6529 - val_loss: 501.1021\n",
            "Epoch 138/400\n",
            "29/29 [==============================] - 0s 6ms/step - loss: 356.2496 - val_loss: 554.3450\n",
            "Epoch 139/400\n",
            "29/29 [==============================] - 0s 6ms/step - loss: 404.3247 - val_loss: 709.1134\n",
            "Epoch 140/400\n",
            "29/29 [==============================] - 0s 6ms/step - loss: 467.3495 - val_loss: 453.2618\n",
            "Epoch 141/400\n",
            "29/29 [==============================] - 0s 6ms/step - loss: 374.8750 - val_loss: 465.0110\n",
            "Epoch 142/400\n",
            "29/29 [==============================] - 0s 6ms/step - loss: 379.3469 - val_loss: 624.9679\n",
            "Epoch 143/400\n",
            "29/29 [==============================] - 0s 6ms/step - loss: 390.7289 - val_loss: 477.3443\n",
            "Epoch 144/400\n",
            "29/29 [==============================] - 0s 6ms/step - loss: 383.2703 - val_loss: 479.8077\n",
            "Epoch 145/400\n",
            "29/29 [==============================] - 0s 6ms/step - loss: 311.2622 - val_loss: 439.9842\n",
            "Epoch 146/400\n",
            "29/29 [==============================] - 0s 6ms/step - loss: 373.7521 - val_loss: 447.7781\n",
            "Epoch 147/400\n",
            "29/29 [==============================] - 0s 5ms/step - loss: 385.8177 - val_loss: 531.4676\n",
            "Epoch 148/400\n",
            "29/29 [==============================] - 0s 6ms/step - loss: 464.2781 - val_loss: 478.7146\n",
            "Epoch 149/400\n",
            "29/29 [==============================] - 0s 6ms/step - loss: 361.6380 - val_loss: 442.4904\n",
            "Epoch 150/400\n",
            "29/29 [==============================] - 0s 6ms/step - loss: 354.1696 - val_loss: 455.8377\n",
            "Epoch 151/400\n",
            "29/29 [==============================] - 0s 6ms/step - loss: 361.8284 - val_loss: 422.9982\n",
            "Epoch 152/400\n",
            "29/29 [==============================] - 0s 6ms/step - loss: 349.8844 - val_loss: 506.5667\n",
            "Epoch 153/400\n",
            "29/29 [==============================] - 0s 6ms/step - loss: 367.0750 - val_loss: 507.8570\n",
            "Epoch 154/400\n",
            "29/29 [==============================] - 0s 6ms/step - loss: 381.4502 - val_loss: 768.8809\n",
            "Epoch 155/400\n",
            "29/29 [==============================] - 0s 6ms/step - loss: 409.3507 - val_loss: 492.9454\n",
            "Epoch 156/400\n",
            "29/29 [==============================] - 0s 6ms/step - loss: 328.3377 - val_loss: 577.5061\n",
            "Epoch 157/400\n",
            "29/29 [==============================] - 0s 6ms/step - loss: 453.7238 - val_loss: 406.9666\n",
            "Epoch 158/400\n",
            "29/29 [==============================] - 0s 6ms/step - loss: 390.3810 - val_loss: 522.3354\n",
            "Epoch 159/400\n",
            "29/29 [==============================] - 0s 6ms/step - loss: 364.5227 - val_loss: 458.0128\n",
            "Epoch 160/400\n",
            "29/29 [==============================] - 0s 6ms/step - loss: 329.6667 - val_loss: 433.2921\n",
            "Epoch 161/400\n",
            "29/29 [==============================] - 0s 6ms/step - loss: 316.3309 - val_loss: 406.5657\n",
            "Epoch 162/400\n",
            "29/29 [==============================] - 0s 6ms/step - loss: 321.1299 - val_loss: 598.5319\n",
            "Epoch 163/400\n",
            "29/29 [==============================] - 0s 6ms/step - loss: 408.9032 - val_loss: 482.8733\n",
            "Epoch 164/400\n",
            "29/29 [==============================] - 0s 6ms/step - loss: 380.0196 - val_loss: 391.6403\n",
            "Epoch 165/400\n",
            "29/29 [==============================] - 0s 6ms/step - loss: 306.2602 - val_loss: 405.9780\n",
            "Epoch 166/400\n",
            "29/29 [==============================] - 0s 6ms/step - loss: 341.1640 - val_loss: 376.7839\n",
            "Epoch 167/400\n",
            "29/29 [==============================] - 0s 6ms/step - loss: 306.2101 - val_loss: 412.5861\n",
            "Epoch 168/400\n",
            "29/29 [==============================] - 0s 6ms/step - loss: 355.0194 - val_loss: 378.8675\n",
            "Epoch 169/400\n",
            "29/29 [==============================] - 0s 6ms/step - loss: 290.4792 - val_loss: 373.2195\n",
            "Epoch 170/400\n",
            "29/29 [==============================] - 0s 6ms/step - loss: 337.2795 - val_loss: 420.4255\n",
            "Epoch 171/400\n",
            "29/29 [==============================] - 0s 6ms/step - loss: 339.8107 - val_loss: 397.8763\n",
            "Epoch 172/400\n",
            "29/29 [==============================] - 0s 5ms/step - loss: 330.8311 - val_loss: 374.6322\n",
            "Epoch 173/400\n",
            "29/29 [==============================] - 0s 6ms/step - loss: 356.8275 - val_loss: 359.4561\n",
            "Epoch 174/400\n",
            "29/29 [==============================] - 0s 6ms/step - loss: 277.3376 - val_loss: 395.4579\n",
            "Epoch 175/400\n",
            "29/29 [==============================] - 0s 6ms/step - loss: 379.3432 - val_loss: 433.4244\n",
            "Epoch 176/400\n",
            "29/29 [==============================] - 0s 5ms/step - loss: 291.7707 - val_loss: 499.1870\n",
            "Epoch 177/400\n",
            "29/29 [==============================] - 0s 6ms/step - loss: 373.1797 - val_loss: 441.4253\n",
            "Epoch 178/400\n",
            "29/29 [==============================] - 0s 6ms/step - loss: 327.4194 - val_loss: 441.5515\n",
            "Epoch 179/400\n",
            "29/29 [==============================] - 0s 6ms/step - loss: 326.9240 - val_loss: 370.3981\n",
            "Epoch 180/400\n",
            "29/29 [==============================] - 0s 6ms/step - loss: 286.1884 - val_loss: 358.8400\n",
            "Epoch 181/400\n",
            "29/29 [==============================] - 0s 6ms/step - loss: 253.3610 - val_loss: 345.0513\n",
            "Epoch 182/400\n",
            "29/29 [==============================] - 0s 6ms/step - loss: 348.7560 - val_loss: 352.6630\n",
            "Epoch 183/400\n",
            "29/29 [==============================] - 0s 6ms/step - loss: 305.3520 - val_loss: 328.8326\n",
            "Epoch 184/400\n",
            "29/29 [==============================] - 0s 6ms/step - loss: 280.7863 - val_loss: 325.2104\n",
            "Epoch 185/400\n",
            "29/29 [==============================] - 0s 6ms/step - loss: 263.5672 - val_loss: 350.5689\n",
            "Epoch 186/400\n",
            "29/29 [==============================] - 0s 6ms/step - loss: 266.5550 - val_loss: 474.1833\n",
            "Epoch 187/400\n",
            "29/29 [==============================] - 0s 6ms/step - loss: 293.7664 - val_loss: 400.4166\n",
            "Epoch 188/400\n",
            "29/29 [==============================] - 0s 6ms/step - loss: 231.0618 - val_loss: 371.7826\n",
            "Epoch 189/400\n",
            "29/29 [==============================] - 0s 6ms/step - loss: 243.8668 - val_loss: 327.1461\n",
            "Epoch 190/400\n",
            "29/29 [==============================] - 0s 6ms/step - loss: 287.6012 - val_loss: 526.3596\n",
            "Epoch 191/400\n",
            "29/29 [==============================] - 0s 6ms/step - loss: 361.2661 - val_loss: 307.3151\n",
            "Epoch 192/400\n",
            "29/29 [==============================] - 0s 6ms/step - loss: 233.4217 - val_loss: 327.2237\n",
            "Epoch 193/400\n",
            "29/29 [==============================] - 0s 6ms/step - loss: 237.5500 - val_loss: 527.1354\n",
            "Epoch 194/400\n",
            "29/29 [==============================] - 0s 6ms/step - loss: 301.2167 - val_loss: 420.6983\n",
            "Epoch 195/400\n",
            "29/29 [==============================] - 0s 6ms/step - loss: 297.2371 - val_loss: 306.6021\n",
            "Epoch 196/400\n",
            "29/29 [==============================] - 0s 6ms/step - loss: 265.0420 - val_loss: 354.2987\n",
            "Epoch 197/400\n",
            "29/29 [==============================] - 0s 6ms/step - loss: 250.3650 - val_loss: 328.2828\n",
            "Epoch 198/400\n",
            "29/29 [==============================] - 0s 5ms/step - loss: 268.8473 - val_loss: 303.1327\n",
            "Epoch 199/400\n",
            "29/29 [==============================] - 0s 6ms/step - loss: 285.9386 - val_loss: 462.2676\n",
            "Epoch 200/400\n",
            "29/29 [==============================] - 0s 6ms/step - loss: 333.7516 - val_loss: 347.1751\n",
            "Epoch 201/400\n",
            "29/29 [==============================] - 0s 6ms/step - loss: 338.2601 - val_loss: 291.4971\n",
            "Epoch 202/400\n",
            "29/29 [==============================] - 0s 6ms/step - loss: 199.2368 - val_loss: 306.9130\n",
            "Epoch 203/400\n",
            "29/29 [==============================] - 0s 6ms/step - loss: 210.1812 - val_loss: 300.3968\n",
            "Epoch 204/400\n",
            "29/29 [==============================] - 0s 6ms/step - loss: 204.1949 - val_loss: 337.8411\n",
            "Epoch 205/400\n",
            "29/29 [==============================] - 0s 5ms/step - loss: 223.2013 - val_loss: 370.1608\n",
            "Epoch 206/400\n",
            "29/29 [==============================] - 0s 5ms/step - loss: 267.1495 - val_loss: 265.4804\n",
            "Epoch 207/400\n",
            "29/29 [==============================] - 0s 6ms/step - loss: 190.0053 - val_loss: 391.1086\n",
            "Epoch 208/400\n",
            "29/29 [==============================] - 0s 6ms/step - loss: 225.8344 - val_loss: 354.3666\n",
            "Epoch 209/400\n",
            "29/29 [==============================] - 0s 7ms/step - loss: 249.3937 - val_loss: 382.4096\n",
            "Epoch 210/400\n",
            "29/29 [==============================] - 0s 6ms/step - loss: 247.7547 - val_loss: 337.8430\n",
            "Epoch 211/400\n",
            "29/29 [==============================] - 0s 5ms/step - loss: 269.9542 - val_loss: 249.6837\n",
            "Epoch 212/400\n",
            "29/29 [==============================] - 0s 5ms/step - loss: 192.7368 - val_loss: 254.3829\n",
            "Epoch 213/400\n",
            "29/29 [==============================] - 0s 6ms/step - loss: 210.8612 - val_loss: 324.9373\n",
            "Epoch 214/400\n",
            "29/29 [==============================] - 0s 6ms/step - loss: 206.1392 - val_loss: 272.4474\n",
            "Epoch 215/400\n",
            "29/29 [==============================] - 0s 6ms/step - loss: 198.8892 - val_loss: 240.4191\n",
            "Epoch 216/400\n",
            "29/29 [==============================] - 0s 6ms/step - loss: 195.2412 - val_loss: 253.9975\n",
            "Epoch 217/400\n",
            "29/29 [==============================] - 0s 6ms/step - loss: 202.7036 - val_loss: 312.0139\n",
            "Epoch 218/400\n",
            "29/29 [==============================] - 0s 5ms/step - loss: 189.2028 - val_loss: 258.0702\n",
            "Epoch 219/400\n",
            "29/29 [==============================] - 0s 6ms/step - loss: 184.1693 - val_loss: 309.8784\n",
            "Epoch 220/400\n",
            "29/29 [==============================] - 0s 5ms/step - loss: 186.4211 - val_loss: 241.5993\n",
            "Epoch 221/400\n",
            "29/29 [==============================] - 0s 6ms/step - loss: 190.3275 - val_loss: 253.4544\n",
            "Epoch 222/400\n",
            "29/29 [==============================] - 0s 6ms/step - loss: 210.0894 - val_loss: 233.3998\n",
            "Epoch 223/400\n",
            "29/29 [==============================] - 0s 6ms/step - loss: 208.1632 - val_loss: 350.0496\n",
            "Epoch 224/400\n",
            "29/29 [==============================] - 0s 6ms/step - loss: 232.8456 - val_loss: 381.0536\n",
            "Epoch 225/400\n",
            "29/29 [==============================] - 0s 6ms/step - loss: 203.4884 - val_loss: 280.5774\n",
            "Epoch 226/400\n",
            "29/29 [==============================] - 0s 6ms/step - loss: 225.3717 - val_loss: 732.6324\n",
            "Epoch 227/400\n",
            "29/29 [==============================] - 0s 6ms/step - loss: 374.5130 - val_loss: 303.6361\n",
            "Epoch 228/400\n",
            "29/29 [==============================] - 0s 5ms/step - loss: 194.5582 - val_loss: 231.3649\n",
            "Epoch 229/400\n",
            "29/29 [==============================] - 0s 6ms/step - loss: 198.4783 - val_loss: 209.7768\n",
            "Epoch 230/400\n",
            "29/29 [==============================] - 0s 6ms/step - loss: 189.3322 - val_loss: 281.0177\n",
            "Epoch 231/400\n",
            "29/29 [==============================] - 0s 6ms/step - loss: 198.9408 - val_loss: 357.4893\n",
            "Epoch 232/400\n",
            "29/29 [==============================] - 0s 6ms/step - loss: 202.7031 - val_loss: 206.5089\n",
            "Epoch 233/400\n",
            "29/29 [==============================] - 0s 6ms/step - loss: 145.9322 - val_loss: 224.5414\n",
            "Epoch 234/400\n",
            "29/29 [==============================] - 0s 6ms/step - loss: 152.7508 - val_loss: 258.3154\n",
            "Epoch 235/400\n",
            "29/29 [==============================] - 0s 6ms/step - loss: 206.1661 - val_loss: 202.2991\n",
            "Epoch 236/400\n",
            "29/29 [==============================] - 0s 6ms/step - loss: 218.8708 - val_loss: 281.5869\n",
            "Epoch 237/400\n",
            "29/29 [==============================] - 0s 6ms/step - loss: 169.8835 - val_loss: 276.2733\n",
            "Epoch 238/400\n",
            "29/29 [==============================] - 0s 8ms/step - loss: 199.7423 - val_loss: 199.8028\n",
            "Epoch 239/400\n",
            "29/29 [==============================] - 0s 6ms/step - loss: 189.5516 - val_loss: 224.7298\n",
            "Epoch 240/400\n",
            "29/29 [==============================] - 0s 6ms/step - loss: 196.6076 - val_loss: 222.0410\n",
            "Epoch 241/400\n",
            "29/29 [==============================] - 0s 6ms/step - loss: 172.5182 - val_loss: 195.3699\n",
            "Epoch 242/400\n",
            "29/29 [==============================] - 0s 6ms/step - loss: 143.3494 - val_loss: 313.9510\n",
            "Epoch 243/400\n",
            "29/29 [==============================] - 0s 6ms/step - loss: 214.0739 - val_loss: 221.2006\n",
            "Epoch 244/400\n",
            "29/29 [==============================] - 0s 5ms/step - loss: 226.0936 - val_loss: 196.8467\n",
            "Epoch 245/400\n",
            "29/29 [==============================] - 0s 6ms/step - loss: 158.2583 - val_loss: 367.4705\n",
            "Epoch 246/400\n",
            "29/29 [==============================] - 0s 6ms/step - loss: 224.8206 - val_loss: 204.5592\n",
            "Epoch 247/400\n",
            "29/29 [==============================] - 0s 5ms/step - loss: 189.5303 - val_loss: 313.2862\n",
            "Epoch 248/400\n",
            "29/29 [==============================] - 0s 6ms/step - loss: 180.0955 - val_loss: 237.1910\n",
            "Epoch 249/400\n",
            "29/29 [==============================] - 0s 6ms/step - loss: 175.5764 - val_loss: 194.4147\n",
            "Epoch 250/400\n",
            "29/29 [==============================] - 0s 6ms/step - loss: 199.9364 - val_loss: 197.0423\n",
            "Epoch 251/400\n",
            "29/29 [==============================] - 0s 6ms/step - loss: 132.7614 - val_loss: 452.9895\n",
            "Epoch 252/400\n",
            "29/29 [==============================] - 0s 6ms/step - loss: 225.2915 - val_loss: 187.9778\n",
            "Epoch 253/400\n",
            "29/29 [==============================] - 0s 6ms/step - loss: 196.3371 - val_loss: 197.7371\n",
            "Epoch 254/400\n",
            "29/29 [==============================] - 0s 6ms/step - loss: 144.0323 - val_loss: 181.7938\n",
            "Epoch 255/400\n",
            "29/29 [==============================] - 0s 6ms/step - loss: 167.7712 - val_loss: 190.8053\n",
            "Epoch 256/400\n",
            "29/29 [==============================] - 0s 6ms/step - loss: 147.7676 - val_loss: 368.0383\n",
            "Epoch 257/400\n",
            "29/29 [==============================] - 0s 6ms/step - loss: 222.4347 - val_loss: 183.2072\n",
            "Epoch 258/400\n",
            "29/29 [==============================] - 0s 6ms/step - loss: 143.4605 - val_loss: 193.7508\n",
            "Epoch 259/400\n",
            "29/29 [==============================] - 0s 6ms/step - loss: 166.8530 - val_loss: 186.5812\n",
            "Epoch 260/400\n",
            "29/29 [==============================] - 0s 6ms/step - loss: 143.4508 - val_loss: 209.3859\n",
            "Epoch 261/400\n",
            "29/29 [==============================] - 0s 6ms/step - loss: 159.1950 - val_loss: 174.1883\n",
            "Epoch 262/400\n",
            "29/29 [==============================] - 0s 6ms/step - loss: 137.5103 - val_loss: 192.2733\n",
            "Epoch 263/400\n",
            "29/29 [==============================] - 0s 5ms/step - loss: 160.0134 - val_loss: 243.7749\n",
            "Epoch 264/400\n",
            "29/29 [==============================] - 0s 6ms/step - loss: 262.9552 - val_loss: 218.7959\n",
            "Epoch 265/400\n",
            "29/29 [==============================] - 0s 6ms/step - loss: 173.5015 - val_loss: 258.6004\n",
            "Epoch 266/400\n",
            "29/29 [==============================] - 0s 6ms/step - loss: 231.7766 - val_loss: 179.5008\n",
            "Epoch 267/400\n",
            "29/29 [==============================] - 0s 6ms/step - loss: 147.5472 - val_loss: 182.0249\n",
            "Epoch 268/400\n",
            "29/29 [==============================] - 0s 6ms/step - loss: 156.6593 - val_loss: 184.2197\n",
            "Epoch 269/400\n",
            "29/29 [==============================] - 0s 6ms/step - loss: 122.9514 - val_loss: 177.7074\n",
            "Epoch 270/400\n",
            "29/29 [==============================] - 0s 6ms/step - loss: 139.5584 - val_loss: 171.5681\n",
            "Epoch 271/400\n",
            "29/29 [==============================] - 0s 6ms/step - loss: 138.4122 - val_loss: 187.1732\n",
            "Epoch 272/400\n",
            "29/29 [==============================] - 0s 6ms/step - loss: 149.7224 - val_loss: 264.8435\n",
            "Epoch 273/400\n",
            "29/29 [==============================] - 0s 5ms/step - loss: 147.6925 - val_loss: 169.7198\n",
            "Epoch 274/400\n",
            "29/29 [==============================] - 0s 6ms/step - loss: 171.4984 - val_loss: 189.5952\n",
            "Epoch 275/400\n",
            "29/29 [==============================] - 0s 6ms/step - loss: 158.5451 - val_loss: 354.3946\n",
            "Epoch 276/400\n",
            "29/29 [==============================] - 0s 6ms/step - loss: 172.9959 - val_loss: 172.9364\n",
            "Epoch 277/400\n",
            "29/29 [==============================] - 0s 6ms/step - loss: 122.8174 - val_loss: 233.8772\n",
            "Epoch 278/400\n",
            "29/29 [==============================] - 0s 6ms/step - loss: 169.4958 - val_loss: 226.8921\n",
            "Epoch 279/400\n",
            "29/29 [==============================] - 0s 6ms/step - loss: 155.4154 - val_loss: 174.2763\n",
            "Epoch 280/400\n",
            "29/29 [==============================] - 0s 6ms/step - loss: 157.1189 - val_loss: 217.1458\n",
            "Epoch 281/400\n",
            "29/29 [==============================] - 0s 6ms/step - loss: 163.0169 - val_loss: 283.9089\n",
            "Epoch 282/400\n",
            "29/29 [==============================] - 0s 6ms/step - loss: 225.8155 - val_loss: 177.6714\n",
            "Epoch 283/400\n",
            "29/29 [==============================] - 0s 6ms/step - loss: 206.2073 - val_loss: 168.5376\n",
            "Epoch 284/400\n",
            "29/29 [==============================] - 0s 6ms/step - loss: 158.0603 - val_loss: 264.2200\n",
            "Epoch 285/400\n",
            "29/29 [==============================] - 0s 6ms/step - loss: 157.9079 - val_loss: 238.3273\n",
            "Epoch 286/400\n",
            "29/29 [==============================] - 0s 6ms/step - loss: 162.0510 - val_loss: 232.6803\n",
            "Epoch 287/400\n",
            "29/29 [==============================] - 0s 6ms/step - loss: 189.2128 - val_loss: 218.6014\n",
            "Epoch 288/400\n",
            "29/29 [==============================] - 0s 6ms/step - loss: 145.5290 - val_loss: 182.9448\n",
            "Epoch 289/400\n",
            "29/29 [==============================] - 0s 7ms/step - loss: 145.5285 - val_loss: 181.1323\n",
            "Epoch 290/400\n",
            "29/29 [==============================] - 0s 6ms/step - loss: 209.7437 - val_loss: 171.0340\n",
            "Epoch 291/400\n",
            "29/29 [==============================] - 0s 6ms/step - loss: 183.5841 - val_loss: 313.2419\n",
            "Epoch 292/400\n",
            "29/29 [==============================] - 0s 6ms/step - loss: 194.6610 - val_loss: 367.5155\n",
            "Epoch 293/400\n",
            "29/29 [==============================] - 0s 6ms/step - loss: 171.7441 - val_loss: 235.8463\n",
            "Epoch 294/400\n",
            "29/29 [==============================] - 0s 6ms/step - loss: 176.8679 - val_loss: 209.8640\n",
            "Epoch 295/400\n",
            "29/29 [==============================] - 0s 6ms/step - loss: 136.7751 - val_loss: 166.6129\n",
            "Epoch 296/400\n",
            "29/29 [==============================] - 0s 6ms/step - loss: 154.6686 - val_loss: 213.5933\n",
            "Epoch 297/400\n",
            "29/29 [==============================] - 0s 7ms/step - loss: 182.4951 - val_loss: 270.8879\n",
            "Epoch 298/400\n",
            "29/29 [==============================] - 0s 6ms/step - loss: 163.7177 - val_loss: 191.8695\n",
            "Epoch 299/400\n",
            "29/29 [==============================] - 0s 6ms/step - loss: 142.9568 - val_loss: 190.3792\n",
            "Epoch 300/400\n",
            "29/29 [==============================] - 0s 6ms/step - loss: 152.3847 - val_loss: 206.6188\n",
            "Epoch 301/400\n",
            "29/29 [==============================] - 0s 5ms/step - loss: 180.5086 - val_loss: 170.3630\n",
            "Epoch 302/400\n",
            "29/29 [==============================] - 0s 6ms/step - loss: 156.1149 - val_loss: 175.7196\n",
            "Epoch 303/400\n",
            "29/29 [==============================] - 0s 6ms/step - loss: 143.1598 - val_loss: 223.6491\n",
            "Epoch 304/400\n",
            "29/29 [==============================] - 0s 6ms/step - loss: 152.3331 - val_loss: 169.1530\n",
            "Epoch 305/400\n",
            "29/29 [==============================] - 0s 6ms/step - loss: 181.6676 - val_loss: 181.4792\n",
            "Epoch 306/400\n",
            "29/29 [==============================] - 0s 6ms/step - loss: 130.5096 - val_loss: 193.5738\n",
            "Epoch 307/400\n",
            "29/29 [==============================] - 0s 6ms/step - loss: 161.6899 - val_loss: 165.7205\n",
            "Epoch 308/400\n",
            "29/29 [==============================] - 0s 7ms/step - loss: 148.7384 - val_loss: 181.8038\n",
            "Epoch 309/400\n",
            "29/29 [==============================] - 0s 6ms/step - loss: 160.3790 - val_loss: 228.9745\n",
            "Epoch 310/400\n",
            "29/29 [==============================] - 0s 6ms/step - loss: 193.0554 - val_loss: 201.2743\n",
            "Epoch 311/400\n",
            "29/29 [==============================] - 0s 6ms/step - loss: 138.8195 - val_loss: 207.1033\n",
            "Epoch 312/400\n",
            "29/29 [==============================] - 0s 6ms/step - loss: 180.2923 - val_loss: 193.5360\n",
            "Epoch 313/400\n",
            "29/29 [==============================] - 0s 6ms/step - loss: 133.7225 - val_loss: 176.3844\n",
            "Epoch 314/400\n",
            "29/29 [==============================] - 0s 6ms/step - loss: 137.6688 - val_loss: 299.6593\n",
            "Epoch 315/400\n",
            "29/29 [==============================] - 0s 6ms/step - loss: 229.8021 - val_loss: 174.2561\n",
            "Epoch 316/400\n",
            "29/29 [==============================] - 0s 6ms/step - loss: 116.2406 - val_loss: 171.4210\n",
            "Epoch 317/400\n",
            "29/29 [==============================] - 0s 6ms/step - loss: 148.6727 - val_loss: 208.8277\n",
            "Epoch 318/400\n",
            "29/29 [==============================] - 0s 6ms/step - loss: 144.6001 - val_loss: 166.3099\n",
            "Epoch 319/400\n",
            "29/29 [==============================] - 0s 6ms/step - loss: 164.1021 - val_loss: 190.9282\n",
            "Epoch 320/400\n",
            "29/29 [==============================] - 0s 6ms/step - loss: 131.8422 - val_loss: 300.9546\n",
            "Epoch 321/400\n",
            "29/29 [==============================] - 0s 6ms/step - loss: 179.4404 - val_loss: 189.2624\n",
            "Epoch 322/400\n",
            "29/29 [==============================] - 0s 7ms/step - loss: 164.4492 - val_loss: 204.5048\n",
            "Epoch 323/400\n",
            "29/29 [==============================] - 0s 6ms/step - loss: 160.8259 - val_loss: 208.8000\n",
            "Epoch 324/400\n",
            "29/29 [==============================] - 0s 6ms/step - loss: 154.8632 - val_loss: 189.7314\n",
            "Epoch 325/400\n",
            "29/29 [==============================] - 0s 6ms/step - loss: 152.2838 - val_loss: 233.6031\n",
            "Epoch 326/400\n",
            "29/29 [==============================] - 0s 6ms/step - loss: 137.7969 - val_loss: 161.4783\n",
            "Epoch 327/400\n",
            "29/29 [==============================] - 0s 6ms/step - loss: 139.4434 - val_loss: 167.9556\n",
            "Epoch 328/400\n",
            "29/29 [==============================] - 0s 6ms/step - loss: 129.3670 - val_loss: 172.2126\n",
            "Epoch 329/400\n",
            "29/29 [==============================] - 0s 6ms/step - loss: 219.6539 - val_loss: 194.7996\n",
            "Epoch 330/400\n",
            "29/29 [==============================] - 0s 6ms/step - loss: 141.0977 - val_loss: 291.0104\n",
            "Epoch 331/400\n",
            "29/29 [==============================] - 0s 6ms/step - loss: 174.9107 - val_loss: 224.5270\n",
            "Epoch 332/400\n",
            "29/29 [==============================] - 0s 6ms/step - loss: 142.0547 - val_loss: 197.5758\n",
            "Epoch 333/400\n",
            "29/29 [==============================] - 0s 6ms/step - loss: 136.2091 - val_loss: 201.1364\n",
            "Epoch 334/400\n",
            "29/29 [==============================] - 0s 6ms/step - loss: 140.6227 - val_loss: 164.9874\n",
            "Epoch 335/400\n",
            "29/29 [==============================] - 0s 6ms/step - loss: 165.9451 - val_loss: 326.6952\n",
            "Epoch 336/400\n",
            "29/29 [==============================] - 0s 6ms/step - loss: 178.2289 - val_loss: 278.3350\n",
            "Epoch 337/400\n",
            "29/29 [==============================] - 0s 6ms/step - loss: 208.2407 - val_loss: 177.8926\n",
            "Epoch 338/400\n",
            "29/29 [==============================] - 0s 5ms/step - loss: 126.4125 - val_loss: 202.0536\n",
            "Epoch 339/400\n",
            "29/29 [==============================] - 0s 6ms/step - loss: 122.5454 - val_loss: 165.6405\n",
            "Epoch 340/400\n",
            "29/29 [==============================] - 0s 6ms/step - loss: 142.0323 - val_loss: 166.5712\n",
            "Epoch 341/400\n",
            "29/29 [==============================] - 0s 6ms/step - loss: 173.5571 - val_loss: 159.1440\n",
            "Epoch 342/400\n",
            "29/29 [==============================] - 0s 6ms/step - loss: 133.8259 - val_loss: 248.3808\n",
            "Epoch 343/400\n",
            "29/29 [==============================] - 0s 6ms/step - loss: 146.8081 - val_loss: 176.0620\n",
            "Epoch 344/400\n",
            "29/29 [==============================] - 0s 6ms/step - loss: 160.3958 - val_loss: 298.4718\n",
            "Epoch 345/400\n",
            "29/29 [==============================] - 0s 6ms/step - loss: 218.7304 - val_loss: 176.1684\n",
            "Epoch 346/400\n",
            "29/29 [==============================] - 0s 6ms/step - loss: 126.3385 - val_loss: 168.9937\n",
            "Epoch 347/400\n",
            "29/29 [==============================] - 0s 6ms/step - loss: 188.9253 - val_loss: 182.5800\n",
            "Epoch 348/400\n",
            "29/29 [==============================] - 0s 6ms/step - loss: 218.3531 - val_loss: 195.7011\n",
            "Epoch 349/400\n",
            "29/29 [==============================] - 0s 6ms/step - loss: 225.1968 - val_loss: 186.5713\n",
            "Epoch 350/400\n",
            "29/29 [==============================] - 0s 6ms/step - loss: 141.4380 - val_loss: 166.0439\n",
            "Epoch 351/400\n",
            "29/29 [==============================] - 0s 7ms/step - loss: 149.1009 - val_loss: 206.0231\n",
            "Epoch 352/400\n",
            "29/29 [==============================] - 0s 6ms/step - loss: 244.1192 - val_loss: 233.4820\n",
            "Epoch 353/400\n",
            "29/29 [==============================] - 0s 6ms/step - loss: 167.8821 - val_loss: 161.0996\n",
            "Epoch 354/400\n",
            "29/29 [==============================] - 0s 6ms/step - loss: 145.5577 - val_loss: 167.5255\n",
            "Epoch 355/400\n",
            "29/29 [==============================] - 0s 6ms/step - loss: 156.1434 - val_loss: 169.6747\n",
            "Epoch 356/400\n",
            "29/29 [==============================] - 0s 7ms/step - loss: 130.4915 - val_loss: 164.4115\n",
            "Epoch 357/400\n",
            "29/29 [==============================] - 0s 6ms/step - loss: 138.6353 - val_loss: 192.6218\n",
            "Epoch 358/400\n",
            "29/29 [==============================] - 0s 6ms/step - loss: 132.6257 - val_loss: 160.5341\n",
            "Epoch 359/400\n",
            "29/29 [==============================] - 0s 6ms/step - loss: 134.7761 - val_loss: 155.8623\n",
            "Epoch 360/400\n",
            "29/29 [==============================] - 0s 6ms/step - loss: 131.4037 - val_loss: 326.6336\n",
            "Epoch 361/400\n",
            "29/29 [==============================] - 0s 6ms/step - loss: 193.6503 - val_loss: 161.0963\n",
            "Epoch 362/400\n",
            "29/29 [==============================] - 0s 7ms/step - loss: 165.6954 - val_loss: 205.4310\n",
            "Epoch 363/400\n",
            "29/29 [==============================] - 0s 5ms/step - loss: 126.2146 - val_loss: 174.1329\n",
            "Epoch 364/400\n",
            "29/29 [==============================] - 0s 5ms/step - loss: 127.6934 - val_loss: 167.5691\n",
            "Epoch 365/400\n",
            "29/29 [==============================] - 0s 6ms/step - loss: 117.7457 - val_loss: 223.0931\n",
            "Epoch 366/400\n",
            "29/29 [==============================] - 0s 6ms/step - loss: 127.7941 - val_loss: 238.6789\n",
            "Epoch 367/400\n",
            "29/29 [==============================] - 0s 5ms/step - loss: 186.1143 - val_loss: 174.2112\n",
            "Epoch 368/400\n",
            "29/29 [==============================] - 0s 6ms/step - loss: 113.6780 - val_loss: 222.9958\n",
            "Epoch 369/400\n",
            "29/29 [==============================] - 0s 5ms/step - loss: 153.8672 - val_loss: 166.1254\n",
            "Epoch 370/400\n",
            "29/29 [==============================] - 0s 6ms/step - loss: 131.2355 - val_loss: 218.4365\n",
            "Epoch 371/400\n",
            "29/29 [==============================] - 0s 6ms/step - loss: 192.4924 - val_loss: 242.7460\n",
            "Epoch 372/400\n",
            "29/29 [==============================] - 0s 6ms/step - loss: 154.9246 - val_loss: 170.4128\n",
            "Epoch 373/400\n",
            "29/29 [==============================] - 0s 6ms/step - loss: 118.2174 - val_loss: 246.6881\n",
            "Epoch 374/400\n",
            "29/29 [==============================] - 0s 6ms/step - loss: 150.4729 - val_loss: 172.1551\n",
            "Epoch 375/400\n",
            "29/29 [==============================] - 0s 6ms/step - loss: 149.3579 - val_loss: 171.0582\n",
            "Epoch 376/400\n",
            "29/29 [==============================] - 0s 6ms/step - loss: 150.7942 - val_loss: 277.7963\n",
            "Epoch 377/400\n",
            "29/29 [==============================] - 0s 6ms/step - loss: 199.8273 - val_loss: 163.5500\n",
            "Epoch 378/400\n",
            "29/29 [==============================] - 0s 6ms/step - loss: 120.7442 - val_loss: 174.4310\n",
            "Epoch 379/400\n",
            "29/29 [==============================] - 0s 6ms/step - loss: 146.4576 - val_loss: 263.6817\n",
            "Epoch 380/400\n",
            "29/29 [==============================] - 0s 6ms/step - loss: 187.7037 - val_loss: 168.6025\n",
            "Epoch 381/400\n",
            "29/29 [==============================] - 0s 6ms/step - loss: 119.0600 - val_loss: 173.4962\n",
            "Epoch 382/400\n",
            "29/29 [==============================] - 0s 6ms/step - loss: 143.2152 - val_loss: 169.6818\n",
            "Epoch 383/400\n",
            "29/29 [==============================] - 0s 6ms/step - loss: 138.3520 - val_loss: 159.0705\n",
            "Epoch 384/400\n",
            "29/29 [==============================] - 0s 6ms/step - loss: 132.2127 - val_loss: 163.6463\n",
            "Epoch 385/400\n",
            "29/29 [==============================] - 0s 6ms/step - loss: 171.8921 - val_loss: 258.9979\n",
            "Epoch 386/400\n",
            "29/29 [==============================] - 0s 6ms/step - loss: 171.3925 - val_loss: 156.8135\n",
            "Epoch 387/400\n",
            "29/29 [==============================] - 0s 6ms/step - loss: 112.9963 - val_loss: 183.1297\n",
            "Epoch 388/400\n",
            "29/29 [==============================] - 0s 6ms/step - loss: 159.0227 - val_loss: 163.6607\n",
            "Epoch 389/400\n",
            "29/29 [==============================] - 0s 6ms/step - loss: 131.3273 - val_loss: 162.6670\n",
            "Epoch 390/400\n",
            "29/29 [==============================] - 0s 7ms/step - loss: 210.1017 - val_loss: 234.4764\n",
            "Epoch 391/400\n",
            "29/29 [==============================] - 0s 6ms/step - loss: 158.6536 - val_loss: 169.8941\n",
            "Epoch 392/400\n",
            "29/29 [==============================] - 0s 6ms/step - loss: 142.4363 - val_loss: 214.3976\n",
            "Epoch 393/400\n",
            "29/29 [==============================] - 0s 6ms/step - loss: 141.0824 - val_loss: 219.3162\n",
            "Epoch 394/400\n",
            "29/29 [==============================] - 0s 6ms/step - loss: 172.9951 - val_loss: 167.4597\n",
            "Epoch 395/400\n",
            "29/29 [==============================] - 0s 6ms/step - loss: 140.3159 - val_loss: 225.4698\n",
            "Epoch 396/400\n",
            "29/29 [==============================] - 0s 7ms/step - loss: 156.7175 - val_loss: 179.4835\n",
            "Epoch 397/400\n",
            "29/29 [==============================] - 0s 6ms/step - loss: 139.8033 - val_loss: 190.2743\n",
            "Epoch 398/400\n",
            "29/29 [==============================] - 0s 7ms/step - loss: 142.3342 - val_loss: 164.9975\n",
            "Epoch 399/400\n",
            "29/29 [==============================] - 0s 6ms/step - loss: 126.6889 - val_loss: 172.6019\n",
            "Epoch 400/400\n",
            "29/29 [==============================] - 0s 6ms/step - loss: 134.7827 - val_loss: 174.3479\n",
            "CPU times: user 1min 14s, sys: 3.87 s, total: 1min 18s\n",
            "Wall time: 1min 10s\n"
          ],
          "name": "stdout"
        },
        {
          "output_type": "execute_result",
          "data": {
            "text/plain": [
              "<tensorflow.python.keras.callbacks.History at 0x7fea4a194450>"
            ]
          },
          "metadata": {
            "tags": []
          },
          "execution_count": 60
        }
      ]
    },
    {
      "cell_type": "code",
      "metadata": {
        "id": "Y0KVgcs3xru9"
      },
      "source": [
        "losses = pd.DataFrame(model1.history.history)"
      ],
      "execution_count": null,
      "outputs": []
    },
    {
      "cell_type": "code",
      "metadata": {
        "colab": {
          "base_uri": "https://localhost:8080/",
          "height": 291
        },
        "id": "YRKSm5YXxru9",
        "outputId": "6a174bee-a699-402a-b08e-ede6f916c753"
      },
      "source": [
        "losses.plot()"
      ],
      "execution_count": null,
      "outputs": [
        {
          "output_type": "execute_result",
          "data": {
            "text/plain": [
              "<matplotlib.axes._subplots.AxesSubplot at 0x7fea4874e710>"
            ]
          },
          "metadata": {
            "tags": []
          },
          "execution_count": 62
        },
        {
          "output_type": "display_data",
          "data": {
            "image/png": "[encoded data removed]",
            "text/plain": [
              "<Figure size 432x288 with 1 Axes>"
            ]
          },
          "metadata": {
            "tags": [],
            "needs_background": "light"
          }
        }
      ]
    },
    {
      "cell_type": "markdown",
      "metadata": {
        "id": "rDvmaWDqxru-"
      },
      "source": [
        "# Evaluation on Test Data"
      ]
    },
    {
      "cell_type": "code",
      "metadata": {
        "id": "9hrnRraZxru-"
      },
      "source": [
        "from sklearn.metrics import mean_squared_error,mean_absolute_error,explained_variance_score"
      ],
      "execution_count": null,
      "outputs": []
    },
    {
      "cell_type": "code",
      "metadata": {
        "colab": {
          "base_uri": "https://localhost:8080/"
        },
        "id": "npd_DbPvxru-",
        "outputId": "5174190c-6ac9-45e6-a67e-8ec66a3c289a"
      },
      "source": [
        "X_test"
      ],
      "execution_count": null,
      "outputs": [
        {
          "output_type": "execute_result",
          "data": {
            "text/plain": [
              "array([[0.04757068, 0.04648237, 0.04972942, 0.04775499],\n",
              "       [0.30391061, 0.29644099, 0.30546119, 0.10998337],\n",
              "       [0.43863213, 0.42539315, 0.44039469, 0.07282217],\n",
              "       ...,\n",
              "       [0.17758592, 0.17228936, 0.17931953, 0.12253846],\n",
              "       [0.36343321, 0.35373283, 0.36599689, 0.11700826],\n",
              "       [0.09128153, 0.08621089, 0.09471294, 0.04279062]])"
            ]
          },
          "metadata": {
            "tags": []
          },
          "execution_count": 64
        }
      ]
    },
    {
      "cell_type": "code",
      "metadata": {
        "id": "dGnTlSrkxru-"
      },
      "source": [
        "predictions = model1.predict(X_test)"
      ],
      "execution_count": null,
      "outputs": []
    },
    {
      "cell_type": "code",
      "metadata": {
        "id": "xT6Rpzu0xru-"
      },
      "source": [
        "mse=mean_squared_error(y_test,predictions)"
      ],
      "execution_count": null,
      "outputs": []
    },
    {
      "cell_type": "code",
      "metadata": {
        "colab": {
          "base_uri": "https://localhost:8080/"
        },
        "id": "atGrs5bpxru_",
        "outputId": "4329f713-3fb3-4b6a-ac7e-5ed1675bda3c"
      },
      "source": [
        "np.sqrt(mse)"
      ],
      "execution_count": null,
      "outputs": [
        {
          "output_type": "execute_result",
          "data": {
            "text/plain": [
              "13.204090721575254"
            ]
          },
          "metadata": {
            "tags": []
          },
          "execution_count": 67
        }
      ]
    },
    {
      "cell_type": "code",
      "metadata": {
        "colab": {
          "base_uri": "https://localhost:8080/"
        },
        "id": "c009ZCP66gEk",
        "outputId": "fb52745d-e398-44d4-b6b0-9e293e2d88ba"
      },
      "source": [
        "predictions=predictions.reshape(predictions.shape[0],)\n",
        "predictions.shape"
      ],
      "execution_count": null,
      "outputs": [
        {
          "output_type": "execute_result",
          "data": {
            "text/plain": [
              "(1562,)"
            ]
          },
          "metadata": {
            "tags": []
          },
          "execution_count": 68
        }
      ]
    },
    {
      "cell_type": "code",
      "metadata": {
        "colab": {
          "base_uri": "https://localhost:8080/",
          "height": 280
        },
        "id": "8YW9nppSxru_",
        "outputId": "e702d3b6-383c-4bee-9eb0-c7a261d93373"
      },
      "source": [
        "# Our predictions\n",
        "plt.scatter(y_test,predictions)\n",
        "\n",
        "# Perfect predictions\n",
        "plt.plot(y_test,y_test,'r')"
      ],
      "execution_count": null,
      "outputs": [
        {
          "output_type": "execute_result",
          "data": {
            "text/plain": [
              "[<matplotlib.lines.Line2D at 0x7fea4866b890>]"
            ]
          },
          "metadata": {
            "tags": []
          },
          "execution_count": 70
        },
        {
          "output_type": "display_data",
          "data": {
            "image/png": "[encoded data removed]",
            "text/plain": [
              "<Figure size 432x288 with 1 Axes>"
            ]
          },
          "metadata": {
            "tags": [],
            "needs_background": "light"
          }
        }
      ]
    },
    {
      "cell_type": "markdown",
      "metadata": {
        "id": "eMnEa_hGErPb"
      },
      "source": [
        "# Using RNN for predicting the price of stocks"
      ]
    },
    {
      "cell_type": "code",
      "metadata": {
        "id": "29cQ2VtOEzsz"
      },
      "source": [
        "# Some functions to help out with\n",
        "def plot_predictions(test,predicted):\n",
        "    plt.plot(test, color='red',label='Real Reliance Stock Price')\n",
        "    plt.plot(predicted, color='blue',label='Predicted Reliance Stock Price')\n",
        "    plt.title('Reliance Stock Price Prediction')\n",
        "    plt.xlabel('Time')\n",
        "    plt.ylabel('Reliance Stock Price')\n",
        "    plt.legend()\n",
        "    plt.show()\n",
        "\n",
        "def return_rmse(test,predicted):\n",
        "    rmse = math.sqrt(mean_squared_error(test, predicted))\n",
        "    print(\"The root mean squared error is {}.\".format(rmse))"
      ],
      "execution_count": null,
      "outputs": []
    },
    {
      "cell_type": "code",
      "metadata": {
        "id": "DXBwEGsfE2Xy",
        "colab": {
          "base_uri": "https://localhost:8080/",
          "height": 223
        },
        "outputId": "b4da1972-1e5e-4d9c-9123-c8dffe632c6d"
      },
      "source": [
        "dataset = pd.read_csv('/content/drive/MyDrive/RELIANCE.csv', index_col='Date', parse_dates=['Date'])\n",
        "dataset.head()"
      ],
      "execution_count": null,
      "outputs": [
        {
          "output_type": "execute_result",
          "data": {
            "text/html": [
              "<div>\n",
              "<style scoped>\n",
              "    .dataframe tbody tr th:only-of-type {\n",
              "        vertical-align: middle;\n",
              "    }\n",
              "\n",
              "    .dataframe tbody tr th {\n",
              "        vertical-align: top;\n",
              "    }\n",
              "\n",
              "    .dataframe thead th {\n",
              "        text-align: right;\n",
              "    }\n",
              "</style>\n",
              "<table border=\"1\" class=\"dataframe\">\n",
              "  <thead>\n",
              "    <tr style=\"text-align: right;\">\n",
              "      <th></th>\n",
              "      <th>Open</th>\n",
              "      <th>High</th>\n",
              "      <th>Low</th>\n",
              "      <th>Close</th>\n",
              "      <th>Volume</th>\n",
              "      <th>Name</th>\n",
              "    </tr>\n",
              "    <tr>\n",
              "      <th>Date</th>\n",
              "      <th></th>\n",
              "      <th></th>\n",
              "      <th></th>\n",
              "      <th></th>\n",
              "      <th></th>\n",
              "      <th></th>\n",
              "    </tr>\n",
              "  </thead>\n",
              "  <tbody>\n",
              "    <tr>\n",
              "      <th>2000-01-03</th>\n",
              "      <td>237.50</td>\n",
              "      <td>251.70</td>\n",
              "      <td>237.50</td>\n",
              "      <td>251.70</td>\n",
              "      <td>4456424</td>\n",
              "      <td>RELIANCE</td>\n",
              "    </tr>\n",
              "    <tr>\n",
              "      <th>2000-01-04</th>\n",
              "      <td>258.40</td>\n",
              "      <td>271.85</td>\n",
              "      <td>251.30</td>\n",
              "      <td>271.85</td>\n",
              "      <td>9487878</td>\n",
              "      <td>RELIANCE</td>\n",
              "    </tr>\n",
              "    <tr>\n",
              "      <th>2000-01-05</th>\n",
              "      <td>256.65</td>\n",
              "      <td>287.90</td>\n",
              "      <td>256.65</td>\n",
              "      <td>282.50</td>\n",
              "      <td>26833684</td>\n",
              "      <td>RELIANCE</td>\n",
              "    </tr>\n",
              "    <tr>\n",
              "      <th>2000-01-06</th>\n",
              "      <td>289.00</td>\n",
              "      <td>300.70</td>\n",
              "      <td>289.00</td>\n",
              "      <td>294.35</td>\n",
              "      <td>15682286</td>\n",
              "      <td>RELIANCE</td>\n",
              "    </tr>\n",
              "    <tr>\n",
              "      <th>2000-01-07</th>\n",
              "      <td>295.00</td>\n",
              "      <td>317.90</td>\n",
              "      <td>293.00</td>\n",
              "      <td>314.55</td>\n",
              "      <td>19870977</td>\n",
              "      <td>RELIANCE</td>\n",
              "    </tr>\n",
              "  </tbody>\n",
              "</table>\n",
              "</div>"
            ],
            "text/plain": [
              "              Open    High     Low   Close    Volume      Name\n",
              "Date                                                          \n",
              "2000-01-03  237.50  251.70  237.50  251.70   4456424  RELIANCE\n",
              "2000-01-04  258.40  271.85  251.30  271.85   9487878  RELIANCE\n",
              "2000-01-05  256.65  287.90  256.65  282.50  26833684  RELIANCE\n",
              "2000-01-06  289.00  300.70  289.00  294.35  15682286  RELIANCE\n",
              "2000-01-07  295.00  317.90  293.00  314.55  19870977  RELIANCE"
            ]
          },
          "metadata": {
            "tags": []
          },
          "execution_count": 72
        }
      ]
    },
    {
      "cell_type": "code",
      "metadata": {
        "id": "jzddkB31E4nj"
      },
      "source": [
        "# Checking for missing values\n",
        "training_set = dataset[:'2016'].iloc[:,3:4].values\n",
        "test_set = dataset['2017':].iloc[:,3:4].values"
      ],
      "execution_count": null,
      "outputs": []
    },
    {
      "cell_type": "code",
      "metadata": {
        "id": "7674ykh4E9QC",
        "colab": {
          "base_uri": "https://localhost:8080/",
          "height": 286
        },
        "outputId": "1a34ee31-8a7d-4664-ce6c-3dd918cef09a"
      },
      "source": [
        "# We have chosen 'High' attribute for prices. Let's see what it looks like\n",
        "dataset[\"Close\"][:'2016'].plot(figsize=(16,4),legend=True)\n",
        "dataset[\"Close\"]['2017':].plot(figsize=(16,4),legend=True)\n",
        "plt.legend(['Training set (Before 2017)','Test set (2017 and beyond)'])\n",
        "plt.title('RELIANCE stock price')\n",
        "plt.show()"
      ],
      "execution_count": null,
      "outputs": [
        {
          "output_type": "display_data",
          "data": {
            "image/png": "[encoded data removed]",
            "text/plain": [
              "<Figure size 1152x288 with 1 Axes>"
            ]
          },
          "metadata": {
            "tags": [],
            "needs_background": "light"
          }
        }
      ]
    },
    {
      "cell_type": "code",
      "metadata": {
        "id": "ueCZtaGhFAxN"
      },
      "source": [
        "# Scaling the training set\n",
        "sc = MinMaxScaler(feature_range=(0,1))\n",
        "training_set_scaled = sc.fit_transform(training_set)"
      ],
      "execution_count": null,
      "outputs": []
    },
    {
      "cell_type": "code",
      "metadata": {
        "id": "vIo3qNQLFH_v"
      },
      "source": [
        "# Since RNN store short term memory state, we create a data structure with 60 timesteps and 1 output\n",
        "# So for each element of training set, we have 60 previous training set elements \n",
        "X_train = []\n",
        "y_train = []\n",
        "for i in range(60,2769):\n",
        "    X_train.append(training_set_scaled[i-60:i,0])\n",
        "    y_train.append(training_set_scaled[i,0])\n",
        "X_train, y_train = np.array(X_train), np.array(y_train)"
      ],
      "execution_count": null,
      "outputs": []
    },
    {
      "cell_type": "code",
      "metadata": {
        "id": "8eSIZGDbFIu_"
      },
      "source": [
        "# Reshaping X_train for efficient modelling\n",
        "X_train = np.reshape(X_train, (X_train.shape[0],X_train.shape[1],1))"
      ],
      "execution_count": null,
      "outputs": []
    },
    {
      "cell_type": "code",
      "metadata": {
        "id": "ozQMOwFkFKbf",
        "colab": {
          "base_uri": "https://localhost:8080/"
        },
        "outputId": "6ad999db-b951-4d09-f2dd-d50dbe8d650e"
      },
      "source": [
        "X_train.shape"
      ],
      "execution_count": null,
      "outputs": [
        {
          "output_type": "execute_result",
          "data": {
            "text/plain": [
              "(2709, 60, 1)"
            ]
          },
          "metadata": {
            "tags": []
          },
          "execution_count": 78
        }
      ]
    },
    {
      "cell_type": "code",
      "metadata": {
        "id": "Uq3IJBMVFMRI",
        "colab": {
          "base_uri": "https://localhost:8080/"
        },
        "outputId": "a12b4df9-2415-4094-fc3b-b25426c97bec"
      },
      "source": [
        "y_train.shape"
      ],
      "execution_count": null,
      "outputs": [
        {
          "output_type": "execute_result",
          "data": {
            "text/plain": [
              "(2709,)"
            ]
          },
          "metadata": {
            "tags": []
          },
          "execution_count": 79
        }
      ]
    },
    {
      "cell_type": "code",
      "metadata": {
        "id": "SCcay_MgFNx8"
      },
      "source": [
        "from keras.models import Sequential\n",
        "from keras.layers import LSTM, Dense, Dropout, Masking, Embedding\n",
        "\n",
        "regressor = Sequential()\n",
        "regressor.add(LSTM(units = 50,return_sequences = True,input_shape = (X_train.shape[1],1)))\n",
        "\n",
        "regressor.add(Dropout(0.2))\n",
        "regressor.add(LSTM(units = 50,return_sequences = True))\n",
        "regressor.add(Dropout(0.2))\n",
        "regressor.add(LSTM(units = 50,return_sequences = True))\n",
        "regressor.add(Dropout(0.2))\n",
        "regressor.add(LSTM(units = 50))\n",
        "regressor.add(Dropout(0.2))\n",
        "regressor.add(Dense(units = 1))\n",
        "regressor.compile(optimizer = 'adam',loss = 'mean_squared_error')\n"
      ],
      "execution_count": null,
      "outputs": []
    },
    {
      "cell_type": "code",
      "metadata": {
        "id": "TkbMeDGqFP1U",
        "colab": {
          "base_uri": "https://localhost:8080/"
        },
        "outputId": "4c4e387a-0a55-4e0f-b719-47765cbf528b"
      },
      "source": [
        "regressor.fit(X_train,y_train,epochs = 100, batch_size = 32)"
      ],
      "execution_count": null,
      "outputs": [
        {
          "output_type": "stream",
          "text": [
            "Epoch 1/100\n",
            "85/85 [==============================] - 16s 112ms/step - loss: 0.0285\n",
            "Epoch 2/100\n",
            "85/85 [==============================] - 10s 112ms/step - loss: 0.0025\n",
            "Epoch 3/100\n",
            "85/85 [==============================] - 10s 114ms/step - loss: 0.0028\n",
            "Epoch 4/100\n",
            "85/85 [==============================] - 10s 113ms/step - loss: 0.0021\n",
            "Epoch 5/100\n",
            "85/85 [==============================] - 10s 114ms/step - loss: 0.0023\n",
            "Epoch 6/100\n",
            "85/85 [==============================] - 10s 115ms/step - loss: 0.0020\n",
            "Epoch 7/100\n",
            "85/85 [==============================] - 10s 116ms/step - loss: 0.0018\n",
            "Epoch 8/100\n",
            "85/85 [==============================] - 10s 117ms/step - loss: 0.0019\n",
            "Epoch 9/100\n",
            "85/85 [==============================] - 10s 116ms/step - loss: 0.0019\n",
            "Epoch 10/100\n",
            "85/85 [==============================] - 10s 116ms/step - loss: 0.0020\n",
            "Epoch 11/100\n",
            "85/85 [==============================] - 10s 117ms/step - loss: 0.0018\n",
            "Epoch 12/100\n",
            "85/85 [==============================] - 10s 117ms/step - loss: 0.0015\n",
            "Epoch 13/100\n",
            "85/85 [==============================] - 10s 117ms/step - loss: 0.0014\n",
            "Epoch 14/100\n",
            "85/85 [==============================] - 10s 117ms/step - loss: 0.0016\n",
            "Epoch 15/100\n",
            "85/85 [==============================] - 10s 117ms/step - loss: 0.0017\n",
            "Epoch 16/100\n",
            "85/85 [==============================] - 10s 118ms/step - loss: 0.0016\n",
            "Epoch 17/100\n",
            "85/85 [==============================] - 10s 119ms/step - loss: 0.0015\n",
            "Epoch 18/100\n",
            "85/85 [==============================] - 10s 117ms/step - loss: 0.0014\n",
            "Epoch 19/100\n",
            "85/85 [==============================] - 10s 117ms/step - loss: 0.0014\n",
            "Epoch 20/100\n",
            "85/85 [==============================] - 10s 117ms/step - loss: 0.0016\n",
            "Epoch 21/100\n",
            "85/85 [==============================] - 10s 119ms/step - loss: 0.0014\n",
            "Epoch 22/100\n",
            "85/85 [==============================] - 10s 118ms/step - loss: 0.0011\n",
            "Epoch 23/100\n",
            "85/85 [==============================] - 10s 118ms/step - loss: 0.0015\n",
            "Epoch 24/100\n",
            "85/85 [==============================] - 10s 118ms/step - loss: 0.0011\n",
            "Epoch 25/100\n",
            "85/85 [==============================] - 10s 117ms/step - loss: 0.0011\n",
            "Epoch 26/100\n",
            "85/85 [==============================] - 10s 118ms/step - loss: 0.0013\n",
            "Epoch 27/100\n",
            "85/85 [==============================] - 10s 117ms/step - loss: 0.0013\n",
            "Epoch 28/100\n",
            "85/85 [==============================] - 10s 116ms/step - loss: 0.0013\n",
            "Epoch 29/100\n",
            "85/85 [==============================] - 10s 118ms/step - loss: 0.0011\n",
            "Epoch 30/100\n",
            "85/85 [==============================] - 10s 119ms/step - loss: 0.0012\n",
            "Epoch 31/100\n",
            "85/85 [==============================] - 10s 118ms/step - loss: 9.7696e-04\n",
            "Epoch 32/100\n",
            "85/85 [==============================] - 10s 120ms/step - loss: 0.0010\n",
            "Epoch 33/100\n",
            "85/85 [==============================] - 10s 118ms/step - loss: 0.0011\n",
            "Epoch 34/100\n",
            "85/85 [==============================] - 10s 119ms/step - loss: 0.0011\n",
            "Epoch 35/100\n",
            "85/85 [==============================] - 10s 119ms/step - loss: 0.0011\n",
            "Epoch 36/100\n",
            "85/85 [==============================] - 10s 120ms/step - loss: 0.0012\n",
            "Epoch 37/100\n",
            "85/85 [==============================] - 10s 118ms/step - loss: 0.0012\n",
            "Epoch 38/100\n",
            "85/85 [==============================] - 10s 119ms/step - loss: 9.7432e-04\n",
            "Epoch 39/100\n",
            "85/85 [==============================] - 10s 120ms/step - loss: 8.9592e-04\n",
            "Epoch 40/100\n",
            "85/85 [==============================] - 10s 118ms/step - loss: 0.0011\n",
            "Epoch 41/100\n",
            "85/85 [==============================] - 10s 118ms/step - loss: 9.2489e-04\n",
            "Epoch 42/100\n",
            "85/85 [==============================] - 10s 118ms/step - loss: 0.0011\n",
            "Epoch 43/100\n",
            "85/85 [==============================] - 10s 118ms/step - loss: 8.7688e-04\n",
            "Epoch 44/100\n",
            "85/85 [==============================] - 10s 118ms/step - loss: 0.0011\n",
            "Epoch 45/100\n",
            "85/85 [==============================] - 10s 118ms/step - loss: 0.0011\n",
            "Epoch 46/100\n",
            "85/85 [==============================] - 10s 118ms/step - loss: 9.9878e-04\n",
            "Epoch 47/100\n",
            "85/85 [==============================] - 10s 119ms/step - loss: 9.4320e-04\n",
            "Epoch 48/100\n",
            "85/85 [==============================] - 10s 123ms/step - loss: 7.3796e-04\n",
            "Epoch 49/100\n",
            "85/85 [==============================] - 10s 119ms/step - loss: 0.0012\n",
            "Epoch 50/100\n",
            "85/85 [==============================] - 10s 119ms/step - loss: 8.1782e-04\n",
            "Epoch 51/100\n",
            "85/85 [==============================] - 10s 119ms/step - loss: 9.3453e-04\n",
            "Epoch 52/100\n",
            "85/85 [==============================] - 10s 120ms/step - loss: 8.2695e-04\n",
            "Epoch 53/100\n",
            "85/85 [==============================] - 10s 119ms/step - loss: 0.0011\n",
            "Epoch 54/100\n",
            "85/85 [==============================] - 10s 121ms/step - loss: 8.6438e-04\n",
            "Epoch 55/100\n",
            "85/85 [==============================] - 10s 120ms/step - loss: 8.0649e-04\n",
            "Epoch 56/100\n",
            "85/85 [==============================] - 10s 121ms/step - loss: 8.1115e-04\n",
            "Epoch 57/100\n",
            "85/85 [==============================] - 10s 121ms/step - loss: 9.7711e-04\n",
            "Epoch 58/100\n",
            "85/85 [==============================] - 10s 119ms/step - loss: 8.2389e-04\n",
            "Epoch 59/100\n",
            "85/85 [==============================] - 10s 119ms/step - loss: 9.3861e-04\n",
            "Epoch 60/100\n",
            "85/85 [==============================] - 10s 120ms/step - loss: 8.0053e-04\n",
            "Epoch 61/100\n",
            "85/85 [==============================] - 10s 118ms/step - loss: 8.2455e-04\n",
            "Epoch 62/100\n",
            "85/85 [==============================] - 10s 119ms/step - loss: 9.0724e-04\n",
            "Epoch 63/100\n",
            "85/85 [==============================] - 10s 119ms/step - loss: 8.4440e-04\n",
            "Epoch 64/100\n",
            "85/85 [==============================] - 10s 119ms/step - loss: 7.6421e-04\n",
            "Epoch 65/100\n",
            "85/85 [==============================] - 10s 119ms/step - loss: 8.0475e-04\n",
            "Epoch 66/100\n",
            "85/85 [==============================] - 10s 120ms/step - loss: 7.1479e-04\n",
            "Epoch 67/100\n",
            "85/85 [==============================] - 10s 120ms/step - loss: 9.3831e-04\n",
            "Epoch 68/100\n",
            "85/85 [==============================] - 10s 121ms/step - loss: 8.0457e-04\n",
            "Epoch 69/100\n",
            "85/85 [==============================] - 10s 120ms/step - loss: 8.4811e-04\n",
            "Epoch 70/100\n",
            "85/85 [==============================] - 10s 122ms/step - loss: 9.8791e-04\n",
            "Epoch 71/100\n",
            "85/85 [==============================] - 10s 120ms/step - loss: 8.8540e-04\n",
            "Epoch 72/100\n",
            "85/85 [==============================] - 10s 120ms/step - loss: 7.2289e-04\n",
            "Epoch 73/100\n",
            "85/85 [==============================] - 10s 121ms/step - loss: 7.8480e-04\n",
            "Epoch 74/100\n",
            "85/85 [==============================] - 10s 120ms/step - loss: 9.6739e-04\n",
            "Epoch 75/100\n",
            "85/85 [==============================] - 10s 120ms/step - loss: 7.8646e-04\n",
            "Epoch 76/100\n",
            "85/85 [==============================] - 10s 122ms/step - loss: 6.2906e-04\n",
            "Epoch 77/100\n",
            "85/85 [==============================] - 10s 122ms/step - loss: 5.9761e-04\n",
            "Epoch 78/100\n",
            "85/85 [==============================] - 10s 122ms/step - loss: 6.4026e-04\n",
            "Epoch 79/100\n",
            "85/85 [==============================] - 10s 123ms/step - loss: 8.0642e-04\n",
            "Epoch 80/100\n",
            "85/85 [==============================] - 10s 122ms/step - loss: 7.3388e-04\n",
            "Epoch 81/100\n",
            "85/85 [==============================] - 10s 122ms/step - loss: 7.2262e-04\n",
            "Epoch 82/100\n",
            "85/85 [==============================] - 11s 124ms/step - loss: 7.6119e-04\n",
            "Epoch 83/100\n",
            "85/85 [==============================] - 10s 121ms/step - loss: 8.2222e-04\n",
            "Epoch 84/100\n",
            "85/85 [==============================] - 10s 122ms/step - loss: 8.0347e-04\n",
            "Epoch 85/100\n",
            "85/85 [==============================] - 10s 121ms/step - loss: 6.6119e-04\n",
            "Epoch 86/100\n",
            "85/85 [==============================] - 10s 121ms/step - loss: 8.3708e-04\n",
            "Epoch 87/100\n",
            "85/85 [==============================] - 10s 120ms/step - loss: 6.7533e-04\n",
            "Epoch 88/100\n",
            "85/85 [==============================] - 10s 119ms/step - loss: 8.9700e-04\n",
            "Epoch 89/100\n",
            "85/85 [==============================] - 10s 119ms/step - loss: 0.0010\n",
            "Epoch 90/100\n",
            "85/85 [==============================] - 10s 122ms/step - loss: 6.3060e-04\n",
            "Epoch 91/100\n",
            "85/85 [==============================] - 10s 121ms/step - loss: 6.9611e-04\n",
            "Epoch 92/100\n",
            "85/85 [==============================] - 10s 120ms/step - loss: 6.8113e-04\n",
            "Epoch 93/100\n",
            "85/85 [==============================] - 10s 121ms/step - loss: 6.5132e-04\n",
            "Epoch 94/100\n",
            "85/85 [==============================] - 10s 122ms/step - loss: 6.8899e-04\n",
            "Epoch 95/100\n",
            "85/85 [==============================] - 10s 120ms/step - loss: 6.8752e-04\n",
            "Epoch 96/100\n",
            "85/85 [==============================] - 10s 120ms/step - loss: 7.6901e-04\n",
            "Epoch 97/100\n",
            "85/85 [==============================] - 10s 119ms/step - loss: 7.9222e-04\n",
            "Epoch 98/100\n",
            "85/85 [==============================] - 10s 119ms/step - loss: 6.7422e-04\n",
            "Epoch 99/100\n",
            "85/85 [==============================] - 10s 119ms/step - loss: 0.0011\n",
            "Epoch 100/100\n",
            "85/85 [==============================] - 10s 121ms/step - loss: 7.0134e-04\n"
          ],
          "name": "stdout"
        },
        {
          "output_type": "execute_result",
          "data": {
            "text/plain": [
              "<tensorflow.python.keras.callbacks.History at 0x7fea484b6410>"
            ]
          },
          "metadata": {
            "tags": []
          },
          "execution_count": 81
        }
      ]
    },
    {
      "cell_type": "code",
      "metadata": {
        "id": "Bs_er__vFRvb"
      },
      "source": [
        "# Now to get the test set ready in a similar way as the training set.\n",
        "# The following has been done so forst 60 entires of test set have 60 previous values which is impossible to get unless we take the whole \n",
        "# 'High' attribute data for processing\n",
        "dataset_total = pd.concat((dataset[\"Close\"][:'2016'],dataset[\"Close\"]['2017':]),axis=0)\n",
        "inputs = dataset_total[len(dataset_total)-len(test_set) - 60:].values\n",
        "inputs = inputs.reshape(-1,1)\n",
        "inputs  = sc.transform(inputs)"
      ],
      "execution_count": null,
      "outputs": []
    },
    {
      "cell_type": "code",
      "metadata": {
        "id": "n7-5NVUJFVdY"
      },
      "source": [
        "# Preparing X_test and predicting the prices\n",
        "X_test = []\n",
        "for i in range(60,1029):\n",
        "    X_test.append(inputs[i-60:i,0])\n",
        "X_test = np.array(X_test)\n",
        "X_test = np.reshape(X_test, (X_test.shape[0],X_test.shape[1],1))\n",
        "predicted_stock_price = regressor.predict(X_test)\n",
        "predicted_stock_price = sc.inverse_transform(predicted_stock_price)"
      ],
      "execution_count": null,
      "outputs": []
    },
    {
      "cell_type": "code",
      "metadata": {
        "id": "RmYYB5GWFWQ9",
        "colab": {
          "base_uri": "https://localhost:8080/",
          "height": 296
        },
        "outputId": "3e956cea-5e82-4f63-c543-02023ca700c1"
      },
      "source": [
        "# Visualizing the results for RNN\n",
        "plot_predictions(test_set,predicted_stock_price)"
      ],
      "execution_count": null,
      "outputs": [
        {
          "output_type": "display_data",
          "data": {
            "image/png": "[encoded data removed]",
            "text/plain": [
              "<Figure size 432x288 with 1 Axes>"
            ]
          },
          "metadata": {
            "tags": [],
            "needs_background": "light"
          }
        }
      ]
    },
    {
      "cell_type": "code",
      "metadata": {
        "id": "sJMk39ERFajC",
        "colab": {
          "base_uri": "https://localhost:8080/"
        },
        "outputId": "99fbbbc2-5321-4160-941b-901c6415e27a"
      },
      "source": [
        "#Evaluating our model\n",
        "return_rmse(test_set,predicted_stock_price)"
      ],
      "execution_count": null,
      "outputs": [
        {
          "output_type": "stream",
          "text": [
            "The root mean squared error is 42.25192160459433.\n"
          ],
          "name": "stdout"
        }
      ]
    },
    {
      "cell_type": "markdown",
      "metadata": {
        "id": "2Z95yWQSxru_"
      },
      "source": [
        "# Using LSTMs for predicting the price of stocks"
      ]
    },
    {
      "cell_type": "code",
      "metadata": {
        "id": "4Re4wraCxrvA"
      },
      "source": [
        "# Checking for missing values\n",
        "training_set = dataset[:'2016'].iloc[:,3:4].values\n",
        "test_set = dataset['2017':].iloc[:,3:4].values"
      ],
      "execution_count": null,
      "outputs": []
    },
    {
      "cell_type": "code",
      "metadata": {
        "colab": {
          "base_uri": "https://localhost:8080/",
          "height": 286
        },
        "id": "xtn_IbKhxrvA",
        "outputId": "cf1b371d-ea69-43ad-a1ab-10d5a7cc30d9"
      },
      "source": [
        "# We have chosen 'High' attribute for prices. Let's see what it looks like\n",
        "dataset[\"Close\"][:'2016'].plot(figsize=(16,4),legend=True)\n",
        "dataset[\"Close\"]['2017':].plot(figsize=(16,4),legend=True)\n",
        "plt.legend(['Training set (Before 2017)','Test set (2017 and beyond)'])\n",
        "plt.title('RELIANCE stock price')\n",
        "plt.show()"
      ],
      "execution_count": null,
      "outputs": [
        {
          "output_type": "display_data",
          "data": {
            "image/png": "[encoded data removed]",
            "text/plain": [
              "<Figure size 1152x288 with 1 Axes>"
            ]
          },
          "metadata": {
            "tags": [],
            "needs_background": "light"
          }
        }
      ]
    },
    {
      "cell_type": "code",
      "metadata": {
        "id": "kQmeYsSqxrvB"
      },
      "source": [
        "# Scaling the training set\n",
        "sc = MinMaxScaler(feature_range=(0,1))\n",
        "training_set_scaled = sc.fit_transform(training_set)"
      ],
      "execution_count": null,
      "outputs": []
    },
    {
      "cell_type": "code",
      "metadata": {
        "id": "GvxThDiNxrvB"
      },
      "source": [
        "# Since LSTMs store long term memory state, we create a data structure with 60 timesteps and 1 output\n",
        "# So for each element of training set, we have 60 previous training set elements \n",
        "X_train = []\n",
        "y_train = []\n",
        "for i in range(60,2769):\n",
        "    X_train.append(training_set_scaled[i-60:i,0])\n",
        "    y_train.append(training_set_scaled[i,0])\n",
        "X_train, y_train = np.array(X_train), np.array(y_train)"
      ],
      "execution_count": null,
      "outputs": []
    },
    {
      "cell_type": "code",
      "metadata": {
        "id": "sCoQgXtDxrvB"
      },
      "source": [
        "# Reshaping X_train for efficient modelling\n",
        "X_train = np.reshape(X_train, (X_train.shape[0],X_train.shape[1],1))"
      ],
      "execution_count": null,
      "outputs": []
    },
    {
      "cell_type": "code",
      "metadata": {
        "colab": {
          "base_uri": "https://localhost:8080/"
        },
        "id": "4lqO928_xrvB",
        "outputId": "b171eb68-63ef-4203-9c22-fb5feedf3073"
      },
      "source": [
        "X_train.shape"
      ],
      "execution_count": null,
      "outputs": [
        {
          "output_type": "execute_result",
          "data": {
            "text/plain": [
              "(2709, 60, 1)"
            ]
          },
          "metadata": {
            "tags": []
          },
          "execution_count": 93
        }
      ]
    },
    {
      "cell_type": "code",
      "metadata": {
        "colab": {
          "base_uri": "https://localhost:8080/"
        },
        "id": "YZyl-czexrvB",
        "outputId": "259413b7-b942-4c6c-803b-354dbcf19e9e"
      },
      "source": [
        "y_train.shape"
      ],
      "execution_count": null,
      "outputs": [
        {
          "output_type": "execute_result",
          "data": {
            "text/plain": [
              "(2709,)"
            ]
          },
          "metadata": {
            "tags": []
          },
          "execution_count": 94
        }
      ]
    },
    {
      "cell_type": "code",
      "metadata": {
        "scrolled": true,
        "colab": {
          "base_uri": "https://localhost:8080/"
        },
        "id": "bX9BoD8xxrvC",
        "outputId": "a0e2dd96-0355-42e5-cc52-489449201bcb"
      },
      "source": [
        "# The LSTM architecture\n",
        "regressor = Sequential()\n",
        "# First LSTM layer with Dropout regularisation\n",
        "regressor.add(LSTM(units=60, return_sequences=True, input_shape=(X_train.shape[1],1)))\n",
        "regressor.add(Dropout(0.2))\n",
        "# Second LSTM layer\n",
        "regressor.add(LSTM(units=50, return_sequences=True))\n",
        "regressor.add(Dropout(0.2))\n",
        "# Third LSTM layer\n",
        "regressor.add(LSTM(units=50, return_sequences=True))\n",
        "regressor.add(Dropout(0.2))\n",
        "# Fourth LSTM layer\n",
        "regressor.add(LSTM(units=50))\n",
        "regressor.add(Dropout(0.2))\n",
        "# The output layer\n",
        "regressor.add(Dense(units=1))\n",
        "\n",
        "# Compiling the RNN\n",
        "regressor.compile(optimizer='rmsprop',loss='mean_squared_error')\n",
        "# Fitting to the training set\n",
        "regressor.fit(X_train,y_train,epochs=50,batch_size=32)"
      ],
      "execution_count": null,
      "outputs": [
        {
          "output_type": "stream",
          "text": [
            "Epoch 1/50\n",
            "85/85 [==============================] - 17s 116ms/step - loss: 0.0189\n",
            "Epoch 2/50\n",
            "85/85 [==============================] - 10s 119ms/step - loss: 0.0041\n",
            "Epoch 3/50\n",
            "85/85 [==============================] - 10s 118ms/step - loss: 0.0036\n",
            "Epoch 4/50\n",
            "85/85 [==============================] - 10s 118ms/step - loss: 0.0037\n",
            "Epoch 5/50\n",
            "85/85 [==============================] - 10s 121ms/step - loss: 0.0036\n",
            "Epoch 6/50\n",
            "85/85 [==============================] - 11s 124ms/step - loss: 0.0028\n",
            "Epoch 7/50\n",
            "85/85 [==============================] - 10s 120ms/step - loss: 0.0024\n",
            "Epoch 8/50\n",
            "85/85 [==============================] - 10s 120ms/step - loss: 0.0022\n",
            "Epoch 9/50\n",
            "85/85 [==============================] - 10s 121ms/step - loss: 0.0022\n",
            "Epoch 10/50\n",
            "85/85 [==============================] - 10s 121ms/step - loss: 0.0020\n",
            "Epoch 11/50\n",
            "85/85 [==============================] - 11s 124ms/step - loss: 0.0021\n",
            "Epoch 12/50\n",
            "85/85 [==============================] - 11s 124ms/step - loss: 0.0021\n",
            "Epoch 13/50\n",
            "85/85 [==============================] - 11s 127ms/step - loss: 0.0019\n",
            "Epoch 14/50\n",
            "85/85 [==============================] - 11s 125ms/step - loss: 0.0017\n",
            "Epoch 15/50\n",
            "85/85 [==============================] - 11s 126ms/step - loss: 0.0020\n",
            "Epoch 16/50\n",
            "85/85 [==============================] - 11s 125ms/step - loss: 0.0018\n",
            "Epoch 17/50\n",
            "85/85 [==============================] - 11s 128ms/step - loss: 0.0017\n",
            "Epoch 18/50\n",
            "85/85 [==============================] - 11s 126ms/step - loss: 0.0015\n",
            "Epoch 19/50\n",
            "85/85 [==============================] - 11s 134ms/step - loss: 0.0018\n",
            "Epoch 20/50\n",
            "85/85 [==============================] - 11s 129ms/step - loss: 0.0014\n",
            "Epoch 21/50\n",
            "85/85 [==============================] - 11s 128ms/step - loss: 0.0013\n",
            "Epoch 22/50\n",
            "85/85 [==============================] - 11s 131ms/step - loss: 0.0015\n",
            "Epoch 23/50\n",
            "85/85 [==============================] - 11s 129ms/step - loss: 0.0014\n",
            "Epoch 24/50\n",
            "85/85 [==============================] - 12s 137ms/step - loss: 0.0014\n",
            "Epoch 25/50\n",
            "85/85 [==============================] - 11s 132ms/step - loss: 0.0015\n",
            "Epoch 26/50\n",
            "85/85 [==============================] - 11s 128ms/step - loss: 0.0013\n",
            "Epoch 27/50\n",
            "85/85 [==============================] - 11s 130ms/step - loss: 0.0012\n",
            "Epoch 28/50\n",
            "85/85 [==============================] - 11s 130ms/step - loss: 0.0013\n",
            "Epoch 29/50\n",
            "85/85 [==============================] - 11s 130ms/step - loss: 0.0014\n",
            "Epoch 30/50\n",
            "85/85 [==============================] - 11s 130ms/step - loss: 0.0012\n",
            "Epoch 31/50\n",
            "85/85 [==============================] - 11s 130ms/step - loss: 0.0012\n",
            "Epoch 32/50\n",
            "85/85 [==============================] - 11s 133ms/step - loss: 0.0012\n",
            "Epoch 33/50\n",
            "85/85 [==============================] - 11s 131ms/step - loss: 0.0013\n",
            "Epoch 34/50\n",
            "85/85 [==============================] - 11s 130ms/step - loss: 0.0013\n",
            "Epoch 35/50\n",
            "85/85 [==============================] - 11s 128ms/step - loss: 9.6723e-04\n",
            "Epoch 36/50\n",
            "85/85 [==============================] - 11s 128ms/step - loss: 0.0012\n",
            "Epoch 37/50\n",
            "85/85 [==============================] - 11s 128ms/step - loss: 0.0012\n",
            "Epoch 38/50\n",
            "85/85 [==============================] - 11s 127ms/step - loss: 0.0013\n",
            "Epoch 39/50\n",
            "85/85 [==============================] - 11s 127ms/step - loss: 9.3065e-04\n",
            "Epoch 40/50\n",
            "85/85 [==============================] - 11s 125ms/step - loss: 0.0011\n",
            "Epoch 41/50\n",
            "85/85 [==============================] - 11s 130ms/step - loss: 0.0011\n",
            "Epoch 42/50\n",
            "85/85 [==============================] - 11s 127ms/step - loss: 9.4748e-04\n",
            "Epoch 43/50\n",
            "85/85 [==============================] - 11s 127ms/step - loss: 9.4864e-04\n",
            "Epoch 44/50\n",
            "85/85 [==============================] - 11s 126ms/step - loss: 0.0011\n",
            "Epoch 45/50\n",
            "85/85 [==============================] - 11s 125ms/step - loss: 0.0010\n",
            "Epoch 46/50\n",
            "85/85 [==============================] - 11s 127ms/step - loss: 0.0010\n",
            "Epoch 47/50\n",
            "85/85 [==============================] - 11s 128ms/step - loss: 0.0010\n",
            "Epoch 48/50\n",
            "85/85 [==============================] - 11s 126ms/step - loss: 0.0010\n",
            "Epoch 49/50\n",
            "85/85 [==============================] - 11s 126ms/step - loss: 0.0010\n",
            "Epoch 50/50\n",
            "85/85 [==============================] - 11s 125ms/step - loss: 0.0011\n"
          ],
          "name": "stdout"
        },
        {
          "output_type": "execute_result",
          "data": {
            "text/plain": [
              "<tensorflow.python.keras.callbacks.History at 0x7fea45fbee10>"
            ]
          },
          "metadata": {
            "tags": []
          },
          "execution_count": 95
        }
      ]
    },
    {
      "cell_type": "code",
      "metadata": {
        "id": "9FRLC10cxrvC"
      },
      "source": [
        "# Now to get the test set ready in a similar way as the training set.\n",
        "# The following has been done so forst 60 entires of test set have 60 previous values which is impossible to get unless we take the whole \n",
        "# 'High' attribute data for processing\n",
        "dataset_total = pd.concat((dataset[\"Close\"][:'2016'],dataset[\"Close\"]['2017':]),axis=0)\n",
        "inputs = dataset_total[len(dataset_total)-len(test_set) - 60:].values\n",
        "inputs = inputs.reshape(-1,1)\n",
        "inputs  = sc.transform(inputs)"
      ],
      "execution_count": null,
      "outputs": []
    },
    {
      "cell_type": "code",
      "metadata": {
        "id": "TQ4BWvu8xrvD"
      },
      "source": [
        "# Preparing X_test and predicting the prices\n",
        "X_test = []\n",
        "for i in range(60,1029):\n",
        "    X_test.append(inputs[i-60:i,0])\n",
        "X_test = np.array(X_test)\n",
        "X_test = np.reshape(X_test, (X_test.shape[0],X_test.shape[1],1))\n",
        "predicted_stock_price = regressor.predict(X_test)\n",
        "predicted_stock_price = sc.inverse_transform(predicted_stock_price)"
      ],
      "execution_count": null,
      "outputs": []
    },
    {
      "cell_type": "code",
      "metadata": {
        "colab": {
          "base_uri": "https://localhost:8080/",
          "height": 296
        },
        "id": "za51Wm_pxrvD",
        "outputId": "3f8d6c2f-2a52-4bae-96d5-becd7e55ced6"
      },
      "source": [
        "# Visualizing the results for LSTM\n",
        "plot_predictions(test_set,predicted_stock_price)"
      ],
      "execution_count": null,
      "outputs": [
        {
          "output_type": "display_data",
          "data": {
            "image/png": "[encoded data removed]",
            "text/plain": [
              "<Figure size 432x288 with 1 Axes>"
            ]
          },
          "metadata": {
            "tags": [],
            "needs_background": "light"
          }
        }
      ]
    },
    {
      "cell_type": "code",
      "metadata": {
        "colab": {
          "base_uri": "https://localhost:8080/"
        },
        "id": "X75qvMUwxrvD",
        "outputId": "7114f68b-9eff-40d7-9a27-c9447993a206"
      },
      "source": [
        "#Evaluating our model\n",
        "return_rmse(test_set,predicted_stock_price)"
      ],
      "execution_count": null,
      "outputs": [
        {
          "output_type": "stream",
          "text": [
            "The root mean squared error is 45.47787675616713.\n"
          ],
          "name": "stdout"
        }
      ]
    },
    {
      "cell_type": "code",
      "metadata": {
        "colab": {
          "base_uri": "https://localhost:8080/"
        },
        "id": "DjBQGW5iBeIG",
        "outputId": "0207237a-7865-431a-d4ae-7efc88ab88bd"
      },
      "source": [
        "test_set.shape"
      ],
      "execution_count": null,
      "outputs": [
        {
          "output_type": "execute_result",
          "data": {
            "text/plain": [
              "(969, 1)"
            ]
          },
          "metadata": {
            "tags": []
          },
          "execution_count": 100
        }
      ]
    },
    {
      "cell_type": "markdown",
      "metadata": {
        "id": "RkgYMAKXxrvE"
      },
      "source": [
        "## GRU"
      ]
    },
    {
      "cell_type": "code",
      "metadata": {
        "scrolled": true,
        "colab": {
          "base_uri": "https://localhost:8080/"
        },
        "id": "VMSmgdVCxrvE",
        "outputId": "2136af83-02d1-46e0-dc0f-71294dcba933"
      },
      "source": [
        "# The GRU architecture\n",
        "regressorGRU = Sequential()\n",
        "# First GRU layer with Dropout regularisation\n",
        "regressorGRU.add(GRU(units=60, return_sequences=True, input_shape=(X_train.shape[1],1), activation='tanh'))\n",
        "regressorGRU.add(Dropout(0.2))\n",
        "# Second GRU layer\n",
        "regressorGRU.add(GRU(units=50, return_sequences=True, input_shape=(X_train.shape[1],1), activation='tanh'))\n",
        "regressorGRU.add(Dropout(0.2))\n",
        "# Third GRU layer\n",
        "regressorGRU.add(GRU(units=50, return_sequences=True, input_shape=(X_train.shape[1],1), activation='tanh'))\n",
        "regressorGRU.add(Dropout(0.2))\n",
        "# Fourth GRU layer\n",
        "regressorGRU.add(GRU(units=50, activation='tanh'))\n",
        "regressorGRU.add(Dropout(0.2))\n",
        "# The output layer\n",
        "regressorGRU.add(Dense(units=1))\n",
        "# Compiling the RNN\n",
        "regressorGRU.compile(optimizer=SGD(lr=0.01, decay=1e-7, momentum=0.9, nesterov=False),loss='mean_squared_error')\n",
        "# Fitting to the training set\n",
        "regressorGRU.fit(X_train,y_train,epochs=50,batch_size=150)"
      ],
      "execution_count": null,
      "outputs": [
        {
          "output_type": "stream",
          "text": [
            "Epoch 1/50\n",
            "19/19 [==============================] - 12s 239ms/step - loss: 0.0762\n",
            "Epoch 2/50\n",
            "19/19 [==============================] - 5s 241ms/step - loss: 0.0368\n",
            "Epoch 3/50\n",
            "19/19 [==============================] - 5s 243ms/step - loss: 0.0148\n",
            "Epoch 4/50\n",
            "19/19 [==============================] - 5s 243ms/step - loss: 0.0037\n",
            "Epoch 5/50\n",
            "19/19 [==============================] - 5s 242ms/step - loss: 0.0027\n",
            "Epoch 6/50\n",
            "19/19 [==============================] - 5s 240ms/step - loss: 0.0024\n",
            "Epoch 7/50\n",
            "19/19 [==============================] - 5s 242ms/step - loss: 0.0025\n",
            "Epoch 8/50\n",
            "19/19 [==============================] - 5s 243ms/step - loss: 0.0027\n",
            "Epoch 9/50\n",
            "19/19 [==============================] - 5s 255ms/step - loss: 0.0027\n",
            "Epoch 10/50\n",
            "19/19 [==============================] - 5s 236ms/step - loss: 0.0024\n",
            "Epoch 11/50\n",
            "19/19 [==============================] - 5s 239ms/step - loss: 0.0021\n",
            "Epoch 12/50\n",
            "19/19 [==============================] - 4s 234ms/step - loss: 0.0022\n",
            "Epoch 13/50\n",
            "19/19 [==============================] - 4s 236ms/step - loss: 0.0023\n",
            "Epoch 14/50\n",
            "19/19 [==============================] - 4s 234ms/step - loss: 0.0021\n",
            "Epoch 15/50\n",
            "19/19 [==============================] - 4s 236ms/step - loss: 0.0024\n",
            "Epoch 16/50\n",
            "19/19 [==============================] - 5s 237ms/step - loss: 0.0023\n",
            "Epoch 17/50\n",
            "19/19 [==============================] - 5s 236ms/step - loss: 0.0021\n",
            "Epoch 18/50\n",
            "19/19 [==============================] - 4s 232ms/step - loss: 0.0019\n",
            "Epoch 19/50\n",
            "19/19 [==============================] - 5s 238ms/step - loss: 0.0020\n",
            "Epoch 20/50\n",
            "19/19 [==============================] - 5s 238ms/step - loss: 0.0021\n",
            "Epoch 21/50\n",
            "19/19 [==============================] - 5s 237ms/step - loss: 0.0019\n",
            "Epoch 22/50\n",
            "19/19 [==============================] - 4s 236ms/step - loss: 0.0023\n",
            "Epoch 23/50\n",
            "19/19 [==============================] - 4s 235ms/step - loss: 0.0022\n",
            "Epoch 24/50\n",
            "19/19 [==============================] - 5s 247ms/step - loss: 0.0018\n",
            "Epoch 25/50\n",
            "19/19 [==============================] - 5s 242ms/step - loss: 0.0020\n",
            "Epoch 26/50\n",
            "19/19 [==============================] - 5s 243ms/step - loss: 0.0019\n",
            "Epoch 27/50\n",
            "19/19 [==============================] - 5s 245ms/step - loss: 0.0020\n",
            "Epoch 28/50\n",
            "19/19 [==============================] - 5s 244ms/step - loss: 0.0019\n",
            "Epoch 29/50\n",
            "19/19 [==============================] - 5s 240ms/step - loss: 0.0021\n",
            "Epoch 30/50\n",
            "19/19 [==============================] - 5s 237ms/step - loss: 0.0019\n",
            "Epoch 31/50\n",
            "19/19 [==============================] - 5s 241ms/step - loss: 0.0020\n",
            "Epoch 32/50\n",
            "19/19 [==============================] - 5s 240ms/step - loss: 0.0020\n",
            "Epoch 33/50\n",
            "19/19 [==============================] - 5s 239ms/step - loss: 0.0019\n",
            "Epoch 34/50\n",
            "19/19 [==============================] - 5s 238ms/step - loss: 0.0019\n",
            "Epoch 35/50\n",
            "19/19 [==============================] - 5s 238ms/step - loss: 0.0023\n",
            "Epoch 36/50\n",
            "19/19 [==============================] - 5s 239ms/step - loss: 0.0018\n",
            "Epoch 37/50\n",
            "19/19 [==============================] - 5s 237ms/step - loss: 0.0019\n",
            "Epoch 38/50\n",
            "19/19 [==============================] - 5s 236ms/step - loss: 0.0019\n",
            "Epoch 39/50\n",
            "19/19 [==============================] - 5s 238ms/step - loss: 0.0019\n",
            "Epoch 40/50\n",
            "19/19 [==============================] - 4s 236ms/step - loss: 0.0019\n",
            "Epoch 41/50\n",
            "19/19 [==============================] - 5s 237ms/step - loss: 0.0019\n",
            "Epoch 42/50\n",
            "19/19 [==============================] - 5s 238ms/step - loss: 0.0016\n",
            "Epoch 43/50\n",
            "19/19 [==============================] - 5s 241ms/step - loss: 0.0018\n",
            "Epoch 44/50\n",
            "19/19 [==============================] - 5s 241ms/step - loss: 0.0018\n",
            "Epoch 45/50\n",
            "19/19 [==============================] - 5s 238ms/step - loss: 0.0019\n",
            "Epoch 46/50\n",
            "19/19 [==============================] - 5s 238ms/step - loss: 0.0018\n",
            "Epoch 47/50\n",
            "19/19 [==============================] - 5s 239ms/step - loss: 0.0020\n",
            "Epoch 48/50\n",
            "19/19 [==============================] - 5s 239ms/step - loss: 0.0021\n",
            "Epoch 49/50\n",
            "19/19 [==============================] - 4s 236ms/step - loss: 0.0019\n",
            "Epoch 50/50\n",
            "19/19 [==============================] - 5s 239ms/step - loss: 0.0017\n"
          ],
          "name": "stdout"
        },
        {
          "output_type": "execute_result",
          "data": {
            "text/plain": [
              "<tensorflow.python.keras.callbacks.History at 0x7fea43d58690>"
            ]
          },
          "metadata": {
            "tags": []
          },
          "execution_count": 102
        }
      ]
    },
    {
      "cell_type": "code",
      "metadata": {
        "id": "Z89oDSOMxrvE"
      },
      "source": [
        "# Preparing X_test and predicting the prices\n",
        "X_test = []\n",
        "for i in range(60,1029):\n",
        "    X_test.append(inputs[i-60:i,0])\n",
        "X_test = np.array(X_test)\n",
        "X_test = np.reshape(X_test, (X_test.shape[0],X_test.shape[1],1))\n",
        "GRU_predicted_stock_price = regressorGRU.predict(X_test)\n",
        "GRU_predicted_stock_price = sc.inverse_transform(GRU_predicted_stock_price)"
      ],
      "execution_count": null,
      "outputs": []
    },
    {
      "cell_type": "code",
      "metadata": {
        "id": "50u6PRIPxrvE",
        "colab": {
          "base_uri": "https://localhost:8080/",
          "height": 296
        },
        "outputId": "28c7a647-7834-4ac4-e63c-4cd10b2e6c6d"
      },
      "source": [
        "# Visualizing the results for GRU\n",
        "plot_predictions(test_set,GRU_predicted_stock_price)"
      ],
      "execution_count": null,
      "outputs": [
        {
          "output_type": "display_data",
          "data": {
            "image/png": "[encoded data removed]",
            "text/plain": [
              "<Figure size 432x288 with 1 Axes>"
            ]
          },
          "metadata": {
            "tags": [],
            "needs_background": "light"
          }
        }
      ]
    },
    {
      "cell_type": "code",
      "metadata": {
        "colab": {
          "base_uri": "https://localhost:8080/"
        },
        "id": "llLE26IExrvF",
        "outputId": "cd246b76-26fd-4a41-e4d2-fad393346740"
      },
      "source": [
        "# Evaluating GRU\n",
        "return_rmse(test_set,GRU_predicted_stock_price)"
      ],
      "execution_count": null,
      "outputs": [
        {
          "output_type": "stream",
          "text": [
            "The root mean squared error is 78.88104529857085.\n"
          ],
          "name": "stdout"
        }
      ]
    },
    {
      "cell_type": "markdown",
      "metadata": {
        "id": "5keGu8WcxrvF"
      },
      "source": [
        "As we can see, out of all the different neural network architectures, CNN is the best at learning patterns as it creates hierarchies within data by layering on filters, and its connections tend to regularize itself, thus reducing the possibility of overfitting.So, moving forward, we'll check for common inner dynamics between foreign markets, using CNN only.\n"
      ]
    },
    {
      "cell_type": "markdown",
      "metadata": {
        "id": "yXPkR6AFxrvF"
      },
      "source": [
        "# Using the trained weights on Wipro stock"
      ]
    },
    {
      "cell_type": "code",
      "metadata": {
        "id": "Dv84u9kfxrvF"
      },
      "source": [
        "df=pd.read_csv('/content/drive/MyDrive/WIPRO.csv')"
      ],
      "execution_count": null,
      "outputs": []
    },
    {
      "cell_type": "code",
      "metadata": {
        "colab": {
          "base_uri": "https://localhost:8080/",
          "height": 399
        },
        "id": "JZinf4-wxrvF",
        "outputId": "a3e69ad5-cb3f-453a-ba34-423454466284"
      },
      "source": [
        "df"
      ],
      "execution_count": null,
      "outputs": [
        {
          "output_type": "execute_result",
          "data": {
            "text/html": [
              "<div>\n",
              "<style scoped>\n",
              "    .dataframe tbody tr th:only-of-type {\n",
              "        vertical-align: middle;\n",
              "    }\n",
              "\n",
              "    .dataframe tbody tr th {\n",
              "        vertical-align: top;\n",
              "    }\n",
              "\n",
              "    .dataframe thead th {\n",
              "        text-align: right;\n",
              "    }\n",
              "</style>\n",
              "<table border=\"1\" class=\"dataframe\">\n",
              "  <thead>\n",
              "    <tr style=\"text-align: right;\">\n",
              "      <th></th>\n",
              "      <th>Date</th>\n",
              "      <th>Open</th>\n",
              "      <th>High</th>\n",
              "      <th>Low</th>\n",
              "      <th>Close</th>\n",
              "      <th>Volume</th>\n",
              "      <th>Symbol</th>\n",
              "    </tr>\n",
              "  </thead>\n",
              "  <tbody>\n",
              "    <tr>\n",
              "      <th>0</th>\n",
              "      <td>2000-01-03</td>\n",
              "      <td>2724.00</td>\n",
              "      <td>2724.20</td>\n",
              "      <td>2724.00</td>\n",
              "      <td>2724.20</td>\n",
              "      <td>1599</td>\n",
              "      <td>WIPRO</td>\n",
              "    </tr>\n",
              "    <tr>\n",
              "      <th>1</th>\n",
              "      <td>2000-01-04</td>\n",
              "      <td>2942.15</td>\n",
              "      <td>2942.15</td>\n",
              "      <td>2942.15</td>\n",
              "      <td>2942.15</td>\n",
              "      <td>4392</td>\n",
              "      <td>WIPRO</td>\n",
              "    </tr>\n",
              "    <tr>\n",
              "      <th>2</th>\n",
              "      <td>2000-01-05</td>\n",
              "      <td>2942.15</td>\n",
              "      <td>3177.55</td>\n",
              "      <td>2715.00</td>\n",
              "      <td>2990.10</td>\n",
              "      <td>132297</td>\n",
              "      <td>WIPRO</td>\n",
              "    </tr>\n",
              "    <tr>\n",
              "      <th>3</th>\n",
              "      <td>2000-01-06</td>\n",
              "      <td>3144.70</td>\n",
              "      <td>3183.00</td>\n",
              "      <td>2790.00</td>\n",
              "      <td>2932.25</td>\n",
              "      <td>72840</td>\n",
              "      <td>WIPRO</td>\n",
              "    </tr>\n",
              "    <tr>\n",
              "      <th>4</th>\n",
              "      <td>2000-01-07</td>\n",
              "      <td>2751.00</td>\n",
              "      <td>2751.00</td>\n",
              "      <td>2697.70</td>\n",
              "      <td>2697.70</td>\n",
              "      <td>10110</td>\n",
              "      <td>WIPRO</td>\n",
              "    </tr>\n",
              "    <tr>\n",
              "      <th>...</th>\n",
              "      <td>...</td>\n",
              "      <td>...</td>\n",
              "      <td>...</td>\n",
              "      <td>...</td>\n",
              "      <td>...</td>\n",
              "      <td>...</td>\n",
              "      <td>...</td>\n",
              "    </tr>\n",
              "    <tr>\n",
              "      <th>5199</th>\n",
              "      <td>2020-11-23</td>\n",
              "      <td>348.00</td>\n",
              "      <td>357.40</td>\n",
              "      <td>346.00</td>\n",
              "      <td>355.85</td>\n",
              "      <td>10333347</td>\n",
              "      <td>WIPRO</td>\n",
              "    </tr>\n",
              "    <tr>\n",
              "      <th>5200</th>\n",
              "      <td>2020-11-24</td>\n",
              "      <td>359.00</td>\n",
              "      <td>361.40</td>\n",
              "      <td>355.00</td>\n",
              "      <td>355.50</td>\n",
              "      <td>10092441</td>\n",
              "      <td>WIPRO</td>\n",
              "    </tr>\n",
              "    <tr>\n",
              "      <th>5201</th>\n",
              "      <td>2020-11-25</td>\n",
              "      <td>357.90</td>\n",
              "      <td>358.80</td>\n",
              "      <td>349.55</td>\n",
              "      <td>350.00</td>\n",
              "      <td>6812338</td>\n",
              "      <td>WIPRO</td>\n",
              "    </tr>\n",
              "    <tr>\n",
              "      <th>5202</th>\n",
              "      <td>2020-11-26</td>\n",
              "      <td>351.00</td>\n",
              "      <td>356.40</td>\n",
              "      <td>347.20</td>\n",
              "      <td>354.85</td>\n",
              "      <td>7366370</td>\n",
              "      <td>WIPRO</td>\n",
              "    </tr>\n",
              "    <tr>\n",
              "      <th>5203</th>\n",
              "      <td>2020-11-27</td>\n",
              "      <td>354.85</td>\n",
              "      <td>357.50</td>\n",
              "      <td>347.85</td>\n",
              "      <td>350.50</td>\n",
              "      <td>12402084</td>\n",
              "      <td>WIPRO</td>\n",
              "    </tr>\n",
              "  </tbody>\n",
              "</table>\n",
              "<p>5204 rows × 7 columns</p>\n",
              "</div>"
            ],
            "text/plain": [
              "            Date     Open     High      Low    Close    Volume Symbol\n",
              "0     2000-01-03  2724.00  2724.20  2724.00  2724.20      1599  WIPRO\n",
              "1     2000-01-04  2942.15  2942.15  2942.15  2942.15      4392  WIPRO\n",
              "2     2000-01-05  2942.15  3177.55  2715.00  2990.10    132297  WIPRO\n",
              "3     2000-01-06  3144.70  3183.00  2790.00  2932.25     72840  WIPRO\n",
              "4     2000-01-07  2751.00  2751.00  2697.70  2697.70     10110  WIPRO\n",
              "...          ...      ...      ...      ...      ...       ...    ...\n",
              "5199  2020-11-23   348.00   357.40   346.00   355.85  10333347  WIPRO\n",
              "5200  2020-11-24   359.00   361.40   355.00   355.50  10092441  WIPRO\n",
              "5201  2020-11-25   357.90   358.80   349.55   350.00   6812338  WIPRO\n",
              "5202  2020-11-26   351.00   356.40   347.20   354.85   7366370  WIPRO\n",
              "5203  2020-11-27   354.85   357.50   347.85   350.50  12402084  WIPRO\n",
              "\n",
              "[5204 rows x 7 columns]"
            ]
          },
          "metadata": {
            "tags": []
          },
          "execution_count": 108
        }
      ]
    },
    {
      "cell_type": "code",
      "metadata": {
        "id": "J2ZLJwSVc3Z9"
      },
      "source": [
        "df = df.drop(columns=['Date','Symbol'])"
      ],
      "execution_count": null,
      "outputs": []
    },
    {
      "cell_type": "code",
      "metadata": {
        "id": "sNPhfQ9Oc74n"
      },
      "source": [
        "scaler = MinMaxScaler(feature_range=(0,1))\n",
        "df = scaler.fit_transform(df)   \n",
        "\n",
        "y_close = df[:,1]"
      ],
      "execution_count": null,
      "outputs": []
    },
    {
      "cell_type": "code",
      "metadata": {
        "id": "A7Tz26Lcc__J"
      },
      "source": [
        "ntrain = int(len(y_close)*0.8) \n",
        "\n",
        "train = df[0:ntrain]\n",
        "test  = df[ntrain:len(df)]\n",
        "\n",
        "y_close_train = y_close[0:ntrain]\n",
        "y_close_test  = y_close[ntrain:len(y_close)]"
      ],
      "execution_count": null,
      "outputs": []
    },
    {
      "cell_type": "code",
      "metadata": {
        "colab": {
          "base_uri": "https://localhost:8080/"
        },
        "id": "IPYWmeumdEi0",
        "outputId": "0a3bda22-eb29-4188-d51b-84483c47137c"
      },
      "source": [
        "y_close_test.shape"
      ],
      "execution_count": null,
      "outputs": [
        {
          "output_type": "execute_result",
          "data": {
            "text/plain": [
              "(1041,)"
            ]
          },
          "metadata": {
            "tags": []
          },
          "execution_count": 112
        }
      ]
    },
    {
      "cell_type": "code",
      "metadata": {
        "colab": {
          "base_uri": "https://localhost:8080/"
        },
        "id": "auxiTggIdIDH",
        "outputId": "4c4dbafc-dadb-410d-dbf9-c8b359af5b75"
      },
      "source": [
        "\n",
        "def to_sequences(seq_size, data,close):\n",
        "    x = []\n",
        "    y = []\n",
        "\n",
        "    for i in range(len(data)-seq_size-1):\n",
        "        window = data[i:(i+seq_size)]\n",
        "        after_window = close[i+seq_size]\n",
        "        window = [[x] for x in window]\n",
        "        x.append(window)\n",
        "        y.append(after_window)\n",
        "        \n",
        "    return np.array(x),np.array(y)\n",
        "\n",
        "\n",
        "timesteps = 10\n",
        "\n",
        "x_train, y_train = to_sequences(timesteps, train, y_close_train)\n",
        "x_test, y_test   = to_sequences(timesteps, test, y_close_test)\n",
        "\n",
        "print(\"Shape of x_train: {}\".format(x_train.shape))\n",
        "print(\"Shape of x_test: {}\".format(x_test.shape))\n",
        "print(\"Shape of y_train: {}\".format(y_train.shape))\n",
        "print(\"Shape of y_test: {}\".format(y_test.shape))"
      ],
      "execution_count": null,
      "outputs": [
        {
          "output_type": "stream",
          "text": [
            "Shape of x_train: (4152, 10, 1, 5)\n",
            "Shape of x_test: (1030, 10, 1, 5)\n",
            "Shape of y_train: (4152,)\n",
            "Shape of y_test: (1030,)\n"
          ],
          "name": "stdout"
        }
      ]
    },
    {
      "cell_type": "code",
      "metadata": {
        "colab": {
          "base_uri": "https://localhost:8080/"
        },
        "id": "QPKDWNGmdRE2",
        "outputId": "ce0a8846-4dcc-43b5-9417-8294fec9c3aa"
      },
      "source": [
        "x_train[0]"
      ],
      "execution_count": null,
      "outputs": [
        {
          "output_type": "execute_result",
          "data": {
            "text/plain": [
              "array([[[2.51391493e-01, 2.50804380e-01, 2.92463750e-01, 2.71811440e-01,\n",
              "         4.57171997e-06]],\n",
              "\n",
              "       [[2.72806251e-01, 2.72216846e-01, 3.17341301e-01, 2.94935863e-01,\n",
              "         2.59959043e-05]],\n",
              "\n",
              "       [[2.72806251e-01, 2.95343685e-01, 2.91437401e-01, 3.00023342e-01,\n",
              "         1.00711309e-03]],\n",
              "\n",
              "       [[2.92689631e-01, 2.95879120e-01, 2.99990307e-01, 2.93885476e-01,\n",
              "         5.51037999e-04]],\n",
              "\n",
              "       [[2.54041956e-01, 2.53437342e-01, 2.89464531e-01, 2.68999798e-01,\n",
              "         6.98568016e-05]],\n",
              "\n",
              "       [[2.48809746e-01, 2.69402131e-01, 2.79691411e-01, 2.69387062e-01,\n",
              "         3.02063357e-04]],\n",
              "\n",
              "       [[2.52373146e-01, 2.57170646e-01, 2.65237001e-01, 2.46480143e-01,\n",
              "         3.46522566e-04]],\n",
              "\n",
              "       [[2.38237344e-01, 2.39388328e-01, 2.65208491e-01, 2.54697563e-01,\n",
              "         1.46003554e-04]],\n",
              "\n",
              "       [[2.36666699e-01, 2.40567266e-01, 2.62357523e-01, 2.45928425e-01,\n",
              "         1.38662721e-04]],\n",
              "\n",
              "       [[2.38237344e-01, 2.37619920e-01, 2.56085392e-01, 2.47795779e-01,\n",
              "         1.48880055e-04]]])"
            ]
          },
          "metadata": {
            "tags": []
          },
          "execution_count": 114
        }
      ]
    },
    {
      "cell_type": "code",
      "metadata": {
        "id": "sJzrbrrsdTIw"
      },
      "source": [
        "x_train = np.reshape(x_train,(x_train.shape[0], x_train.shape[2], x_train.shape[1],x_train.shape[3]))\n",
        "x_test = np.reshape(x_test,(x_test.shape[0],x_test.shape[2],x_test.shape[1],x_test.shape[3]))"
      ],
      "execution_count": null,
      "outputs": []
    },
    {
      "cell_type": "code",
      "metadata": {
        "colab": {
          "base_uri": "https://localhost:8080/"
        },
        "id": "jHIQXR8qdWnS",
        "outputId": "4694ea70-acb5-48b1-f3fe-90a19713c8df"
      },
      "source": [
        "print(x_train.shape)"
      ],
      "execution_count": null,
      "outputs": [
        {
          "output_type": "stream",
          "text": [
            "(4152, 1, 10, 5)\n"
          ],
          "name": "stdout"
        }
      ]
    },
    {
      "cell_type": "code",
      "metadata": {
        "colab": {
          "base_uri": "https://localhost:8080/"
        },
        "id": "PPSp7izedaAI",
        "outputId": "63c4f346-53ad-49ec-e3a0-d752e9f02d1f"
      },
      "source": [
        "x_train[0][0].shape"
      ],
      "execution_count": null,
      "outputs": [
        {
          "output_type": "execute_result",
          "data": {
            "text/plain": [
              "(10, 5)"
            ]
          },
          "metadata": {
            "tags": []
          },
          "execution_count": 117
        }
      ]
    },
    {
      "cell_type": "code",
      "metadata": {
        "colab": {
          "base_uri": "https://localhost:8080/"
        },
        "id": "N007Mb98dgHt",
        "outputId": "8b9e3a8c-b0e9-4857-ab07-dad1e0e30476"
      },
      "source": [
        "cnn.load_weights('CNN_Parameters.hdf5')\n",
        "\n",
        "pred = cnn.predict(x_test)\n",
        "print(pred.shape)"
      ],
      "execution_count": null,
      "outputs": [
        {
          "output_type": "stream",
          "text": [
            "(1030, 1)\n"
          ],
          "name": "stdout"
        }
      ]
    },
    {
      "cell_type": "code",
      "metadata": {
        "colab": {
          "base_uri": "https://localhost:8080/"
        },
        "id": "RlT4XlWbdq6w",
        "outputId": "3a869250-bd2b-4bea-cb74-67fe6b51f81c"
      },
      "source": [
        "score = np.sqrt(metrics.mean_squared_error(y_test, pred))\n",
        "print(\"RMSE Score: {}\".format(score))"
      ],
      "execution_count": null,
      "outputs": [
        {
          "output_type": "stream",
          "text": [
            "RMSE Score: 0.016661140253285488\n"
          ],
          "name": "stdout"
        }
      ]
    },
    {
      "cell_type": "code",
      "metadata": {
        "colab": {
          "base_uri": "https://localhost:8080/"
        },
        "id": "7llSlpxsdujc",
        "outputId": "ea4df5a1-3cb9-4e16-ff55-b2b8d68a18e3"
      },
      "source": [
        "y_test"
      ],
      "execution_count": null,
      "outputs": [
        {
          "output_type": "execute_result",
          "data": {
            "text/plain": [
              "array([0.0303331 , 0.03080959, 0.03063275, ..., 0.01867143, 0.018416  ,\n",
              "       0.01818021])"
            ]
          },
          "metadata": {
            "tags": []
          },
          "execution_count": 121
        }
      ]
    },
    {
      "cell_type": "markdown",
      "metadata": {
        "id": "dv3R5jQ6xrvJ"
      },
      "source": [
        "# JSW Steel Stock"
      ]
    },
    {
      "cell_type": "code",
      "metadata": {
        "id": "PVotXR8xxrvJ"
      },
      "source": [
        "df=pd.read_csv('/content/drive/MyDrive/JSWSTEEL.csv' )"
      ],
      "execution_count": null,
      "outputs": []
    },
    {
      "cell_type": "code",
      "metadata": {
        "colab": {
          "base_uri": "https://localhost:8080/",
          "height": 399
        },
        "id": "l-Y1aoIri3Vw",
        "outputId": "d6906a68-490b-4692-8f5f-574e1ab3b961"
      },
      "source": [
        "df"
      ],
      "execution_count": null,
      "outputs": [
        {
          "output_type": "execute_result",
          "data": {
            "text/html": [
              "<div>\n",
              "<style scoped>\n",
              "    .dataframe tbody tr th:only-of-type {\n",
              "        vertical-align: middle;\n",
              "    }\n",
              "\n",
              "    .dataframe tbody tr th {\n",
              "        vertical-align: top;\n",
              "    }\n",
              "\n",
              "    .dataframe thead th {\n",
              "        text-align: right;\n",
              "    }\n",
              "</style>\n",
              "<table border=\"1\" class=\"dataframe\">\n",
              "  <thead>\n",
              "    <tr style=\"text-align: right;\">\n",
              "      <th></th>\n",
              "      <th>Date</th>\n",
              "      <th>Open</th>\n",
              "      <th>High</th>\n",
              "      <th>Low</th>\n",
              "      <th>Close</th>\n",
              "      <th>Volume</th>\n",
              "      <th>Symbol</th>\n",
              "    </tr>\n",
              "  </thead>\n",
              "  <tbody>\n",
              "    <tr>\n",
              "      <th>0</th>\n",
              "      <td>2005-03-23</td>\n",
              "      <td>455.00</td>\n",
              "      <td>458.50</td>\n",
              "      <td>383.60</td>\n",
              "      <td>390.15</td>\n",
              "      <td>2087710</td>\n",
              "      <td>JSWSTL</td>\n",
              "    </tr>\n",
              "    <tr>\n",
              "      <th>1</th>\n",
              "      <td>2005-03-24</td>\n",
              "      <td>392.85</td>\n",
              "      <td>398.50</td>\n",
              "      <td>357.50</td>\n",
              "      <td>369.20</td>\n",
              "      <td>1226479</td>\n",
              "      <td>JSWSTL</td>\n",
              "    </tr>\n",
              "    <tr>\n",
              "      <th>2</th>\n",
              "      <td>2005-03-28</td>\n",
              "      <td>376.70</td>\n",
              "      <td>394.05</td>\n",
              "      <td>375.00</td>\n",
              "      <td>378.85</td>\n",
              "      <td>1235794</td>\n",
              "      <td>JSWSTL</td>\n",
              "    </tr>\n",
              "    <tr>\n",
              "      <th>3</th>\n",
              "      <td>2005-03-29</td>\n",
              "      <td>382.90</td>\n",
              "      <td>383.80</td>\n",
              "      <td>363.25</td>\n",
              "      <td>368.05</td>\n",
              "      <td>624072</td>\n",
              "      <td>JSWSTL</td>\n",
              "    </tr>\n",
              "    <tr>\n",
              "      <th>4</th>\n",
              "      <td>2005-03-30</td>\n",
              "      <td>367.00</td>\n",
              "      <td>371.90</td>\n",
              "      <td>360.05</td>\n",
              "      <td>362.15</td>\n",
              "      <td>466349</td>\n",
              "      <td>JSWSTL</td>\n",
              "    </tr>\n",
              "    <tr>\n",
              "      <th>...</th>\n",
              "      <td>...</td>\n",
              "      <td>...</td>\n",
              "      <td>...</td>\n",
              "      <td>...</td>\n",
              "      <td>...</td>\n",
              "      <td>...</td>\n",
              "      <td>...</td>\n",
              "    </tr>\n",
              "    <tr>\n",
              "      <th>3887</th>\n",
              "      <td>2020-11-23</td>\n",
              "      <td>338.25</td>\n",
              "      <td>342.30</td>\n",
              "      <td>336.00</td>\n",
              "      <td>337.75</td>\n",
              "      <td>4559744</td>\n",
              "      <td>JSWSTEEL</td>\n",
              "    </tr>\n",
              "    <tr>\n",
              "      <th>3888</th>\n",
              "      <td>2020-11-24</td>\n",
              "      <td>338.90</td>\n",
              "      <td>342.25</td>\n",
              "      <td>334.10</td>\n",
              "      <td>340.85</td>\n",
              "      <td>5014303</td>\n",
              "      <td>JSWSTEEL</td>\n",
              "    </tr>\n",
              "    <tr>\n",
              "      <th>3889</th>\n",
              "      <td>2020-11-25</td>\n",
              "      <td>343.50</td>\n",
              "      <td>345.90</td>\n",
              "      <td>337.00</td>\n",
              "      <td>338.25</td>\n",
              "      <td>6195795</td>\n",
              "      <td>JSWSTEEL</td>\n",
              "    </tr>\n",
              "    <tr>\n",
              "      <th>3890</th>\n",
              "      <td>2020-11-26</td>\n",
              "      <td>338.50</td>\n",
              "      <td>362.20</td>\n",
              "      <td>336.00</td>\n",
              "      <td>359.20</td>\n",
              "      <td>10967276</td>\n",
              "      <td>JSWSTEEL</td>\n",
              "    </tr>\n",
              "    <tr>\n",
              "      <th>3891</th>\n",
              "      <td>2020-11-27</td>\n",
              "      <td>361.30</td>\n",
              "      <td>362.00</td>\n",
              "      <td>347.65</td>\n",
              "      <td>350.20</td>\n",
              "      <td>14338746</td>\n",
              "      <td>JSWSTEEL</td>\n",
              "    </tr>\n",
              "  </tbody>\n",
              "</table>\n",
              "<p>3892 rows × 7 columns</p>\n",
              "</div>"
            ],
            "text/plain": [
              "            Date    Open    High     Low   Close    Volume    Symbol\n",
              "0     2005-03-23  455.00  458.50  383.60  390.15   2087710    JSWSTL\n",
              "1     2005-03-24  392.85  398.50  357.50  369.20   1226479    JSWSTL\n",
              "2     2005-03-28  376.70  394.05  375.00  378.85   1235794    JSWSTL\n",
              "3     2005-03-29  382.90  383.80  363.25  368.05    624072    JSWSTL\n",
              "4     2005-03-30  367.00  371.90  360.05  362.15    466349    JSWSTL\n",
              "...          ...     ...     ...     ...     ...       ...       ...\n",
              "3887  2020-11-23  338.25  342.30  336.00  337.75   4559744  JSWSTEEL\n",
              "3888  2020-11-24  338.90  342.25  334.10  340.85   5014303  JSWSTEEL\n",
              "3889  2020-11-25  343.50  345.90  337.00  338.25   6195795  JSWSTEEL\n",
              "3890  2020-11-26  338.50  362.20  336.00  359.20  10967276  JSWSTEEL\n",
              "3891  2020-11-27  361.30  362.00  347.65  350.20  14338746  JSWSTEEL\n",
              "\n",
              "[3892 rows x 7 columns]"
            ]
          },
          "metadata": {
            "tags": []
          },
          "execution_count": 124
        }
      ]
    },
    {
      "cell_type": "code",
      "metadata": {
        "id": "3QoFXieni3Vx"
      },
      "source": [
        "df = df.drop(columns=['Date','Symbol'])"
      ],
      "execution_count": null,
      "outputs": []
    },
    {
      "cell_type": "code",
      "metadata": {
        "id": "0zc4P6-7i3Vx"
      },
      "source": [
        "scaler = MinMaxScaler(feature_range=(0,1))\n",
        "df = scaler.fit_transform(df)   \n",
        "\n",
        "y_close = df[:,1]"
      ],
      "execution_count": null,
      "outputs": []
    },
    {
      "cell_type": "code",
      "metadata": {
        "id": "3SIbPkqii3Vy"
      },
      "source": [
        "ntrain = int(len(y_close)*0.8) \n",
        "\n",
        "train = df[0:ntrain]\n",
        "test  = df[ntrain:len(df)]\n",
        "\n",
        "y_close_train = y_close[0:ntrain]\n",
        "y_close_test  = y_close[ntrain:len(y_close)]"
      ],
      "execution_count": null,
      "outputs": []
    },
    {
      "cell_type": "code",
      "metadata": {
        "colab": {
          "base_uri": "https://localhost:8080/"
        },
        "id": "LrL0wE7hi3Vy",
        "outputId": "4ebd27fb-4db8-47be-9e3b-68bb6df14430"
      },
      "source": [
        "y_close_test.shape"
      ],
      "execution_count": null,
      "outputs": [
        {
          "output_type": "execute_result",
          "data": {
            "text/plain": [
              "(779,)"
            ]
          },
          "metadata": {
            "tags": []
          },
          "execution_count": 128
        }
      ]
    },
    {
      "cell_type": "code",
      "metadata": {
        "colab": {
          "base_uri": "https://localhost:8080/"
        },
        "id": "sDH7l-VFi3Vy",
        "outputId": "85240447-d6b2-4547-d633-f7906bd9f641"
      },
      "source": [
        "\n",
        "def to_sequences(seq_size, data,close):\n",
        "    x = []\n",
        "    y = []\n",
        "\n",
        "    for i in range(len(data)-seq_size-1):\n",
        "        window = data[i:(i+seq_size)]\n",
        "        after_window = close[i+seq_size]\n",
        "        window = [[x] for x in window]\n",
        "        x.append(window)\n",
        "        y.append(after_window)\n",
        "        \n",
        "    return np.array(x),np.array(y)\n",
        "\n",
        "\n",
        "timesteps = 10\n",
        "\n",
        "x_train, y_train = to_sequences(timesteps, train, y_close_train)\n",
        "x_test, y_test   = to_sequences(timesteps, test, y_close_test)\n",
        "\n",
        "print(\"Shape of x_train: {}\".format(x_train.shape))\n",
        "print(\"Shape of x_test: {}\".format(x_test.shape))\n",
        "print(\"Shape of y_train: {}\".format(y_train.shape))\n",
        "print(\"Shape of y_test: {}\".format(y_test.shape))"
      ],
      "execution_count": null,
      "outputs": [
        {
          "output_type": "stream",
          "text": [
            "Shape of x_train: (3102, 10, 1, 5)\n",
            "Shape of x_test: (768, 10, 1, 5)\n",
            "Shape of y_train: (3102,)\n",
            "Shape of y_test: (768,)\n"
          ],
          "name": "stdout"
        }
      ]
    },
    {
      "cell_type": "code",
      "metadata": {
        "colab": {
          "base_uri": "https://localhost:8080/"
        },
        "id": "hszyRkX2i3Vz",
        "outputId": "4844fae5-a723-4577-ff26-f702d1226b91"
      },
      "source": [
        "x_train[0]"
      ],
      "execution_count": null,
      "outputs": [
        {
          "output_type": "execute_result",
          "data": {
            "text/plain": [
              "array([[[0.18011382, 0.17962644, 0.14683781, 0.14487325, 0.04676399]],\n",
              "\n",
              "       [[0.1442066 , 0.14514368, 0.1315751 , 0.1327061 , 0.02738272]],\n",
              "\n",
              "       [[0.13487593, 0.14258621, 0.14180872, 0.13831054, 0.02759234]],\n",
              "\n",
              "       [[0.13845798, 0.1366954 , 0.13493757, 0.13203821, 0.01382606]],\n",
              "\n",
              "       [[0.12927175, 0.12985632, 0.13306628, 0.12861167, 0.01027663]],\n",
              "\n",
              "       [[0.12869399, 0.13163793, 0.13107804, 0.12881494, 0.02685468]],\n",
              "\n",
              "       [[0.12869399, 0.14399425, 0.13385574, 0.14568633, 0.02355276]],\n",
              "\n",
              "       [[0.14429327, 0.14255747, 0.14011286, 0.13529053, 0.00787531]],\n",
              "\n",
              "       [[0.13441373, 0.1333046 , 0.13537616, 0.13070244, 0.00607884]],\n",
              "\n",
              "       [[0.12927175, 0.13215517, 0.13713049, 0.13427418, 0.00636712]]])"
            ]
          },
          "metadata": {
            "tags": []
          },
          "execution_count": 130
        }
      ]
    },
    {
      "cell_type": "code",
      "metadata": {
        "id": "RHFwy6Bci3Vz"
      },
      "source": [
        "x_train = np.reshape(x_train,(x_train.shape[0], x_train.shape[2], x_train.shape[1],x_train.shape[3]))\n",
        "x_test = np.reshape(x_test,(x_test.shape[0],x_test.shape[2],x_test.shape[1],x_test.shape[3]))"
      ],
      "execution_count": null,
      "outputs": []
    },
    {
      "cell_type": "code",
      "metadata": {
        "colab": {
          "base_uri": "https://localhost:8080/"
        },
        "id": "s90sXUo2i3Vz",
        "outputId": "38d18994-de11-49e4-dadb-845454d1cc43"
      },
      "source": [
        "print(x_train.shape)"
      ],
      "execution_count": null,
      "outputs": [
        {
          "output_type": "stream",
          "text": [
            "(3102, 1, 10, 5)\n"
          ],
          "name": "stdout"
        }
      ]
    },
    {
      "cell_type": "code",
      "metadata": {
        "colab": {
          "base_uri": "https://localhost:8080/"
        },
        "id": "VXUGHXMJi3Vz",
        "outputId": "224fc4f7-9eab-4376-f132-c1d71c051cb3"
      },
      "source": [
        "x_train[0][0].shape"
      ],
      "execution_count": null,
      "outputs": [
        {
          "output_type": "execute_result",
          "data": {
            "text/plain": [
              "(10, 5)"
            ]
          },
          "metadata": {
            "tags": []
          },
          "execution_count": 133
        }
      ]
    },
    {
      "cell_type": "code",
      "metadata": {
        "colab": {
          "base_uri": "https://localhost:8080/"
        },
        "id": "PUbhlJVoi3V0",
        "outputId": "01f20694-d1f9-4cc3-c3a7-1eb5b524a0e7"
      },
      "source": [
        "cnn.load_weights('CNN_Parameters.hdf5')\n",
        "\n",
        "pred = cnn.predict(x_test)\n",
        "print(pred.shape)"
      ],
      "execution_count": null,
      "outputs": [
        {
          "output_type": "stream",
          "text": [
            "(768, 1)\n"
          ],
          "name": "stdout"
        }
      ]
    },
    {
      "cell_type": "code",
      "metadata": {
        "colab": {
          "base_uri": "https://localhost:8080/"
        },
        "id": "WDovPNyki3V0",
        "outputId": "617c3fb6-c971-46b7-bed3-fd7e9cf734d8"
      },
      "source": [
        "score = np.sqrt(metrics.mean_squared_error(y_test, pred))\n",
        "print(\"RMSE Score: {}\".format(score))"
      ],
      "execution_count": null,
      "outputs": [
        {
          "output_type": "stream",
          "text": [
            "RMSE Score: 0.016151207735118064\n"
          ],
          "name": "stdout"
        }
      ]
    },
    {
      "cell_type": "code",
      "metadata": {
        "colab": {
          "base_uri": "https://localhost:8080/"
        },
        "id": "gXb0jIx-i3V0",
        "outputId": "b24b0571-c51b-4170-d3fc-262daff86e12"
      },
      "source": [
        "y_test"
      ],
      "execution_count": null,
      "outputs": [
        {
          "output_type": "execute_result",
          "data": {
            "text/plain": [
              "array([0.06862069, 0.06727011, 0.06841954, 0.07091954, 0.07109195,\n",
              "       0.06698276, 0.06948276, 0.07051724, 0.07043103, 0.07244253,\n",
              "       0.07166667, 0.06954023, 0.06841954, 0.07387931, 0.07241379,\n",
              "       0.06971264, 0.06824713, 0.0654023 , 0.07002874, 0.07011494,\n",
              "       0.0712931 , 0.07146552, 0.07318966, 0.07008621, 0.06864943,\n",
              "       0.0662931 , 0.06436782, 0.06402299, 0.06422414, 0.06235632,\n",
              "       0.06057471, 0.05798851, 0.06094828, 0.06402299, 0.06181034,\n",
              "       0.06258621, 0.06163793, 0.05853448, 0.06114943, 0.06479885,\n",
              "       0.06497126, 0.06813218, 0.06899425, 0.06928161, 0.07048851,\n",
              "       0.07094828, 0.07451149, 0.07347701, 0.07227011, 0.07014368,\n",
              "       0.07258621, 0.07813218, 0.08272989, 0.0825    , 0.0825    ,\n",
              "       0.07991379, 0.08034483, 0.08264368, 0.08445402, 0.0812931 ,\n",
              "       0.08106322, 0.08221264, 0.07882184, 0.07905172, 0.08813218,\n",
              "       0.08623563, 0.08681034, 0.0887931 , 0.08445402, 0.08508621,\n",
              "       0.09244253, 0.09678161, 0.08850575, 0.08238506, 0.08531609,\n",
              "       0.09336207, 0.09534483, 0.09755747, 0.09683908, 0.09672414,\n",
              "       0.09643678, 0.09646552, 0.09396552, 0.09321839, 0.08954023,\n",
              "       0.09301724, 0.09824713, 0.10028736, 0.09744253, 0.09876437,\n",
              "       0.08859195, 0.08962644, 0.08497126, 0.08640805, 0.08520115,\n",
              "       0.08847701, 0.09117816, 0.09071839, 0.08908046, 0.08566092,\n",
              "       0.08293103, 0.08206897, 0.08353448, 0.0833046 , 0.0816954 ,\n",
              "       0.08623563, 0.08853448, 0.0875    , 0.08706897, 0.09114943,\n",
              "       0.09270115, 0.09390805, 0.09387931, 0.09600575, 0.09701149,\n",
              "       0.0991092 , 0.09591954, 0.09560345, 0.09428161, 0.09502874,\n",
              "       0.09543103, 0.10451149, 0.10359195, 0.10431034, 0.10347701,\n",
              "       0.10393678, 0.10600575, 0.10597701, 0.10646552, 0.10451149,\n",
              "       0.10011494, 0.09968391, 0.1041092 , 0.10488506, 0.10399425,\n",
              "       0.10287356, 0.10304598, 0.1066092 , 0.11310345, 0.11152299,\n",
              "       0.1120977 , 0.10908046, 0.10201149, 0.10045977, 0.1016954 ,\n",
              "       0.09747126, 0.10433908, 0.10577586, 0.10718391, 0.10801724,\n",
              "       0.10991379, 0.11014368, 0.10850575, 0.10784483, 0.11100575,\n",
              "       0.11525862, 0.11399425, 0.11491379, 0.11468391, 0.11468391,\n",
              "       0.11373563, 0.11241379, 0.10689655, 0.10655172, 0.10931034,\n",
              "       0.11005747, 0.11057471, 0.11063218, 0.1058908 , 0.10261494,\n",
              "       0.10255747, 0.10479885, 0.10505747, 0.09704023, 0.09732759,\n",
              "       0.09600575, 0.09594828, 0.09672414, 0.09899425, 0.09793103,\n",
              "       0.10043103, 0.10014368, 0.09916667, 0.09405172, 0.09465517,\n",
              "       0.09442529, 0.09270115, 0.09304598, 0.1       , 0.10428161,\n",
              "       0.09985632, 0.10353448, 0.10514368, 0.10741379, 0.1070977 ,\n",
              "       0.10856322, 0.11054598, 0.11238506, 0.11301724, 0.11439655,\n",
              "       0.11468391, 0.1141092 , 0.11517241, 0.11784483, 0.10985632,\n",
              "       0.1091092 , 0.11281609, 0.11399425, 0.11341954, 0.12100575,\n",
              "       0.12568966, 0.12818966, 0.15100575, 0.15106322, 0.1479023 ,\n",
              "       0.14744253, 0.14577586, 0.14701149, 0.14836207, 0.1516954 ,\n",
              "       0.1545977 , 0.14824713, 0.14652299, 0.15310345, 0.15543103,\n",
              "       0.15502874, 0.15965517, 0.16183908, 0.15405172, 0.15002874,\n",
              "       0.15275862, 0.15318966, 0.15057471, 0.13844828, 0.13882184,\n",
              "       0.13824713, 0.13402299, 0.13554598, 0.13554598, 0.13609195,\n",
              "       0.13034483, 0.13522989, 0.13514368, 0.1375    , 0.13362069,\n",
              "       0.12902299, 0.12810345, 0.12063218, 0.11965517, 0.12025862,\n",
              "       0.12068966, 0.11224138, 0.11255747, 0.11261494, 0.11525862,\n",
              "       0.1212931 , 0.12295977, 0.12267241, 0.12005747, 0.11841954,\n",
              "       0.11977011, 0.1166954 , 0.11942529, 0.11491379, 0.11396552,\n",
              "       0.11126437, 0.10821839, 0.10543103, 0.10448276, 0.10204023,\n",
              "       0.09818966, 0.09701149, 0.09974138, 0.10163793, 0.1029023 ,\n",
              "       0.0991092 , 0.09485632, 0.0929023 , 0.09324713, 0.08836207,\n",
              "       0.09034483, 0.09284483, 0.09238506, 0.08902299, 0.08882184,\n",
              "       0.09238506, 0.09563218, 0.09474138, 0.09583333, 0.09341954,\n",
              "       0.08681034, 0.08890805, 0.08887931, 0.09307471, 0.09364943,\n",
              "       0.08735632, 0.08313218, 0.08247126, 0.0858046 , 0.08614943,\n",
              "       0.0866954 , 0.08433908, 0.08517241, 0.08189655, 0.08451149,\n",
              "       0.08465517, 0.08310345, 0.08385057, 0.08218391, 0.07968391,\n",
              "       0.07985632, 0.07956897, 0.08020115, 0.07373563, 0.07301724,\n",
              "       0.07327586, 0.07465517, 0.07704023, 0.075     , 0.07568966,\n",
              "       0.0787069 , 0.07784483, 0.07301724, 0.06899425, 0.07387931,\n",
              "       0.07497126, 0.07847701, 0.07701149, 0.07126437, 0.07229885,\n",
              "       0.07485632, 0.07646552, 0.08094828, 0.08497126, 0.08094828,\n",
              "       0.08362069, 0.08278736, 0.07997126, 0.08399425, 0.08508621,\n",
              "       0.08508621, 0.08244253, 0.08545977, 0.08738506, 0.08301724,\n",
              "       0.08267241, 0.08350575, 0.08623563, 0.08666667, 0.08278736,\n",
              "       0.08252874, 0.07818966, 0.07841954, 0.08235632, 0.08278736,\n",
              "       0.08735632, 0.08853448, 0.08609195, 0.08537356, 0.08295977,\n",
              "       0.08609195, 0.08775862, 0.08451149, 0.08494253, 0.08261494,\n",
              "       0.08189655, 0.08497126, 0.08557471, 0.08928161, 0.08994253,\n",
              "       0.08543103, 0.08451149, 0.08537356, 0.08795977, 0.09422414,\n",
              "       0.09658046, 0.09454023, 0.08991379, 0.08979885, 0.08439655,\n",
              "       0.08307471, 0.08238506, 0.08100575, 0.07873563, 0.07801724,\n",
              "       0.07557471, 0.07571839, 0.08488506, 0.08077586, 0.07775862,\n",
              "       0.08272989, 0.08364943, 0.08238506, 0.0870977 , 0.08606322,\n",
              "       0.07890805, 0.07692529, 0.07479885, 0.07474138, 0.0741092 ,\n",
              "       0.0712931 , 0.07008621, 0.07387931, 0.07548851, 0.07416667,\n",
              "       0.07439655, 0.07186782, 0.06841954, 0.06994253, 0.0712931 ,\n",
              "       0.07068966, 0.07043103, 0.07031609, 0.07577586, 0.0775    ,\n",
              "       0.07632184, 0.07807471, 0.07543103, 0.07692529, 0.0758908 ,\n",
              "       0.0762931 , 0.06968391, 0.0687069 , 0.06804598, 0.07020115,\n",
              "       0.07178161, 0.07287356, 0.07416667, 0.07416667, 0.07172414,\n",
              "       0.07083333, 0.0687069 , 0.06899425, 0.06775862, 0.06433908,\n",
              "       0.06172414, 0.05764368, 0.05864943, 0.05307471, 0.05163793,\n",
              "       0.04856322, 0.04327586, 0.0433908 , 0.0412931 , 0.0441954 ,\n",
              "       0.04741379, 0.04511494, 0.04824713, 0.04770115, 0.0487931 ,\n",
              "       0.04606322, 0.04600575, 0.04278736, 0.04462644, 0.04543103,\n",
              "       0.04112069, 0.03925287, 0.03942529, 0.04195402, 0.03997126,\n",
              "       0.04028736, 0.04387931, 0.04218391, 0.04514368, 0.04770115,\n",
              "       0.0495977 , 0.04692529, 0.04686782, 0.04772989, 0.0445977 ,\n",
              "       0.04347701, 0.05416667, 0.06149425, 0.05520115, 0.0516092 ,\n",
              "       0.05278736, 0.05204023, 0.04887931, 0.04931034, 0.04583333,\n",
              "       0.04479885, 0.04014368, 0.03896552, 0.03962644, 0.04307471,\n",
              "       0.04543103, 0.04652299, 0.04465517, 0.04525862, 0.04554598,\n",
              "       0.04594828, 0.04531609, 0.04548851, 0.04494253, 0.04336207,\n",
              "       0.05198276, 0.05229885, 0.05204023, 0.05376437, 0.06258621,\n",
              "       0.06218391, 0.06054598, 0.06255747, 0.06353448, 0.06166667,\n",
              "       0.0625    , 0.05962644, 0.05979885, 0.06045977, 0.06028736,\n",
              "       0.06112069, 0.0591954 , 0.06152299, 0.06612069, 0.06715517,\n",
              "       0.06433908, 0.06836207, 0.07100575, 0.07097701, 0.06985632,\n",
              "       0.06784483, 0.06658046, 0.06364943, 0.06525862, 0.06505747,\n",
              "       0.06255747, 0.0641954 , 0.06807471, 0.06566092, 0.06646552,\n",
              "       0.0691954 , 0.06968391, 0.06942529, 0.07163793, 0.07002874,\n",
              "       0.07244253, 0.07204023, 0.0733046 , 0.07301724, 0.0733046 ,\n",
              "       0.07531609, 0.075     , 0.07172414, 0.07137931, 0.06813218,\n",
              "       0.07658046, 0.07704023, 0.07698276, 0.07933908, 0.07899425,\n",
              "       0.07867816, 0.07678161, 0.07416667, 0.07181034, 0.0708908 ,\n",
              "       0.07068966, 0.07353448, 0.06893678, 0.06655172, 0.06818966,\n",
              "       0.06675287, 0.06497126, 0.06399425, 0.06152299, 0.06537356,\n",
              "       0.07224138, 0.07560345, 0.07704023, 0.07692529, 0.08479885,\n",
              "       0.0858908 , 0.08543103, 0.08666667, 0.0833046 , 0.08229885,\n",
              "       0.08278736, 0.0804023 , 0.07586207, 0.06945402, 0.06767241,\n",
              "       0.06497126, 0.05721264, 0.05778736, 0.05928161, 0.0591092 ,\n",
              "       0.06137931, 0.05405172, 0.04925287, 0.04744253, 0.03928161,\n",
              "       0.04137931, 0.03517241, 0.02732759, 0.02022989, 0.01307471,\n",
              "       0.01905172, 0.01051724, 0.00520115, 0.00577586, 0.0066092 ,\n",
              "       0.00603448, 0.00143678, 0.0037069 , 0.        , 0.00126437,\n",
              "       0.00798851, 0.01425287, 0.01382184, 0.01520115, 0.01666667,\n",
              "       0.01646552, 0.01948276, 0.0212931 , 0.01060345, 0.00979885,\n",
              "       0.0116954 , 0.00778736, 0.00844828, 0.00824713, 0.01175287,\n",
              "       0.02456897, 0.01436782, 0.01477011, 0.01341954, 0.01612069,\n",
              "       0.01761494, 0.0175    , 0.01933908, 0.02474138, 0.01979885,\n",
              "       0.01922414, 0.01738506, 0.01551724, 0.01554598, 0.0166092 ,\n",
              "       0.01353448, 0.01856322, 0.02474138, 0.0245977 , 0.02270115,\n",
              "       0.03071839, 0.02977011, 0.02979885, 0.0283046 , 0.03244253,\n",
              "       0.03221264, 0.03043103, 0.02640805, 0.0258046 , 0.02543103,\n",
              "       0.02327586, 0.02873563, 0.02787356, 0.02764368, 0.02954023,\n",
              "       0.03100575, 0.0333046 , 0.03551724, 0.02954023, 0.02962644,\n",
              "       0.02701149, 0.02853448, 0.02706897, 0.02818966, 0.02905172,\n",
              "       0.02833333, 0.02804598, 0.03221264, 0.03264368, 0.02876437,\n",
              "       0.03094828, 0.03014368, 0.03097701, 0.03215517, 0.03784483,\n",
              "       0.03614943, 0.03724138, 0.0391092 , 0.0370977 , 0.03772989,\n",
              "       0.03594828, 0.04011494, 0.04310345, 0.04367816, 0.04327586,\n",
              "       0.04568966, 0.04787356, 0.05186782, 0.05402299, 0.05462644,\n",
              "       0.05770115, 0.06295977, 0.06433908, 0.06784483, 0.06974138,\n",
              "       0.07201149, 0.07658046, 0.07698276, 0.07962644, 0.08163793,\n",
              "       0.0812069 , 0.0812069 , 0.08097701, 0.08321839, 0.08264368,\n",
              "       0.07804598, 0.08192529, 0.08508621, 0.08614943, 0.08350575,\n",
              "       0.08149425, 0.08186782, 0.08192529, 0.08293103, 0.08221264,\n",
              "       0.08505747, 0.0854023 , 0.08376437, 0.0820977 , 0.08482759,\n",
              "       0.08295977, 0.07425287, 0.0741092 , 0.0683908 , 0.07155172,\n",
              "       0.07635057, 0.08094828, 0.07988506, 0.08086207, 0.08393678,\n",
              "       0.08566092, 0.08497126, 0.08761494, 0.08758621, 0.08560345,\n",
              "       0.08341954, 0.08393678, 0.08721264, 0.09568966, 0.09893678,\n",
              "       0.09991379, 0.1025    , 0.10408046, 0.10422414, 0.09761494,\n",
              "       0.09568966, 0.09724138, 0.09344828, 0.09594828, 0.09543103,\n",
              "       0.09778736, 0.09928161, 0.10514368, 0.10614943, 0.10818966,\n",
              "       0.11017241, 0.11425287, 0.11405172, 0.11396552, 0.11436782,\n",
              "       0.11755747, 0.11497126, 0.11517241, 0.11094828, 0.11284483,\n",
              "       0.11281609, 0.11491379, 0.12428161])"
            ]
          },
          "metadata": {
            "tags": []
          },
          "execution_count": 137
        }
      ]
    },
    {
      "cell_type": "markdown",
      "metadata": {
        "id": "xj3Uci-ixrvN"
      },
      "source": [
        "# Now to check for common inner dynamics between National Stock Exchange and New York Stock Exchange"
      ]
    },
    {
      "cell_type": "code",
      "metadata": {
        "id": "3svgpF2x2t-C"
      },
      "source": [
        "df = pd.read_csv('drive/MyDrive/AT&T.csv')"
      ],
      "execution_count": null,
      "outputs": []
    },
    {
      "cell_type": "code",
      "metadata": {
        "id": "besWXnJl2xYe"
      },
      "source": [
        "df = df.drop(columns=['Date','Name'])"
      ],
      "execution_count": null,
      "outputs": []
    },
    {
      "cell_type": "code",
      "metadata": {
        "colab": {
          "base_uri": "https://localhost:8080/",
          "height": 194
        },
        "id": "yvroZK3h2zJI",
        "outputId": "49f221bd-aaa5-49c6-e8ec-8aabf62d46c9"
      },
      "source": [
        "df.head()"
      ],
      "execution_count": null,
      "outputs": [
        {
          "output_type": "execute_result",
          "data": {
            "text/html": [
              "<div>\n",
              "<style scoped>\n",
              "    .dataframe tbody tr th:only-of-type {\n",
              "        vertical-align: middle;\n",
              "    }\n",
              "\n",
              "    .dataframe tbody tr th {\n",
              "        vertical-align: top;\n",
              "    }\n",
              "\n",
              "    .dataframe thead th {\n",
              "        text-align: right;\n",
              "    }\n",
              "</style>\n",
              "<table border=\"1\" class=\"dataframe\">\n",
              "  <thead>\n",
              "    <tr style=\"text-align: right;\">\n",
              "      <th></th>\n",
              "      <th>Open</th>\n",
              "      <th>Close</th>\n",
              "      <th>Low</th>\n",
              "      <th>High</th>\n",
              "      <th>Volume</th>\n",
              "    </tr>\n",
              "  </thead>\n",
              "  <tbody>\n",
              "    <tr>\n",
              "      <th>0</th>\n",
              "      <td>48.5625</td>\n",
              "      <td>47.0000</td>\n",
              "      <td>46.6250</td>\n",
              "      <td>49.00</td>\n",
              "      <td>5791900</td>\n",
              "    </tr>\n",
              "    <tr>\n",
              "      <th>1</th>\n",
              "      <td>47.0625</td>\n",
              "      <td>44.2500</td>\n",
              "      <td>43.5000</td>\n",
              "      <td>47.75</td>\n",
              "      <td>7173600</td>\n",
              "    </tr>\n",
              "    <tr>\n",
              "      <th>2</th>\n",
              "      <td>45.0000</td>\n",
              "      <td>44.9375</td>\n",
              "      <td>44.4375</td>\n",
              "      <td>45.25</td>\n",
              "      <td>9090000</td>\n",
              "    </tr>\n",
              "    <tr>\n",
              "      <th>3</th>\n",
              "      <td>44.5625</td>\n",
              "      <td>43.7500</td>\n",
              "      <td>43.1250</td>\n",
              "      <td>45.00</td>\n",
              "      <td>7153600</td>\n",
              "    </tr>\n",
              "    <tr>\n",
              "      <th>4</th>\n",
              "      <td>44.5625</td>\n",
              "      <td>44.1250</td>\n",
              "      <td>43.3750</td>\n",
              "      <td>44.75</td>\n",
              "      <td>5885600</td>\n",
              "    </tr>\n",
              "  </tbody>\n",
              "</table>\n",
              "</div>"
            ],
            "text/plain": [
              "      Open    Close      Low   High   Volume\n",
              "0  48.5625  47.0000  46.6250  49.00  5791900\n",
              "1  47.0625  44.2500  43.5000  47.75  7173600\n",
              "2  45.0000  44.9375  44.4375  45.25  9090000\n",
              "3  44.5625  43.7500  43.1250  45.00  7153600\n",
              "4  44.5625  44.1250  43.3750  44.75  5885600"
            ]
          },
          "metadata": {
            "tags": []
          },
          "execution_count": 140
        }
      ]
    },
    {
      "cell_type": "code",
      "metadata": {
        "colab": {
          "base_uri": "https://localhost:8080/",
          "height": 623
        },
        "id": "LMRzIczA21HS",
        "outputId": "459ad11d-98f7-4e98-fe82-37fed1314261"
      },
      "source": [
        "plt.figure(figsize=(10,10))\n",
        "plt.plot(df['Close'])\n",
        "plt.title(\"AT&T Closing Price\")"
      ],
      "execution_count": null,
      "outputs": [
        {
          "output_type": "execute_result",
          "data": {
            "text/plain": [
              "Text(0.5, 1.0, 'AT&T Closing Price')"
            ]
          },
          "metadata": {
            "tags": []
          },
          "execution_count": 141
        },
        {
          "output_type": "display_data",
          "data": {
            "image/png": "[encoded data removed]",
            "text/plain": [
              "<Figure size 720x720 with 1 Axes>"
            ]
          },
          "metadata": {
            "tags": [],
            "needs_background": "light"
          }
        }
      ]
    },
    {
      "cell_type": "code",
      "metadata": {
        "id": "efvnn1op247T"
      },
      "source": [
        "scaler = MinMaxScaler(feature_range=(0,1))\n",
        "df = scaler.fit_transform(df) \n",
        "\n",
        "y_close = df[:,1]"
      ],
      "execution_count": null,
      "outputs": []
    },
    {
      "cell_type": "code",
      "metadata": {
        "colab": {
          "base_uri": "https://localhost:8080/",
          "height": 605
        },
        "id": "1S9j1OUq29S8",
        "outputId": "cbc3048d-a58f-4b85-e4a6-8b6616ffcd6b"
      },
      "source": [
        "plt.figure(figsize=(10,10))\n",
        "plt.plot(y_close)\n",
        "plt.title(\"Normalized AT&T Closing Price\")\n",
        "plt.show()"
      ],
      "execution_count": null,
      "outputs": [
        {
          "output_type": "display_data",
          "data": {
            "image/png": "[encoded data removed]",
            "text/plain": [
              "<Figure size 720x720 with 1 Axes>"
            ]
          },
          "metadata": {
            "tags": [],
            "needs_background": "light"
          }
        }
      ]
    },
    {
      "cell_type": "code",
      "metadata": {
        "id": "haaS92zn2-8F"
      },
      "source": [
        "ntrain = int(len(y_close)*0.8) \n",
        "\n",
        "train = df[0:ntrain]\n",
        "test  = df[ntrain:len(df)]\n",
        "\n",
        "y_close_train = y_close[0:ntrain]\n",
        "y_close_test  = y_close[ntrain:len(y_close)]"
      ],
      "execution_count": null,
      "outputs": []
    },
    {
      "cell_type": "code",
      "metadata": {
        "colab": {
          "base_uri": "https://localhost:8080/"
        },
        "id": "efUnwz_K3E6H",
        "outputId": "ee7b97c5-30df-4190-b0a0-48ded702fcc2"
      },
      "source": [
        "y_close_test.shape"
      ],
      "execution_count": null,
      "outputs": [
        {
          "output_type": "execute_result",
          "data": {
            "text/plain": [
              "(1050,)"
            ]
          },
          "metadata": {
            "tags": []
          },
          "execution_count": 145
        }
      ]
    },
    {
      "cell_type": "code",
      "metadata": {
        "colab": {
          "base_uri": "https://localhost:8080/"
        },
        "id": "ika7Sf2q3GeW",
        "outputId": "ae0de636-10c8-44fd-fac2-a1d0b7ac266e"
      },
      "source": [
        "\n",
        "def to_sequences(seq_size, data,close):\n",
        "    x = []\n",
        "    y = []\n",
        "\n",
        "    for i in range(len(data)-seq_size-1):\n",
        "        window = data[i:(i+seq_size)]\n",
        "        after_window = close[i+seq_size]\n",
        "        window = [[x] for x in window]\n",
        "        x.append(window)\n",
        "        y.append(after_window)\n",
        "        \n",
        "    return np.array(x),np.array(y)\n",
        "\n",
        "\n",
        "timesteps = 10\n",
        "\n",
        "x_train, y_train = to_sequences(timesteps, train, y_close_train)\n",
        "x_test, y_test   = to_sequences(timesteps, test, y_close_test)\n",
        "\n",
        "print(\"Shape of x_train: {}\".format(x_train.shape))\n",
        "print(\"Shape of x_test: {}\".format(x_test.shape))\n",
        "print(\"Shape of y_train: {}\".format(y_train.shape))\n",
        "print(\"Shape of y_test: {}\".format(y_test.shape))\n"
      ],
      "execution_count": null,
      "outputs": [
        {
          "output_type": "stream",
          "text": [
            "Shape of x_train: (4188, 10, 1, 5)\n",
            "Shape of x_test: (1039, 10, 1, 5)\n",
            "Shape of y_train: (4188,)\n",
            "Shape of y_test: (1039,)\n"
          ],
          "name": "stdout"
        }
      ]
    },
    {
      "cell_type": "code",
      "metadata": {
        "colab": {
          "base_uri": "https://localhost:8080/"
        },
        "id": "UNbxPpX63IMS",
        "outputId": "cc0457da-8533-4542-d4f1-3cc4858352ad"
      },
      "source": [
        "x_train[0]"
      ],
      "execution_count": null,
      "outputs": [
        {
          "output_type": "execute_result",
          "data": {
            "text/plain": [
              "array([[[0.75420898, 0.70633299, 0.72213195, 0.74683544, 0.02091151]],\n",
              "\n",
              "       [[0.71565352, 0.63610827, 0.64088398, 0.71518987, 0.02805822]],\n",
              "\n",
              "       [[0.66263977, 0.65366445, 0.66525837, 0.65189873, 0.03797062]],\n",
              "\n",
              "       [[0.65139443, 0.62334014, 0.63113422, 0.64556962, 0.02795477]],\n",
              "\n",
              "       [[0.65139443, 0.63291624, 0.63763406, 0.63924051, 0.02139617]],\n",
              "\n",
              "       [[0.65621386, 0.6488764 , 0.66038349, 0.64556962, 0.02777426]],\n",
              "\n",
              "       [[0.65460739, 0.63291624, 0.64900877, 0.64398734, 0.0244334 ]],\n",
              "\n",
              "       [[0.62408432, 0.57386364, 0.58888528, 0.60917722, 0.03709131]],\n",
              "\n",
              "       [[0.59516773, 0.54832737, 0.56938577, 0.59335443, 0.0336258 ]],\n",
              "\n",
              "       [[0.56625114, 0.57865169, 0.54988625, 0.56962025, 0.04209975]]])"
            ]
          },
          "metadata": {
            "tags": []
          },
          "execution_count": 147
        }
      ]
    },
    {
      "cell_type": "code",
      "metadata": {
        "id": "IP9HNG3d3LCC"
      },
      "source": [
        "x_train = np.reshape(x_train,(x_train.shape[0], x_train.shape[2], x_train.shape[1],x_train.shape[3]))\n",
        "x_test = np.reshape(x_test,(x_test.shape[0],x_test.shape[2],x_test.shape[1],x_test.shape[3]))"
      ],
      "execution_count": null,
      "outputs": []
    },
    {
      "cell_type": "code",
      "metadata": {
        "colab": {
          "base_uri": "https://localhost:8080/"
        },
        "id": "Kefxr8pr3Mop",
        "outputId": "28158272-e607-4233-e320-d1dea2807426"
      },
      "source": [
        "print(x_train.shape)"
      ],
      "execution_count": null,
      "outputs": [
        {
          "output_type": "stream",
          "text": [
            "(4188, 1, 10, 5)\n"
          ],
          "name": "stdout"
        }
      ]
    },
    {
      "cell_type": "code",
      "metadata": {
        "colab": {
          "base_uri": "https://localhost:8080/"
        },
        "id": "mDQNJ7gn3Q49",
        "outputId": "91a2433f-4226-4124-be7a-2975ee485b78"
      },
      "source": [
        "cnn.load_weights('CNN_Parameters.hdf5')\n",
        "\n",
        "pred = cnn.predict(x_test)\n",
        "print(pred.shape)"
      ],
      "execution_count": null,
      "outputs": [
        {
          "output_type": "stream",
          "text": [
            "(1039, 1)\n"
          ],
          "name": "stdout"
        }
      ]
    },
    {
      "cell_type": "code",
      "metadata": {
        "colab": {
          "base_uri": "https://localhost:8080/"
        },
        "id": "SYXGreNt3Skd",
        "outputId": "812cb1ec-8968-4dbe-843e-1e4fd2f14fd3"
      },
      "source": [
        "score = np.sqrt(metrics.mean_squared_error(y_test, pred))\n",
        "print(\"RMSE Score: {}\".format(score))"
      ],
      "execution_count": null,
      "outputs": [
        {
          "output_type": "stream",
          "text": [
            "RMSE Score: 0.024874078156142832\n"
          ],
          "name": "stdout"
        }
      ]
    },
    {
      "cell_type": "code",
      "metadata": {
        "colab": {
          "base_uri": "https://localhost:8080/",
          "height": 605
        },
        "id": "o3JGeHCw3X2K",
        "outputId": "be6ee781-be08-468d-95a3-596972be74c7"
      },
      "source": [
        "plt.figure(figsize=(15,10))\n",
        "\n",
        "plt.plot(y_test, label = 'Actual Closing Price')\n",
        "plt.plot(pred,   label = 'Predicted Closing Price')\n",
        "plt.title(\"AT&T\")\n",
        "plt.legend()\n",
        "plt.show()"
      ],
      "execution_count": null,
      "outputs": [
        {
          "output_type": "display_data",
          "data": {
            "image/png": "[encoded data removed]",
            "text/plain": [
              "<Figure size 1080x720 with 1 Axes>"
            ]
          },
          "metadata": {
            "tags": [],
            "needs_background": "light"
          }
        }
      ]
    },
    {
      "cell_type": "code",
      "metadata": {
        "id": "Y3CgZxRw3bF1"
      },
      "source": [
        ""
      ],
      "execution_count": null,
      "outputs": []
    },
    {
      "cell_type": "markdown",
      "metadata": {
        "id": "qDU4oTE53eOe"
      },
      "source": [
        "**Thank You**"
      ]
    },
    {
      "cell_type": "code",
      "metadata": {
        "id": "TWiVegLW3h_l"
      },
      "source": [
        ""
      ],
      "execution_count": null,
      "outputs": []
    }
  ]
}